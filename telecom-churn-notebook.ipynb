{
 "cells": [
  {
   "cell_type": "code",
   "execution_count": 334,
   "id": "f24bd549",
   "metadata": {},
   "outputs": [],
   "source": [
    "# importing libraries\n",
    "import pandas as pd\n",
    "import numpy as np\n",
    "import seaborn as sns\n",
    "import matplotlib.pyplot as plt\n",
    "\n",
    "# hide warnings\n",
    "import warnings\n",
    "warnings.filterwarnings('ignore')"
   ]
  },
  {
   "cell_type": "code",
   "execution_count": 335,
   "id": "f9332470",
   "metadata": {},
   "outputs": [],
   "source": [
    "# getting train data\n",
    "data = pd.read_csv(\"data/train.csv\")"
   ]
  },
  {
   "cell_type": "code",
   "execution_count": 336,
   "id": "c0bacd38",
   "metadata": {},
   "outputs": [
    {
     "data": {
      "text/html": [
       "<div>\n",
       "<style scoped>\n",
       "    .dataframe tbody tr th:only-of-type {\n",
       "        vertical-align: middle;\n",
       "    }\n",
       "\n",
       "    .dataframe tbody tr th {\n",
       "        vertical-align: top;\n",
       "    }\n",
       "\n",
       "    .dataframe thead th {\n",
       "        text-align: right;\n",
       "    }\n",
       "</style>\n",
       "<table border=\"1\" class=\"dataframe\">\n",
       "  <thead>\n",
       "    <tr style=\"text-align: right;\">\n",
       "      <th></th>\n",
       "      <th>id</th>\n",
       "      <th>circle_id</th>\n",
       "      <th>loc_og_t2o_mou</th>\n",
       "      <th>std_og_t2o_mou</th>\n",
       "      <th>loc_ic_t2o_mou</th>\n",
       "      <th>last_date_of_month_6</th>\n",
       "      <th>last_date_of_month_7</th>\n",
       "      <th>last_date_of_month_8</th>\n",
       "      <th>arpu_6</th>\n",
       "      <th>arpu_7</th>\n",
       "      <th>...</th>\n",
       "      <th>sachet_3g_7</th>\n",
       "      <th>sachet_3g_8</th>\n",
       "      <th>fb_user_6</th>\n",
       "      <th>fb_user_7</th>\n",
       "      <th>fb_user_8</th>\n",
       "      <th>aon</th>\n",
       "      <th>aug_vbc_3g</th>\n",
       "      <th>jul_vbc_3g</th>\n",
       "      <th>jun_vbc_3g</th>\n",
       "      <th>churn_probability</th>\n",
       "    </tr>\n",
       "  </thead>\n",
       "  <tbody>\n",
       "    <tr>\n",
       "      <th>0</th>\n",
       "      <td>0</td>\n",
       "      <td>109</td>\n",
       "      <td>0.0</td>\n",
       "      <td>0.0</td>\n",
       "      <td>0.0</td>\n",
       "      <td>6/30/2014</td>\n",
       "      <td>7/31/2014</td>\n",
       "      <td>8/31/2014</td>\n",
       "      <td>31.277</td>\n",
       "      <td>87.009</td>\n",
       "      <td>...</td>\n",
       "      <td>0</td>\n",
       "      <td>0</td>\n",
       "      <td>NaN</td>\n",
       "      <td>NaN</td>\n",
       "      <td>NaN</td>\n",
       "      <td>1958</td>\n",
       "      <td>0.0</td>\n",
       "      <td>0.0</td>\n",
       "      <td>0.0</td>\n",
       "      <td>0</td>\n",
       "    </tr>\n",
       "    <tr>\n",
       "      <th>1</th>\n",
       "      <td>1</td>\n",
       "      <td>109</td>\n",
       "      <td>0.0</td>\n",
       "      <td>0.0</td>\n",
       "      <td>0.0</td>\n",
       "      <td>6/30/2014</td>\n",
       "      <td>7/31/2014</td>\n",
       "      <td>8/31/2014</td>\n",
       "      <td>0.000</td>\n",
       "      <td>122.787</td>\n",
       "      <td>...</td>\n",
       "      <td>0</td>\n",
       "      <td>0</td>\n",
       "      <td>NaN</td>\n",
       "      <td>1.0</td>\n",
       "      <td>NaN</td>\n",
       "      <td>710</td>\n",
       "      <td>0.0</td>\n",
       "      <td>0.0</td>\n",
       "      <td>0.0</td>\n",
       "      <td>0</td>\n",
       "    </tr>\n",
       "    <tr>\n",
       "      <th>2</th>\n",
       "      <td>2</td>\n",
       "      <td>109</td>\n",
       "      <td>0.0</td>\n",
       "      <td>0.0</td>\n",
       "      <td>0.0</td>\n",
       "      <td>6/30/2014</td>\n",
       "      <td>7/31/2014</td>\n",
       "      <td>8/31/2014</td>\n",
       "      <td>60.806</td>\n",
       "      <td>103.176</td>\n",
       "      <td>...</td>\n",
       "      <td>0</td>\n",
       "      <td>0</td>\n",
       "      <td>NaN</td>\n",
       "      <td>NaN</td>\n",
       "      <td>NaN</td>\n",
       "      <td>882</td>\n",
       "      <td>0.0</td>\n",
       "      <td>0.0</td>\n",
       "      <td>0.0</td>\n",
       "      <td>0</td>\n",
       "    </tr>\n",
       "    <tr>\n",
       "      <th>3</th>\n",
       "      <td>3</td>\n",
       "      <td>109</td>\n",
       "      <td>0.0</td>\n",
       "      <td>0.0</td>\n",
       "      <td>0.0</td>\n",
       "      <td>6/30/2014</td>\n",
       "      <td>7/31/2014</td>\n",
       "      <td>8/31/2014</td>\n",
       "      <td>156.362</td>\n",
       "      <td>205.260</td>\n",
       "      <td>...</td>\n",
       "      <td>0</td>\n",
       "      <td>0</td>\n",
       "      <td>NaN</td>\n",
       "      <td>NaN</td>\n",
       "      <td>NaN</td>\n",
       "      <td>982</td>\n",
       "      <td>0.0</td>\n",
       "      <td>0.0</td>\n",
       "      <td>0.0</td>\n",
       "      <td>0</td>\n",
       "    </tr>\n",
       "    <tr>\n",
       "      <th>4</th>\n",
       "      <td>4</td>\n",
       "      <td>109</td>\n",
       "      <td>0.0</td>\n",
       "      <td>0.0</td>\n",
       "      <td>0.0</td>\n",
       "      <td>6/30/2014</td>\n",
       "      <td>7/31/2014</td>\n",
       "      <td>8/31/2014</td>\n",
       "      <td>240.708</td>\n",
       "      <td>128.191</td>\n",
       "      <td>...</td>\n",
       "      <td>1</td>\n",
       "      <td>0</td>\n",
       "      <td>1.0</td>\n",
       "      <td>1.0</td>\n",
       "      <td>1.0</td>\n",
       "      <td>647</td>\n",
       "      <td>0.0</td>\n",
       "      <td>0.0</td>\n",
       "      <td>0.0</td>\n",
       "      <td>0</td>\n",
       "    </tr>\n",
       "  </tbody>\n",
       "</table>\n",
       "<p>5 rows × 172 columns</p>\n",
       "</div>"
      ],
      "text/plain": [
       "   id  circle_id  loc_og_t2o_mou  std_og_t2o_mou  loc_ic_t2o_mou  \\\n",
       "0   0        109             0.0             0.0             0.0   \n",
       "1   1        109             0.0             0.0             0.0   \n",
       "2   2        109             0.0             0.0             0.0   \n",
       "3   3        109             0.0             0.0             0.0   \n",
       "4   4        109             0.0             0.0             0.0   \n",
       "\n",
       "  last_date_of_month_6 last_date_of_month_7 last_date_of_month_8   arpu_6  \\\n",
       "0            6/30/2014            7/31/2014            8/31/2014   31.277   \n",
       "1            6/30/2014            7/31/2014            8/31/2014    0.000   \n",
       "2            6/30/2014            7/31/2014            8/31/2014   60.806   \n",
       "3            6/30/2014            7/31/2014            8/31/2014  156.362   \n",
       "4            6/30/2014            7/31/2014            8/31/2014  240.708   \n",
       "\n",
       "    arpu_7  ...  sachet_3g_7  sachet_3g_8  fb_user_6  fb_user_7  fb_user_8  \\\n",
       "0   87.009  ...            0            0        NaN        NaN        NaN   \n",
       "1  122.787  ...            0            0        NaN        1.0        NaN   \n",
       "2  103.176  ...            0            0        NaN        NaN        NaN   \n",
       "3  205.260  ...            0            0        NaN        NaN        NaN   \n",
       "4  128.191  ...            1            0        1.0        1.0        1.0   \n",
       "\n",
       "    aon  aug_vbc_3g  jul_vbc_3g  jun_vbc_3g  churn_probability  \n",
       "0  1958         0.0         0.0         0.0                  0  \n",
       "1   710         0.0         0.0         0.0                  0  \n",
       "2   882         0.0         0.0         0.0                  0  \n",
       "3   982         0.0         0.0         0.0                  0  \n",
       "4   647         0.0         0.0         0.0                  0  \n",
       "\n",
       "[5 rows x 172 columns]"
      ]
     },
     "execution_count": 336,
     "metadata": {},
     "output_type": "execute_result"
    }
   ],
   "source": [
    "data.head()"
   ]
  },
  {
   "cell_type": "code",
   "execution_count": 337,
   "id": "a5394db7",
   "metadata": {},
   "outputs": [
    {
     "data": {
      "text/plain": [
       "(69999, 172)"
      ]
     },
     "execution_count": 337,
     "metadata": {},
     "output_type": "execute_result"
    }
   ],
   "source": [
    "data.shape"
   ]
  },
  {
   "cell_type": "code",
   "execution_count": 338,
   "id": "e4b1260a",
   "metadata": {},
   "outputs": [
    {
     "name": "stdout",
     "output_type": "stream",
     "text": [
      "<class 'pandas.core.frame.DataFrame'>\n",
      "RangeIndex: 69999 entries, 0 to 69998\n",
      "Columns: 172 entries, id to churn_probability\n",
      "dtypes: float64(135), int64(28), object(9)\n",
      "memory usage: 91.9+ MB\n"
     ]
    }
   ],
   "source": [
    "data.info()"
   ]
  },
  {
   "cell_type": "markdown",
   "id": "d1639ca8",
   "metadata": {},
   "source": [
    "The train dataset contains a total of 172 columns out of which 135 are of float64, 28 are of int64 and 9 of object types."
   ]
  },
  {
   "cell_type": "markdown",
   "id": "ee73f1a2",
   "metadata": {},
   "source": [
    "## Data Pre-processing\n",
    "\n",
    "### Handling missing values and unnecessary columns"
   ]
  },
  {
   "cell_type": "code",
   "execution_count": 339,
   "id": "ab049a2c",
   "metadata": {},
   "outputs": [],
   "source": [
    "# creating a function for getting percentage of null values in columns having atleast 1 null value and storing in a dataframe\n",
    "def getNullColumns(df):\n",
    "    null_columns= pd.DataFrame(round(df[df.columns[df.isnull().any()]].isnull().sum() * 100 / df.shape[0],2)).reset_index()\n",
    "    null_columns.columns=[\"columns\",\"null\"]\n",
    "    null_columns.shape\n",
    "    return null_columns"
   ]
  },
  {
   "cell_type": "code",
   "execution_count": 340,
   "id": "631b6538",
   "metadata": {},
   "outputs": [],
   "source": [
    "null_columns = getNullColumns(data)"
   ]
  },
  {
   "cell_type": "code",
   "execution_count": 341,
   "id": "f7d6cfb5",
   "metadata": {},
   "outputs": [
    {
     "data": {
      "text/html": [
       "<div>\n",
       "<style scoped>\n",
       "    .dataframe tbody tr th:only-of-type {\n",
       "        vertical-align: middle;\n",
       "    }\n",
       "\n",
       "    .dataframe tbody tr th {\n",
       "        vertical-align: top;\n",
       "    }\n",
       "\n",
       "    .dataframe thead th {\n",
       "        text-align: right;\n",
       "    }\n",
       "</style>\n",
       "<table border=\"1\" class=\"dataframe\">\n",
       "  <thead>\n",
       "    <tr style=\"text-align: right;\">\n",
       "      <th></th>\n",
       "      <th>columns</th>\n",
       "      <th>null</th>\n",
       "    </tr>\n",
       "  </thead>\n",
       "  <tbody>\n",
       "    <tr>\n",
       "      <th>0</th>\n",
       "      <td>loc_og_t2o_mou</td>\n",
       "      <td>1.00</td>\n",
       "    </tr>\n",
       "    <tr>\n",
       "      <th>1</th>\n",
       "      <td>std_og_t2o_mou</td>\n",
       "      <td>1.00</td>\n",
       "    </tr>\n",
       "    <tr>\n",
       "      <th>2</th>\n",
       "      <td>loc_ic_t2o_mou</td>\n",
       "      <td>1.00</td>\n",
       "    </tr>\n",
       "    <tr>\n",
       "      <th>3</th>\n",
       "      <td>last_date_of_month_7</td>\n",
       "      <td>0.57</td>\n",
       "    </tr>\n",
       "    <tr>\n",
       "      <th>4</th>\n",
       "      <td>last_date_of_month_8</td>\n",
       "      <td>1.05</td>\n",
       "    </tr>\n",
       "  </tbody>\n",
       "</table>\n",
       "</div>"
      ],
      "text/plain": [
       "                columns  null\n",
       "0        loc_og_t2o_mou  1.00\n",
       "1        std_og_t2o_mou  1.00\n",
       "2        loc_ic_t2o_mou  1.00\n",
       "3  last_date_of_month_7  0.57\n",
       "4  last_date_of_month_8  1.05"
      ]
     },
     "execution_count": 341,
     "metadata": {},
     "output_type": "execute_result"
    }
   ],
   "source": [
    "null_columns.head()"
   ]
  },
  {
   "cell_type": "code",
   "execution_count": 342,
   "id": "2985f40f",
   "metadata": {},
   "outputs": [
    {
     "data": {
      "text/html": [
       "<div>\n",
       "<style scoped>\n",
       "    .dataframe tbody tr th:only-of-type {\n",
       "        vertical-align: middle;\n",
       "    }\n",
       "\n",
       "    .dataframe tbody tr th {\n",
       "        vertical-align: top;\n",
       "    }\n",
       "\n",
       "    .dataframe thead th {\n",
       "        text-align: right;\n",
       "    }\n",
       "</style>\n",
       "<table border=\"1\" class=\"dataframe\">\n",
       "  <thead>\n",
       "    <tr style=\"text-align: right;\">\n",
       "      <th></th>\n",
       "      <th>total_rech_data_6</th>\n",
       "      <th>total_rech_data_7</th>\n",
       "      <th>total_rech_data_8</th>\n",
       "      <th>count_rech_2g_6</th>\n",
       "      <th>count_rech_2g_7</th>\n",
       "      <th>count_rech_2g_8</th>\n",
       "      <th>count_rech_3g_6</th>\n",
       "      <th>count_rech_3g_7</th>\n",
       "      <th>count_rech_3g_8</th>\n",
       "      <th>max_rech_data_6</th>\n",
       "      <th>max_rech_data_7</th>\n",
       "      <th>max_rech_data_8</th>\n",
       "      <th>av_rech_amt_data_6</th>\n",
       "      <th>av_rech_amt_data_7</th>\n",
       "      <th>av_rech_amt_data_8</th>\n",
       "    </tr>\n",
       "  </thead>\n",
       "  <tbody>\n",
       "    <tr>\n",
       "      <th>count</th>\n",
       "      <td>17568.000000</td>\n",
       "      <td>17865.000000</td>\n",
       "      <td>18417.000000</td>\n",
       "      <td>17568.000000</td>\n",
       "      <td>17865.000000</td>\n",
       "      <td>18417.000000</td>\n",
       "      <td>17568.000000</td>\n",
       "      <td>17865.000000</td>\n",
       "      <td>18417.000000</td>\n",
       "      <td>17568.000000</td>\n",
       "      <td>17865.000000</td>\n",
       "      <td>18417.000000</td>\n",
       "      <td>17568.000000</td>\n",
       "      <td>17865.000000</td>\n",
       "      <td>18417.000000</td>\n",
       "    </tr>\n",
       "    <tr>\n",
       "      <th>mean</th>\n",
       "      <td>2.467612</td>\n",
       "      <td>2.679989</td>\n",
       "      <td>2.652441</td>\n",
       "      <td>1.865323</td>\n",
       "      <td>2.056311</td>\n",
       "      <td>2.016018</td>\n",
       "      <td>0.602288</td>\n",
       "      <td>0.623678</td>\n",
       "      <td>0.636423</td>\n",
       "      <td>126.500000</td>\n",
       "      <td>126.402071</td>\n",
       "      <td>125.374925</td>\n",
       "      <td>192.831096</td>\n",
       "      <td>201.455940</td>\n",
       "      <td>196.815792</td>\n",
       "    </tr>\n",
       "    <tr>\n",
       "      <th>std</th>\n",
       "      <td>2.794610</td>\n",
       "      <td>3.073472</td>\n",
       "      <td>3.101265</td>\n",
       "      <td>2.566377</td>\n",
       "      <td>2.799916</td>\n",
       "      <td>2.728246</td>\n",
       "      <td>1.279297</td>\n",
       "      <td>1.401230</td>\n",
       "      <td>1.457058</td>\n",
       "      <td>109.352573</td>\n",
       "      <td>109.459266</td>\n",
       "      <td>109.648799</td>\n",
       "      <td>190.623115</td>\n",
       "      <td>198.346141</td>\n",
       "      <td>192.280532</td>\n",
       "    </tr>\n",
       "    <tr>\n",
       "      <th>min</th>\n",
       "      <td>1.000000</td>\n",
       "      <td>1.000000</td>\n",
       "      <td>1.000000</td>\n",
       "      <td>0.000000</td>\n",
       "      <td>0.000000</td>\n",
       "      <td>0.000000</td>\n",
       "      <td>0.000000</td>\n",
       "      <td>0.000000</td>\n",
       "      <td>0.000000</td>\n",
       "      <td>1.000000</td>\n",
       "      <td>1.000000</td>\n",
       "      <td>1.000000</td>\n",
       "      <td>1.000000</td>\n",
       "      <td>1.000000</td>\n",
       "      <td>1.000000</td>\n",
       "    </tr>\n",
       "    <tr>\n",
       "      <th>25%</th>\n",
       "      <td>1.000000</td>\n",
       "      <td>1.000000</td>\n",
       "      <td>1.000000</td>\n",
       "      <td>1.000000</td>\n",
       "      <td>1.000000</td>\n",
       "      <td>1.000000</td>\n",
       "      <td>0.000000</td>\n",
       "      <td>0.000000</td>\n",
       "      <td>0.000000</td>\n",
       "      <td>25.000000</td>\n",
       "      <td>25.000000</td>\n",
       "      <td>25.000000</td>\n",
       "      <td>82.000000</td>\n",
       "      <td>92.000000</td>\n",
       "      <td>84.000000</td>\n",
       "    </tr>\n",
       "    <tr>\n",
       "      <th>50%</th>\n",
       "      <td>1.000000</td>\n",
       "      <td>2.000000</td>\n",
       "      <td>1.000000</td>\n",
       "      <td>1.000000</td>\n",
       "      <td>1.000000</td>\n",
       "      <td>1.000000</td>\n",
       "      <td>0.000000</td>\n",
       "      <td>0.000000</td>\n",
       "      <td>0.000000</td>\n",
       "      <td>145.000000</td>\n",
       "      <td>145.000000</td>\n",
       "      <td>145.000000</td>\n",
       "      <td>154.000000</td>\n",
       "      <td>154.000000</td>\n",
       "      <td>154.000000</td>\n",
       "    </tr>\n",
       "    <tr>\n",
       "      <th>75%</th>\n",
       "      <td>3.000000</td>\n",
       "      <td>3.000000</td>\n",
       "      <td>3.000000</td>\n",
       "      <td>2.000000</td>\n",
       "      <td>2.000000</td>\n",
       "      <td>2.000000</td>\n",
       "      <td>1.000000</td>\n",
       "      <td>1.000000</td>\n",
       "      <td>1.000000</td>\n",
       "      <td>177.000000</td>\n",
       "      <td>177.000000</td>\n",
       "      <td>179.000000</td>\n",
       "      <td>252.000000</td>\n",
       "      <td>252.000000</td>\n",
       "      <td>252.000000</td>\n",
       "    </tr>\n",
       "    <tr>\n",
       "      <th>max</th>\n",
       "      <td>61.000000</td>\n",
       "      <td>54.000000</td>\n",
       "      <td>60.000000</td>\n",
       "      <td>42.000000</td>\n",
       "      <td>48.000000</td>\n",
       "      <td>44.000000</td>\n",
       "      <td>29.000000</td>\n",
       "      <td>34.000000</td>\n",
       "      <td>45.000000</td>\n",
       "      <td>1555.000000</td>\n",
       "      <td>1555.000000</td>\n",
       "      <td>1555.000000</td>\n",
       "      <td>5920.000000</td>\n",
       "      <td>4365.000000</td>\n",
       "      <td>4076.000000</td>\n",
       "    </tr>\n",
       "  </tbody>\n",
       "</table>\n",
       "</div>"
      ],
      "text/plain": [
       "       total_rech_data_6  total_rech_data_7  total_rech_data_8  \\\n",
       "count       17568.000000       17865.000000       18417.000000   \n",
       "mean            2.467612           2.679989           2.652441   \n",
       "std             2.794610           3.073472           3.101265   \n",
       "min             1.000000           1.000000           1.000000   \n",
       "25%             1.000000           1.000000           1.000000   \n",
       "50%             1.000000           2.000000           1.000000   \n",
       "75%             3.000000           3.000000           3.000000   \n",
       "max            61.000000          54.000000          60.000000   \n",
       "\n",
       "       count_rech_2g_6  count_rech_2g_7  count_rech_2g_8  count_rech_3g_6  \\\n",
       "count     17568.000000     17865.000000     18417.000000     17568.000000   \n",
       "mean          1.865323         2.056311         2.016018         0.602288   \n",
       "std           2.566377         2.799916         2.728246         1.279297   \n",
       "min           0.000000         0.000000         0.000000         0.000000   \n",
       "25%           1.000000         1.000000         1.000000         0.000000   \n",
       "50%           1.000000         1.000000         1.000000         0.000000   \n",
       "75%           2.000000         2.000000         2.000000         1.000000   \n",
       "max          42.000000        48.000000        44.000000        29.000000   \n",
       "\n",
       "       count_rech_3g_7  count_rech_3g_8  max_rech_data_6  max_rech_data_7  \\\n",
       "count     17865.000000     18417.000000     17568.000000     17865.000000   \n",
       "mean          0.623678         0.636423       126.500000       126.402071   \n",
       "std           1.401230         1.457058       109.352573       109.459266   \n",
       "min           0.000000         0.000000         1.000000         1.000000   \n",
       "25%           0.000000         0.000000        25.000000        25.000000   \n",
       "50%           0.000000         0.000000       145.000000       145.000000   \n",
       "75%           1.000000         1.000000       177.000000       177.000000   \n",
       "max          34.000000        45.000000      1555.000000      1555.000000   \n",
       "\n",
       "       max_rech_data_8  av_rech_amt_data_6  av_rech_amt_data_7  \\\n",
       "count     18417.000000        17568.000000        17865.000000   \n",
       "mean        125.374925          192.831096          201.455940   \n",
       "std         109.648799          190.623115          198.346141   \n",
       "min           1.000000            1.000000            1.000000   \n",
       "25%          25.000000           82.000000           92.000000   \n",
       "50%         145.000000          154.000000          154.000000   \n",
       "75%         179.000000          252.000000          252.000000   \n",
       "max        1555.000000         5920.000000         4365.000000   \n",
       "\n",
       "       av_rech_amt_data_8  \n",
       "count        18417.000000  \n",
       "mean           196.815792  \n",
       "std            192.280532  \n",
       "min              1.000000  \n",
       "25%             84.000000  \n",
       "50%            154.000000  \n",
       "75%            252.000000  \n",
       "max           4076.000000  "
      ]
     },
     "execution_count": 342,
     "metadata": {},
     "output_type": "execute_result"
    }
   ],
   "source": [
    "# getting description about all recharge columns\n",
    "recharge_cols = ['total_rech_data_6', 'total_rech_data_7', 'total_rech_data_8',\n",
    "                 'count_rech_2g_6', 'count_rech_2g_7', 'count_rech_2g_8',\n",
    "                 'count_rech_3g_6', 'count_rech_3g_7', 'count_rech_3g_8',\n",
    "                 'max_rech_data_6', 'max_rech_data_7', 'max_rech_data_8',\n",
    "                 'av_rech_amt_data_6', 'av_rech_amt_data_7', 'av_rech_amt_data_8'\n",
    "                 ]\n",
    "\n",
    "data[recharge_cols].describe(include='all')"
   ]
  },
  {
   "cell_type": "markdown",
   "id": "bec0993b",
   "metadata": {},
   "source": [
    "Looking above,some recharge columns have minimum value of 1 while some don't. We can replace NaN values with 0 for all recharge columns with minimum value 1 as it will indicate that the customer has not recharged."
   ]
  },
  {
   "cell_type": "code",
   "execution_count": 343,
   "id": "2985111a",
   "metadata": {},
   "outputs": [],
   "source": [
    "# create a list of recharge columns where we will impute missing values with zeroes\n",
    "zero_impute = ['total_rech_data_6', 'total_rech_data_7', 'total_rech_data_8',\n",
    "        'av_rech_amt_data_6', 'av_rech_amt_data_7', 'av_rech_amt_data_8',\n",
    "        'max_rech_data_6', 'max_rech_data_7', 'max_rech_data_8']\n",
    "# impute missing values with 0\n",
    "data[zero_impute] = data[zero_impute].apply(lambda x: x.fillna(0))"
   ]
  },
  {
   "cell_type": "code",
   "execution_count": 344,
   "id": "b7093384",
   "metadata": {},
   "outputs": [],
   "source": [
    "# calculating null columns again\n",
    "null_columns = getNullColumns(data)"
   ]
  },
  {
   "cell_type": "code",
   "execution_count": 345,
   "id": "df6764e9",
   "metadata": {},
   "outputs": [
    {
     "data": {
      "text/html": [
       "<div>\n",
       "<style scoped>\n",
       "    .dataframe tbody tr th:only-of-type {\n",
       "        vertical-align: middle;\n",
       "    }\n",
       "\n",
       "    .dataframe tbody tr th {\n",
       "        vertical-align: top;\n",
       "    }\n",
       "\n",
       "    .dataframe thead th {\n",
       "        text-align: right;\n",
       "    }\n",
       "</style>\n",
       "<table border=\"1\" class=\"dataframe\">\n",
       "  <thead>\n",
       "    <tr style=\"text-align: right;\">\n",
       "      <th></th>\n",
       "      <th>columns</th>\n",
       "      <th>null</th>\n",
       "    </tr>\n",
       "  </thead>\n",
       "  <tbody>\n",
       "    <tr>\n",
       "      <th>113</th>\n",
       "      <td>fb_user_6</td>\n",
       "      <td>74.90</td>\n",
       "    </tr>\n",
       "    <tr>\n",
       "      <th>95</th>\n",
       "      <td>date_of_last_rech_data_6</td>\n",
       "      <td>74.90</td>\n",
       "    </tr>\n",
       "    <tr>\n",
       "      <th>110</th>\n",
       "      <td>night_pck_user_6</td>\n",
       "      <td>74.90</td>\n",
       "    </tr>\n",
       "    <tr>\n",
       "      <th>107</th>\n",
       "      <td>arpu_2g_6</td>\n",
       "      <td>74.90</td>\n",
       "    </tr>\n",
       "    <tr>\n",
       "      <th>98</th>\n",
       "      <td>count_rech_2g_6</td>\n",
       "      <td>74.90</td>\n",
       "    </tr>\n",
       "    <tr>\n",
       "      <th>...</th>\n",
       "      <td>...</td>\n",
       "      <td>...</td>\n",
       "    </tr>\n",
       "    <tr>\n",
       "      <th>4</th>\n",
       "      <td>last_date_of_month_8</td>\n",
       "      <td>1.05</td>\n",
       "    </tr>\n",
       "    <tr>\n",
       "      <th>1</th>\n",
       "      <td>std_og_t2o_mou</td>\n",
       "      <td>1.00</td>\n",
       "    </tr>\n",
       "    <tr>\n",
       "      <th>2</th>\n",
       "      <td>loc_ic_t2o_mou</td>\n",
       "      <td>1.00</td>\n",
       "    </tr>\n",
       "    <tr>\n",
       "      <th>0</th>\n",
       "      <td>loc_og_t2o_mou</td>\n",
       "      <td>1.00</td>\n",
       "    </tr>\n",
       "    <tr>\n",
       "      <th>3</th>\n",
       "      <td>last_date_of_month_7</td>\n",
       "      <td>0.57</td>\n",
       "    </tr>\n",
       "  </tbody>\n",
       "</table>\n",
       "<p>116 rows × 2 columns</p>\n",
       "</div>"
      ],
      "text/plain": [
       "                      columns   null\n",
       "113                 fb_user_6  74.90\n",
       "95   date_of_last_rech_data_6  74.90\n",
       "110          night_pck_user_6  74.90\n",
       "107                 arpu_2g_6  74.90\n",
       "98            count_rech_2g_6  74.90\n",
       "..                        ...    ...\n",
       "4        last_date_of_month_8   1.05\n",
       "1              std_og_t2o_mou   1.00\n",
       "2              loc_ic_t2o_mou   1.00\n",
       "0              loc_og_t2o_mou   1.00\n",
       "3        last_date_of_month_7   0.57\n",
       "\n",
       "[116 rows x 2 columns]"
      ]
     },
     "execution_count": 345,
     "metadata": {},
     "output_type": "execute_result"
    }
   ],
   "source": [
    "null_columns.sort_values(by=\"null\",ascending=False)"
   ]
  },
  {
   "cell_type": "markdown",
   "id": "4db0b669",
   "metadata": {},
   "source": [
    "There are 116 columns with null values. Removing all columns with more than 60% missing values."
   ]
  },
  {
   "cell_type": "code",
   "execution_count": 346,
   "id": "34486216",
   "metadata": {},
   "outputs": [],
   "source": [
    "# getting index of all columns with null percentage greater than 35 and remove them\n",
    "null_35_columns = null_columns.loc[null_columns['null'] > 60,'columns']\n",
    "data = data.drop(null_35_columns,axis=1)"
   ]
  },
  {
   "cell_type": "code",
   "execution_count": 347,
   "id": "a612f5d9",
   "metadata": {},
   "outputs": [
    {
     "data": {
      "text/plain": [
       "(69999, 151)"
      ]
     },
     "execution_count": 347,
     "metadata": {},
     "output_type": "execute_result"
    }
   ],
   "source": [
    "data.shape"
   ]
  },
  {
   "cell_type": "markdown",
   "id": "439d06bc",
   "metadata": {},
   "source": [
    "Getting null columns and percentage after removing all columns with null values greater than 60%"
   ]
  },
  {
   "cell_type": "code",
   "execution_count": 348,
   "id": "8cd7e227",
   "metadata": {},
   "outputs": [],
   "source": [
    "null_columns_remain = getNullColumns(data)"
   ]
  },
  {
   "cell_type": "code",
   "execution_count": 349,
   "id": "14f7deca",
   "metadata": {},
   "outputs": [
    {
     "data": {
      "text/html": [
       "<div>\n",
       "<style scoped>\n",
       "    .dataframe tbody tr th:only-of-type {\n",
       "        vertical-align: middle;\n",
       "    }\n",
       "\n",
       "    .dataframe tbody tr th {\n",
       "        vertical-align: top;\n",
       "    }\n",
       "\n",
       "    .dataframe thead th {\n",
       "        text-align: right;\n",
       "    }\n",
       "</style>\n",
       "<table border=\"1\" class=\"dataframe\">\n",
       "  <thead>\n",
       "    <tr style=\"text-align: right;\">\n",
       "      <th></th>\n",
       "      <th>columns</th>\n",
       "      <th>null</th>\n",
       "    </tr>\n",
       "  </thead>\n",
       "  <tbody>\n",
       "    <tr>\n",
       "      <th>43</th>\n",
       "      <td>std_og_t2c_mou_8</td>\n",
       "      <td>5.29</td>\n",
       "    </tr>\n",
       "    <tr>\n",
       "      <th>31</th>\n",
       "      <td>loc_og_mou_8</td>\n",
       "      <td>5.29</td>\n",
       "    </tr>\n",
       "    <tr>\n",
       "      <th>22</th>\n",
       "      <td>loc_og_t2m_mou_8</td>\n",
       "      <td>5.29</td>\n",
       "    </tr>\n",
       "    <tr>\n",
       "      <th>64</th>\n",
       "      <td>loc_ic_t2f_mou_8</td>\n",
       "      <td>5.29</td>\n",
       "    </tr>\n",
       "    <tr>\n",
       "      <th>25</th>\n",
       "      <td>loc_og_t2f_mou_8</td>\n",
       "      <td>5.29</td>\n",
       "    </tr>\n",
       "    <tr>\n",
       "      <th>...</th>\n",
       "      <td>...</td>\n",
       "      <td>...</td>\n",
       "    </tr>\n",
       "    <tr>\n",
       "      <th>4</th>\n",
       "      <td>last_date_of_month_8</td>\n",
       "      <td>1.05</td>\n",
       "    </tr>\n",
       "    <tr>\n",
       "      <th>1</th>\n",
       "      <td>std_og_t2o_mou</td>\n",
       "      <td>1.00</td>\n",
       "    </tr>\n",
       "    <tr>\n",
       "      <th>2</th>\n",
       "      <td>loc_ic_t2o_mou</td>\n",
       "      <td>1.00</td>\n",
       "    </tr>\n",
       "    <tr>\n",
       "      <th>0</th>\n",
       "      <td>loc_og_t2o_mou</td>\n",
       "      <td>1.00</td>\n",
       "    </tr>\n",
       "    <tr>\n",
       "      <th>3</th>\n",
       "      <td>last_date_of_month_7</td>\n",
       "      <td>0.57</td>\n",
       "    </tr>\n",
       "  </tbody>\n",
       "</table>\n",
       "<p>95 rows × 2 columns</p>\n",
       "</div>"
      ],
      "text/plain": [
       "                 columns  null\n",
       "43      std_og_t2c_mou_8  5.29\n",
       "31          loc_og_mou_8  5.29\n",
       "22      loc_og_t2m_mou_8  5.29\n",
       "64      loc_ic_t2f_mou_8  5.29\n",
       "25      loc_og_t2f_mou_8  5.29\n",
       "..                   ...   ...\n",
       "4   last_date_of_month_8  1.05\n",
       "1         std_og_t2o_mou  1.00\n",
       "2         loc_ic_t2o_mou  1.00\n",
       "0         loc_og_t2o_mou  1.00\n",
       "3   last_date_of_month_7  0.57\n",
       "\n",
       "[95 rows x 2 columns]"
      ]
     },
     "execution_count": 349,
     "metadata": {},
     "output_type": "execute_result"
    }
   ],
   "source": [
    "null_columns_remain.sort_values(by=\"null\",ascending=False)"
   ]
  },
  {
   "cell_type": "markdown",
   "id": "529143c4",
   "metadata": {},
   "source": [
    "After removing high null values columns, 95 columns are left with null values and the maximum percentage of null values in a column is 5.29%"
   ]
  },
  {
   "cell_type": "code",
   "execution_count": 350,
   "id": "5c967980",
   "metadata": {},
   "outputs": [
    {
     "name": "stdout",
     "output_type": "stream",
     "text": [
      "columns with unique values less than 100 are 40\n",
      "[('circle_id', 1), ('loc_og_t2o_mou', 2), ('std_og_t2o_mou', 2), ('loc_ic_t2o_mou', 2), ('last_date_of_month_6', 1), ('last_date_of_month_7', 2), ('last_date_of_month_8', 2), ('std_og_t2c_mou_6', 2), ('std_og_t2c_mou_7', 2), ('std_og_t2c_mou_8', 2), ('std_ic_t2o_mou_6', 2), ('std_ic_t2o_mou_7', 2), ('std_ic_t2o_mou_8', 2), ('spl_ic_mou_6', 79), ('spl_ic_mou_8', 96), ('total_rech_num_6', 94), ('total_rech_num_7', 96), ('total_rech_num_8', 92), ('date_of_last_rech_6', 31), ('date_of_last_rech_7', 32), ('date_of_last_rech_8', 32), ('total_rech_data_6', 37), ('total_rech_data_7', 42), ('total_rech_data_8', 45), ('max_rech_data_6', 48), ('max_rech_data_7', 46), ('max_rech_data_8', 50), ('monthly_2g_6', 5), ('monthly_2g_7', 6), ('monthly_2g_8', 6), ('sachet_2g_6', 30), ('sachet_2g_7', 33), ('sachet_2g_8', 32), ('monthly_3g_6', 10), ('monthly_3g_7', 13), ('monthly_3g_8', 12), ('sachet_3g_6', 23), ('sachet_3g_7', 26), ('sachet_3g_8', 28), ('churn_probability', 2)]\n",
      "\n",
      " columns with unique values more than 100 and less than 20000 are 87\n",
      "[('onnet_mou_8', 19726), ('roam_ic_mou_6', 5307), ('roam_ic_mou_7', 4241), ('roam_ic_mou_8', 4253), ('roam_og_mou_6', 6569), ('roam_og_mou_7', 5306), ('roam_og_mou_8', 5216), ('loc_og_t2t_mou_6', 11492), ('loc_og_t2t_mou_7', 11360), ('loc_og_t2t_mou_8', 11297), ('loc_og_t2m_mou_6', 17849), ('loc_og_t2m_mou_7', 17642), ('loc_og_t2m_mou_8', 17617), ('loc_og_t2f_mou_6', 3377), ('loc_og_t2f_mou_7', 3366), ('loc_og_t2f_mou_8', 3312), ('loc_og_t2c_mou_6', 1946), ('loc_og_t2c_mou_7', 2104), ('loc_og_t2c_mou_8', 2205), ('std_og_t2t_mou_6', 14555), ('std_og_t2t_mou_7', 14746), ('std_og_t2t_mou_8', 14484), ('std_og_t2m_mou_6', 16060), ('std_og_t2m_mou_7', 16235), ('std_og_t2m_mou_8', 15969), ('std_og_t2f_mou_6', 2075), ('std_og_t2f_mou_7', 1992), ('std_og_t2f_mou_8', 1946), ('isd_og_mou_6', 1104), ('isd_og_mou_7', 1085), ('isd_og_mou_8', 1009), ('spl_og_mou_6', 3504), ('spl_og_mou_7', 3828), ('spl_og_mou_8', 3849), ('og_others_6', 915), ('og_others_7', 149), ('og_others_8', 180), ('loc_ic_t2t_mou_6', 11638), ('loc_ic_t2t_mou_7', 11596), ('loc_ic_t2t_mou_8', 11447), ('loc_ic_t2m_mou_6', 19035), ('loc_ic_t2m_mou_7', 18946), ('loc_ic_t2m_mou_8', 19023), ('loc_ic_t2f_mou_6', 6201), ('loc_ic_t2f_mou_7', 6288), ('loc_ic_t2f_mou_8', 6093), ('std_ic_t2t_mou_6', 5324), ('std_ic_t2t_mou_7', 5480), ('std_ic_t2t_mou_8', 5368), ('std_ic_t2m_mou_6', 7932), ('std_ic_t2m_mou_7', 8034), ('std_ic_t2m_mou_8', 7907), ('std_ic_t2f_mou_6', 2625), ('std_ic_t2f_mou_7', 2696), ('std_ic_t2f_mou_8', 2584), ('std_ic_mou_6', 9877), ('std_ic_mou_7', 10113), ('std_ic_mou_8', 9940), ('spl_ic_mou_7', 104), ('isd_ic_mou_6', 4422), ('isd_ic_mou_7', 4641), ('isd_ic_mou_8', 4695), ('ic_others_6', 1524), ('ic_others_7', 1659), ('ic_others_8', 1566), ('total_rech_amt_6', 2108), ('total_rech_amt_7', 2147), ('total_rech_amt_8', 2149), ('max_rech_amt_6', 190), ('max_rech_amt_7', 178), ('max_rech_amt_8', 202), ('last_day_rch_amt_6', 179), ('last_day_rch_amt_7', 166), ('last_day_rch_amt_8', 191), ('av_rech_amt_data_6', 793), ('av_rech_amt_data_7', 838), ('av_rech_amt_data_8', 856), ('vol_2g_mb_6', 11494), ('vol_2g_mb_7', 11443), ('vol_2g_mb_8', 11359), ('vol_3g_mb_6', 9768), ('vol_3g_mb_7', 10296), ('vol_3g_mb_8', 10663), ('aon', 3455), ('aug_vbc_3g', 10609), ('jul_vbc_3g', 10257), ('jun_vbc_3g', 9617)]\n",
      "\n",
      " columns with unique values more than 20000 are 24\n",
      "[('id', 69999), ('arpu_6', 61615), ('arpu_7', 61425), ('arpu_8', 60194), ('onnet_mou_6', 20058), ('onnet_mou_7', 20077), ('offnet_mou_6', 26255), ('offnet_mou_7', 26140), ('offnet_mou_8', 25996), ('loc_og_mou_6', 22310), ('loc_og_mou_7', 22013), ('loc_og_mou_8', 21951), ('std_og_mou_6', 21838), ('std_og_mou_7', 22089), ('std_og_mou_8', 21746), ('total_og_mou_6', 33135), ('total_og_mou_7', 33195), ('total_og_mou_8', 32897), ('loc_ic_mou_6', 24443), ('loc_ic_mou_7', 24259), ('loc_ic_mou_8', 24183), ('total_ic_mou_6', 27432), ('total_ic_mou_7', 27418), ('total_ic_mou_8', 27318)]\n"
     ]
    }
   ],
   "source": [
    "# getting unique values in each column\n",
    "lessUnique = []\n",
    "moreUnique = []\n",
    "mostUnique = []\n",
    "for col in data.columns.values:\n",
    "    size = data[col].unique().size\n",
    "    if(size < 100):\n",
    "        lessUnique.append((col,size))\n",
    "    elif(size > 100 and size < 20000):\n",
    "        moreUnique.append((col,size))\n",
    "    else:\n",
    "        mostUnique.append((col,size))\n",
    "print(\"columns with unique values less than 100 are {0}\".format(len(lessUnique)))      \n",
    "print(lessUnique)\n",
    "\n",
    "print(\"\\n columns with unique values more than 100 and less than 20000 are {0}\".format(len(moreUnique)))        \n",
    "print(moreUnique)    \n",
    "\n",
    "print(\"\\n columns with unique values more than 20000 are {0}\".format(len(mostUnique)))        \n",
    "print(mostUnique)  "
   ]
  },
  {
   "cell_type": "markdown",
   "id": "10d6b104",
   "metadata": {},
   "source": [
    "===================\n",
    "\n",
    "Looking above:\n",
    "1. 'circle_id': only 1 unique value hence can be dropped \n",
    "2.'last_date_of_month_6','last_date_of_month_7','last_date_of_month_8','std_og_t2o_mou','std_og_t2c_mou_6','std_og_t2c_mou_7','std_og_t2c_mou_8','std_ic_t2o_mou_6','std_ic_t2o_mou_7','std_ic_t2o_mou_8' have only 2 unique values i.e 0 and null. Hence, these columns can be dropped.\n",
    "3. 'id' column can be dropped as it has all unique values\n",
    "4. We can drop date columns as they will not be much of assistance in churn prediction. Hence we can remove 'date_of_last_rech_6', 'date_of_last_rech_7', 'date_of_last_rech_8'\n",
    "\n",
    "===================="
   ]
  },
  {
   "cell_type": "code",
   "execution_count": 351,
   "id": "a3b1635f",
   "metadata": {},
   "outputs": [],
   "source": [
    "data.drop(['circle_id','last_date_of_month_6','last_date_of_month_7','last_date_of_month_8','std_og_t2o_mou','std_og_t2c_mou_6','std_og_t2c_mou_7','std_og_t2c_mou_8',\n",
    "           'std_ic_t2o_mou_6','std_ic_t2o_mou_7','std_ic_t2o_mou_8','id','date_of_last_rech_6', 'date_of_last_rech_7', 'date_of_last_rech_8'],axis=1,inplace=True)"
   ]
  },
  {
   "cell_type": "code",
   "execution_count": 352,
   "id": "7c6714d5",
   "metadata": {},
   "outputs": [
    {
     "data": {
      "text/plain": [
       "(69999, 136)"
      ]
     },
     "execution_count": 352,
     "metadata": {},
     "output_type": "execute_result"
    }
   ],
   "source": [
    "data.shape"
   ]
  },
  {
   "cell_type": "markdown",
   "id": "2d254dfc",
   "metadata": {},
   "source": [
    "Now we are left with 69999 rows and 136 columns"
   ]
  },
  {
   "cell_type": "markdown",
   "id": "398d01da",
   "metadata": {},
   "source": [
    "Getting all null columns after dropping data again "
   ]
  },
  {
   "cell_type": "code",
   "execution_count": 353,
   "id": "b5bac408",
   "metadata": {},
   "outputs": [
    {
     "data": {
      "text/html": [
       "<div>\n",
       "<style scoped>\n",
       "    .dataframe tbody tr th:only-of-type {\n",
       "        vertical-align: middle;\n",
       "    }\n",
       "\n",
       "    .dataframe tbody tr th {\n",
       "        vertical-align: top;\n",
       "    }\n",
       "\n",
       "    .dataframe thead th {\n",
       "        text-align: right;\n",
       "    }\n",
       "</style>\n",
       "<table border=\"1\" class=\"dataframe\">\n",
       "  <thead>\n",
       "    <tr style=\"text-align: right;\">\n",
       "      <th></th>\n",
       "      <th>columns</th>\n",
       "      <th>null</th>\n",
       "    </tr>\n",
       "  </thead>\n",
       "  <tbody>\n",
       "    <tr>\n",
       "      <th>82</th>\n",
       "      <td>ic_others_8</td>\n",
       "      <td>5.29</td>\n",
       "    </tr>\n",
       "    <tr>\n",
       "      <th>64</th>\n",
       "      <td>std_ic_t2t_mou_8</td>\n",
       "      <td>5.29</td>\n",
       "    </tr>\n",
       "    <tr>\n",
       "      <th>37</th>\n",
       "      <td>std_og_t2f_mou_8</td>\n",
       "      <td>5.29</td>\n",
       "    </tr>\n",
       "    <tr>\n",
       "      <th>46</th>\n",
       "      <td>spl_og_mou_8</td>\n",
       "      <td>5.29</td>\n",
       "    </tr>\n",
       "    <tr>\n",
       "      <th>34</th>\n",
       "      <td>std_og_t2m_mou_8</td>\n",
       "      <td>5.29</td>\n",
       "    </tr>\n",
       "    <tr>\n",
       "      <th>...</th>\n",
       "      <td>...</td>\n",
       "      <td>...</td>\n",
       "    </tr>\n",
       "    <tr>\n",
       "      <th>27</th>\n",
       "      <td>loc_og_mou_7</td>\n",
       "      <td>3.84</td>\n",
       "    </tr>\n",
       "    <tr>\n",
       "      <th>54</th>\n",
       "      <td>loc_ic_t2m_mou_7</td>\n",
       "      <td>3.84</td>\n",
       "    </tr>\n",
       "    <tr>\n",
       "      <th>21</th>\n",
       "      <td>loc_og_t2f_mou_7</td>\n",
       "      <td>3.84</td>\n",
       "    </tr>\n",
       "    <tr>\n",
       "      <th>1</th>\n",
       "      <td>loc_ic_t2o_mou</td>\n",
       "      <td>1.00</td>\n",
       "    </tr>\n",
       "    <tr>\n",
       "      <th>0</th>\n",
       "      <td>loc_og_t2o_mou</td>\n",
       "      <td>1.00</td>\n",
       "    </tr>\n",
       "  </tbody>\n",
       "</table>\n",
       "<p>83 rows × 2 columns</p>\n",
       "</div>"
      ],
      "text/plain": [
       "             columns  null\n",
       "82       ic_others_8  5.29\n",
       "64  std_ic_t2t_mou_8  5.29\n",
       "37  std_og_t2f_mou_8  5.29\n",
       "46      spl_og_mou_8  5.29\n",
       "34  std_og_t2m_mou_8  5.29\n",
       "..               ...   ...\n",
       "27      loc_og_mou_7  3.84\n",
       "54  loc_ic_t2m_mou_7  3.84\n",
       "21  loc_og_t2f_mou_7  3.84\n",
       "1     loc_ic_t2o_mou  1.00\n",
       "0     loc_og_t2o_mou  1.00\n",
       "\n",
       "[83 rows x 2 columns]"
      ]
     },
     "execution_count": 353,
     "metadata": {},
     "output_type": "execute_result"
    }
   ],
   "source": [
    "null_columns_remain = getNullColumns(data)\n",
    "null_columns_remain.sort_values(by=\"null\",ascending=False)"
   ]
  },
  {
   "cell_type": "markdown",
   "id": "2ca25fda",
   "metadata": {},
   "source": [
    "related dictionary:\n",
    "\n",
    "1. MOU: Minutes of usage voice calls.\n",
    "2. T2F: Operator T to fixed lines of T\n",
    "3. T2M    \tOperator T to other operator mobile\n",
    "4. LOC\tLocal calls  within same telecom circle\n",
    "5. IC\tIncoming calls\n",
    "6. OG\tOutgoing calls\n",
    "7. STD\tSTD calls  outside the calling circle\n",
    "8. ONNET   \tAll kind of calls within the same operator network\n",
    "9. OFFNET    \tAll kind of calls outside the operator T network"
   ]
  },
  {
   "cell_type": "code",
   "execution_count": 354,
   "id": "6f1b6d84",
   "metadata": {},
   "outputs": [
    {
     "name": "stdout",
     "output_type": "stream",
     "text": [
      "column count with float type is 83. Column count with int type is 0 and column count with object type is 0.\n"
     ]
    }
   ],
   "source": [
    "Fcount=0\n",
    "Icount = 0\n",
    "Ocount = 0\n",
    "for cols in null_columns_remain[\"columns\"].unique():\n",
    "    if (data[cols].dtype == \"float64\"):\n",
    "        Fcount+=1\n",
    "    elif(data[cols].dtype == \"int64\"):\n",
    "        Icount+=1\n",
    "    else:\n",
    "        Ocount +=1\n",
    "        \n",
    "print(\"column count with float type is {0}. Column count with int type is {1} and column count with object type is {2}.\".format(Fcount,Icount,Ocount))"
   ]
  },
  {
   "cell_type": "markdown",
   "id": "9d53e0bc",
   "metadata": {},
   "source": [
    "All columns are of float type. MOU represents the minutes of usage voice calls. As we don't have much info on why there were missing values in MOU and all columns are of float type, we can go ahead and impute the missing values as 0."
   ]
  },
  {
   "cell_type": "code",
   "execution_count": 355,
   "id": "464873da",
   "metadata": {},
   "outputs": [],
   "source": [
    "data = data.fillna(0)"
   ]
  },
  {
   "cell_type": "markdown",
   "id": "2db3d67a",
   "metadata": {},
   "source": [
    "Getting count of null values again."
   ]
  },
  {
   "cell_type": "code",
   "execution_count": 356,
   "id": "164f9caf",
   "metadata": {},
   "outputs": [
    {
     "name": "stdout",
     "output_type": "stream",
     "text": [
      "Null rows count is: 0\n",
      "Resulting Dataset size after handling missing values and removing unwanted columns: (69999, 136)\n"
     ]
    }
   ],
   "source": [
    "null_columns_remain = getNullColumns(data)\n",
    "print(\"Null rows count is: \"+ str(null_columns_remain.shape[0]))\n",
    "print(\"Resulting Dataset size after handling missing values and removing unwanted columns: \" + str(data.shape))"
   ]
  },
  {
   "cell_type": "markdown",
   "id": "dc44b70d",
   "metadata": {},
   "source": [
    "Now there are no null values remaining in the dataset. Also, we have all rows and 136 columns remaining.Hence, we can proceed further"
   ]
  },
  {
   "cell_type": "markdown",
   "id": "5ce833ec",
   "metadata": {},
   "source": [
    "### Removing outliers"
   ]
  },
  {
   "cell_type": "code",
   "execution_count": 357,
   "id": "cdc6800b",
   "metadata": {},
   "outputs": [
    {
     "name": "stdout",
     "output_type": "stream",
     "text": [
      "['total_og_mou_6', 'total_og_mou_7', 'total_og_mou_8', 'total_ic_mou_6', 'total_ic_mou_7', 'total_ic_mou_8', 'total_rech_num_6', 'total_rech_num_7', 'total_rech_num_8', 'total_rech_amt_6', 'total_rech_amt_7', 'total_rech_amt_8', 'total_rech_data_6', 'total_rech_data_7', 'total_rech_data_8']\n"
     ]
    }
   ],
   "source": [
    "total_cols = [col for col in data.columns if 'total' in col]\n",
    "print(total_cols)"
   ]
  },
  {
   "cell_type": "code",
   "execution_count": 358,
   "id": "17ce1659",
   "metadata": {},
   "outputs": [
    {
     "data": {
      "text/plain": [
       "count    69999.000000\n",
       "mean       328.139788\n",
       "std        404.211068\n",
       "min          0.000000\n",
       "25%        110.000000\n",
       "50%        229.000000\n",
       "75%        438.000000\n",
       "90%        735.000000\n",
       "95%        998.000000\n",
       "99%       1683.020000\n",
       "max      35190.000000\n",
       "Name: total_rech_amt_6, dtype: float64"
      ]
     },
     "execution_count": 358,
     "metadata": {},
     "output_type": "execute_result"
    }
   ],
   "source": [
    "# checking outliers for \"total_rech_amt_6\"\n",
    "data[\"total_rech_amt_6\"].describe(percentiles =[0.25,0.5,0.75,0.9,0.95,0.99])"
   ]
  },
  {
   "cell_type": "markdown",
   "id": "e6ee2307",
   "metadata": {},
   "source": [
    "As can be seen from above, there are outliers above 99 percentile of \"total_rech_amt_6\". Hence need to remove all items with percentile greater than 99"
   ]
  },
  {
   "cell_type": "code",
   "execution_count": 359,
   "id": "af3aa559",
   "metadata": {},
   "outputs": [],
   "source": [
    "# removing outliers\n",
    "data = data[~(data[\"total_rech_amt_6\"] > data[\"total_rech_amt_6\"].quantile(0.99))]"
   ]
  },
  {
   "cell_type": "code",
   "execution_count": 360,
   "id": "05fcaafd",
   "metadata": {},
   "outputs": [
    {
     "data": {
      "text/plain": [
       "count    69299.000000\n",
       "mean       307.812133\n",
       "std        326.000743\n",
       "min          0.000000\n",
       "25%        100.000000\n",
       "50%        220.000000\n",
       "75%        420.000000\n",
       "90%        705.000000\n",
       "95%        935.000000\n",
       "99%       1500.000000\n",
       "max       6550.000000\n",
       "Name: total_rech_amt_7, dtype: float64"
      ]
     },
     "execution_count": 360,
     "metadata": {},
     "output_type": "execute_result"
    }
   ],
   "source": [
    "# checking outliers for \"total_rech_amt_7\"\n",
    "data[\"total_rech_amt_7\"].describe(percentiles =[0.25,0.5,0.75,0.9,0.95,0.99])"
   ]
  },
  {
   "cell_type": "code",
   "execution_count": 361,
   "id": "31524c86",
   "metadata": {},
   "outputs": [],
   "source": [
    "# As can be seen from above, there are outliers above 99 percentile of \"total_rech_amt_7\". Hence need to remove all items with percentile greater than 99\n",
    "data = data[~(data[\"total_rech_amt_7\"] > data[\"total_rech_amt_7\"].quantile(0.99))]"
   ]
  },
  {
   "cell_type": "code",
   "execution_count": 362,
   "id": "6ab1f5ca",
   "metadata": {},
   "outputs": [
    {
     "data": {
      "text/plain": [
       "count    68618.000000\n",
       "mean       300.792970\n",
       "std        308.584464\n",
       "min          0.000000\n",
       "25%         90.000000\n",
       "50%        219.000000\n",
       "75%        421.000000\n",
       "90%        689.000000\n",
       "95%        898.000000\n",
       "99%       1394.000000\n",
       "max       7917.000000\n",
       "Name: total_rech_amt_8, dtype: float64"
      ]
     },
     "execution_count": 362,
     "metadata": {},
     "output_type": "execute_result"
    }
   ],
   "source": [
    "# checking outliers for \"total_rech_amt_8\"\n",
    "data[\"total_rech_amt_8\"].describe(percentiles =[0.25,0.5,0.75,0.9,0.95,0.99])"
   ]
  },
  {
   "cell_type": "code",
   "execution_count": 363,
   "id": "57a305bd",
   "metadata": {},
   "outputs": [],
   "source": [
    "# As can be seen from above, there are outliers above 99 percentile of \"total_rech_amt_7\". Hence need to remove all items with percentile greater than 99\n",
    "data = data[~(data[\"total_rech_amt_8\"] > data[\"total_rech_amt_8\"].quantile(0.99))]"
   ]
  },
  {
   "cell_type": "code",
   "execution_count": 364,
   "id": "cc734e8c",
   "metadata": {},
   "outputs": [
    {
     "data": {
      "text/plain": [
       "count    67932.000000\n",
       "mean         0.603824\n",
       "std          1.732670\n",
       "min          0.000000\n",
       "25%          0.000000\n",
       "50%          0.000000\n",
       "75%          0.000000\n",
       "90%          2.000000\n",
       "95%          3.000000\n",
       "99%          9.000000\n",
       "max         61.000000\n",
       "Name: total_rech_data_6, dtype: float64"
      ]
     },
     "execution_count": 364,
     "metadata": {},
     "output_type": "execute_result"
    }
   ],
   "source": [
    "# checking outliers for \"total_rech_data_6\"\n",
    "data[\"total_rech_data_6\"].describe(percentiles =[0.25,0.5,0.75,0.9,0.95,0.99])"
   ]
  },
  {
   "cell_type": "code",
   "execution_count": 365,
   "id": "49f59ee2",
   "metadata": {},
   "outputs": [],
   "source": [
    "# As can be seen from above, there are outliers above 99 percentile of \"total_rech_data_6\". Hence need to remove all items with percentile greater than 99\n",
    "data = data[~(data[\"total_rech_data_6\"] > data[\"total_rech_data_6\"].quantile(0.99))]"
   ]
  },
  {
   "cell_type": "code",
   "execution_count": 366,
   "id": "5a07ddfd",
   "metadata": {},
   "outputs": [
    {
     "data": {
      "text/plain": [
       "count    67381.000000\n",
       "mean         0.586931\n",
       "std          1.581064\n",
       "min          0.000000\n",
       "25%          0.000000\n",
       "50%          0.000000\n",
       "75%          0.000000\n",
       "90%          2.000000\n",
       "95%          3.000000\n",
       "99%          8.000000\n",
       "max         54.000000\n",
       "Name: total_rech_data_7, dtype: float64"
      ]
     },
     "execution_count": 366,
     "metadata": {},
     "output_type": "execute_result"
    }
   ],
   "source": [
    "# checking outliers for \"total_rech_data_7\"\n",
    "data[\"total_rech_data_7\"].describe(percentiles =[0.25,0.5,0.75,0.9,0.95,0.99])"
   ]
  },
  {
   "cell_type": "code",
   "execution_count": 367,
   "id": "28a517b5",
   "metadata": {},
   "outputs": [],
   "source": [
    "# As can be seen from above, there are outliers above 99 percentile of \"total_rech_data_7\". Hence need to remove all items with percentile greater than 99\n",
    "data = data[~(data[\"total_rech_data_7\"] > data[\"total_rech_data_7\"].quantile(0.99))]"
   ]
  },
  {
   "cell_type": "code",
   "execution_count": 368,
   "id": "3c288f19",
   "metadata": {},
   "outputs": [
    {
     "data": {
      "text/plain": [
       "count    66824.000000\n",
       "mean         0.553319\n",
       "std          1.451911\n",
       "min          0.000000\n",
       "25%          0.000000\n",
       "50%          0.000000\n",
       "75%          0.000000\n",
       "90%          2.000000\n",
       "95%          3.000000\n",
       "99%          7.000000\n",
       "max         37.000000\n",
       "Name: total_rech_data_8, dtype: float64"
      ]
     },
     "execution_count": 368,
     "metadata": {},
     "output_type": "execute_result"
    }
   ],
   "source": [
    "# checking outliers for \"total_rech_data_8\"\n",
    "data[\"total_rech_data_8\"].describe(percentiles =[0.25,0.5,0.75,0.9,0.95,0.99])"
   ]
  },
  {
   "cell_type": "code",
   "execution_count": 369,
   "id": "386f320a",
   "metadata": {},
   "outputs": [],
   "source": [
    "# As can be seen from above, there are outliers above 99 percentile of \"total_rech_data_8\". Hence need to remove all items with percentile greater than 99\n",
    "data = data[~(data[\"total_rech_data_8\"] > data[\"total_rech_data_8\"].quantile(0.99))]"
   ]
  },
  {
   "cell_type": "code",
   "execution_count": 370,
   "id": "5b889a0d",
   "metadata": {},
   "outputs": [
    {
     "data": {
      "text/plain": [
       "(66256, 136)"
      ]
     },
     "execution_count": 370,
     "metadata": {},
     "output_type": "execute_result"
    }
   ],
   "source": [
    "data.shape"
   ]
  },
  {
   "cell_type": "markdown",
   "id": "26bb8b0c",
   "metadata": {},
   "source": [
    "As mentioned in problem statement, we need to predict churn only for the high-value customers. \n",
    "\n",
    "We are assuming high-value customers as follows: Those who have recharged with an amount more than or equal to X, where X is the 70th percentile of the average recharge amount in the all 3 months."
   ]
  },
  {
   "cell_type": "code",
   "execution_count": 371,
   "id": "793b4a57",
   "metadata": {},
   "outputs": [],
   "source": [
    "# calculate the total data recharge amount for June,July and August --> number of recharges * average recharge amount\n",
    "data['total_data_rech_6'] = data.total_rech_data_6 * data.av_rech_amt_data_6\n",
    "data['total_data_rech_7'] = data.total_rech_data_7 * data.av_rech_amt_data_7\n",
    "data['total_data_rech_8'] = data.total_rech_data_8 * data.av_rech_amt_data_8"
   ]
  },
  {
   "cell_type": "code",
   "execution_count": 372,
   "id": "2e5ba330",
   "metadata": {},
   "outputs": [],
   "source": [
    "# calculate total recharge amount for June,July and August --> call recharge amount + data recharge amount\n",
    "data['amt_data_6'] = data.total_rech_amt_6 + data.total_data_rech_6\n",
    "data['amt_data_7'] = data.total_rech_amt_7 + data.total_data_rech_7\n",
    "data['amt_data_8'] = data.total_rech_amt_8 + data.total_data_rech_8"
   ]
  },
  {
   "cell_type": "code",
   "execution_count": 373,
   "id": "8aa8eed7",
   "metadata": {},
   "outputs": [],
   "source": [
    "#Calculate Average amount of recharge of 6th and 7th month and saving it in a new variable avg_amnt_6_7\n",
    "data['avg_amnt_6_7_8'] = (data[\"amt_data_6\"] + data[\"amt_data_7\"] + data[\"amt_data_8\"])/3\n",
    "\n",
    "#filter based on 65th percentile .\n",
    "df_HighEndCx = data[data[\"avg_amnt_6_7_8\"]>= data[\"avg_amnt_6_7_8\"].quantile(.65)]"
   ]
  },
  {
   "cell_type": "code",
   "execution_count": 374,
   "id": "ded950af",
   "metadata": {},
   "outputs": [
    {
     "data": {
      "text/plain": [
       "(23193, 143)"
      ]
     },
     "execution_count": 374,
     "metadata": {},
     "output_type": "execute_result"
    }
   ],
   "source": [
    "df_HighEndCx.shape"
   ]
  },
  {
   "cell_type": "code",
   "execution_count": 375,
   "id": "1c34a975",
   "metadata": {},
   "outputs": [],
   "source": [
    "# removing redundant columns as new columns are derived from them.\n",
    "redundant_cols = [\"avg_amnt_6_7_8\",\"total_rech_data_6\",\"total_rech_data_7\",\"total_rech_data_8\",\"av_rech_amt_data_6\",\"av_rech_amt_data_7\",\n",
    "                  \"av_rech_amt_data_8\",\"total_rech_amt_6\",\"total_rech_amt_7\",\"total_rech_amt_8\"]\n",
    "df_HighEndCx.drop(columns = redundant_cols,axis=1,inplace=True)"
   ]
  },
  {
   "cell_type": "code",
   "execution_count": 376,
   "id": "f7c0e666",
   "metadata": {},
   "outputs": [
    {
     "data": {
      "text/plain": [
       "(23193, 133)"
      ]
     },
     "execution_count": 376,
     "metadata": {},
     "output_type": "execute_result"
    }
   ],
   "source": [
    "df_HighEndCx.shape"
   ]
  },
  {
   "cell_type": "markdown",
   "id": "b3b64b53",
   "metadata": {},
   "source": [
    "For high end customers, we have 23193 rows and 133 columns"
   ]
  },
  {
   "cell_type": "markdown",
   "id": "6188b618",
   "metadata": {},
   "source": [
    "## Visualize Data\n",
    "\n",
    "We have \"churn_probability\" column as target column.\n",
    "\n",
    "Plotting churn_probability to get the distribution of class. 1 represents customer will churn and 0 represents customer will not churn."
   ]
  },
  {
   "cell_type": "code",
   "execution_count": 377,
   "id": "0c39934c",
   "metadata": {},
   "outputs": [
    {
     "data": {
      "image/png": "[encoded data removed]",
      "text/plain": [
       "<Figure size 400x500 with 1 Axes>"
      ]
     },
     "metadata": {},
     "output_type": "display_data"
    }
   ],
   "source": [
    "# Plotting churn_probability to get the distribution of class.\n",
    "\n",
    "plt.figure(figsize=(4,5))\n",
    "equal = list(df_HighEndCx[\"churn_probability\"].value_counts())\n",
    "plt.pie(equal,labels= [\"Not Churn\",\"Churn\"],autopct='%1.1f%%',pctdistance=0.7)\n",
    "circle = plt.Circle( (0,0), 0.5, color='white')\n",
    "p=plt.gcf()\n",
    "p.gca().add_artist(circle)\n",
    "plt.title(\"churn_probability column containing churn vs not churn\")\n",
    "plt.show()"
   ]
  },
  {
   "cell_type": "markdown",
   "id": "8b4f99f8",
   "metadata": {},
   "source": [
    "As seen above, only around 6.1% of high paying customers have a probability to churn and rest 93.9% will not churn. Hence, it's a highly imbalanced dataset."
   ]
  },
  {
   "cell_type": "code",
   "execution_count": 378,
   "id": "97fc966d",
   "metadata": {},
   "outputs": [
    {
     "data": {
      "image/png": "[encoded data removed]",
      "text/plain": [
       "<Figure size 600x400 with 1 Axes>"
      ]
     },
     "metadata": {},
     "output_type": "display_data"
    }
   ],
   "source": [
    "# Plot to visualize average revenue per user(ARPU)\n",
    "df_HighEndCx.groupby(\"churn_probability\")[\"arpu_6\",\"arpu_7\",\"arpu_8\"].mean().plot.barh(figsize=[6,4],color=[\"black\",\"green\",\"skyblue\"])\n",
    "plt.title(\"Average revenue per user in month 6,7,8\",fontsize=12)\n",
    "plt.tick_params(size=5,labelsize = 10) \n",
    "plt.ylabel(\"Mean revenue\",fontsize=10)\n",
    "plt.xlabel(\"Churn type\",fontsize=10)\n",
    "plt.grid(0.5)\n",
    "plt.show()"
   ]
  },
  {
   "cell_type": "markdown",
   "id": "cd837bb1",
   "metadata": {},
   "source": [
    "Average revenue per user in month 6,7,8 is approximately same for non churn customers but varies significantly for customers with high churn probability. The average revenue decreases significantly by month. \n",
    "Hence, it's a good variable for training."
   ]
  },
  {
   "cell_type": "code",
   "execution_count": 379,
   "id": "e8cc8ed1",
   "metadata": {},
   "outputs": [
    {
     "data": {
      "image/png": "[encoded data removed]",
      "text/plain": [
       "<Figure size 500x400 with 1 Axes>"
      ]
     },
     "metadata": {},
     "output_type": "display_data"
    }
   ],
   "source": [
    "# plotting \"amt_data_6\",\"amt_data_7\" and \"amt_data_8\" with non churn_prpbability column\n",
    "df_HighEndCx.groupby(\"churn_probability\")[\"amt_data_6\",\"amt_data_7\",\"amt_data_8\"].mean().plot.line(figsize=[5,4])\n",
    "plt.title(\"Average total recharge amount on month basis vs Churn Type\",fontsize=12)\n",
    "plt.tick_params(size=5,labelsize = 10) \n",
    "plt.ylabel(\"Mean recharge on month basis\",fontsize=10)\n",
    "plt.xlabel(\"Churn type\",fontsize=10)\n",
    "plt.show()"
   ]
  },
  {
   "cell_type": "markdown",
   "id": "31c63379",
   "metadata": {},
   "source": [
    "As seen above, the average recharge decreases considerably on monthly basis when the customer is about to churn. Hence, if recharge value is decreasing then it suggests that the customer might churn."
   ]
  },
  {
   "cell_type": "code",
   "execution_count": 380,
   "id": "69ee0da4",
   "metadata": {},
   "outputs": [
    {
     "data": {
      "image/png": "[encoded data removed]",
      "text/plain": [
       "<Figure size 1000x1000 with 4 Axes>"
      ]
     },
     "metadata": {},
     "output_type": "display_data"
    }
   ],
   "source": [
    "#Plotting to visualize total_ic_mou with churn_probability\n",
    "\n",
    "fig,[[ax11,ax12],[ax21,ax22]] = plt.subplots(nrows=2,ncols=2, figsize=(100, 40))\n",
    "df_HighEndCx.groupby(\"churn_probability\")[\"total_ic_mou_6\",\"total_ic_mou_7\",\"total_ic_mou_8\"].mean().plot.bar(figsize=[10,10],ax=ax11)\n",
    "ax11.tick_params(size=5,labelsize = 12) \n",
    "ax11.set_title(\"Average total incoming minute per month\",fontsize=10)\n",
    "ax11.set_ylabel(\"Average total incoming minutes\",fontsize=10)\n",
    "ax11.set_xlabel(\"Churn type\",fontsize=10)\n",
    "ax11.grid(0.2)\n",
    "\n",
    "#Plotting to visualize loc_og_mou with churn_probability\n",
    "df_HighEndCx.groupby(\"churn_probability\")[\"loc_og_mou_6\",\"loc_og_mou_7\",\"loc_og_mou_8\"].mean().plot.bar(figsize=[10,10],ax=ax12)\n",
    "ax12.tick_params(size=5,labelsize = 12) \n",
    "ax12.set_title(\"Average Local outgoing minute per month\",fontsize=10)\n",
    "ax12.set_ylabel(\"Average local outgoing minutes\",fontsize=10)\n",
    "ax12.set_xlabel(\"Churn type\",fontsize=10)\n",
    "ax12.grid(0.2)\n",
    "\n",
    "#Plotting to visualize roam_ic_mou with churn_probability\n",
    "df_HighEndCx.groupby(\"churn_probability\")[\"roam_ic_mou_6\",\"roam_ic_mou_7\",\"roam_ic_mou_8\"].mean().plot.bar(figsize=[10,10],ax=ax21)\n",
    "ax21.tick_params(size=5,labelsize = 12) \n",
    "ax21.set_title(\"Average roaming incoming minutes per month\",fontsize=10)\n",
    "ax21.set_ylabel(\"Average roaming incoming minutes\",fontsize=10)\n",
    "ax21.set_xlabel(\"Churn type\",fontsize=10)\n",
    "ax21.grid(0.2)\n",
    "\n",
    "#Plotting to visualize roam_og_mou with churn_probability\n",
    "df_HighEndCx.groupby(\"churn_probability\")[\"roam_og_mou_6\",\"roam_og_mou_7\",\"roam_og_mou_8\"].mean().plot.bar(figsize=[10,10],ax=ax22)\n",
    "ax22.tick_params(size=5,labelsize = 12) \n",
    "ax22.set_title(\"Average roaming outgoing minutes per month\",fontsize=10)\n",
    "ax22.set_ylabel(\"Average roaming outgoing minutes\",fontsize=10)\n",
    "ax22.set_xlabel(\"Churn type\",fontsize=10)\n",
    "ax22.grid(0.2)\n",
    "\n",
    "plt.show()"
   ]
  },
  {
   "cell_type": "markdown",
   "id": "70a59b0a",
   "metadata": {},
   "source": [
    "1. Average total incoming call minutes decreases drastically when customer is about to churn. Hence, it's a good variable for model training.\n",
    "2. Average local outgoing call minutes decreases drastically when customer is about to churn. This means that customer begins to limit usage of calling with current network.\n",
    "3. Average roaming incoming and outgoing minutes are also high when customer is about to churn. This may be due to high roaming costs. Company should take the romaing pricing into consideration to prevent customer churn."
   ]
  },
  {
   "cell_type": "code",
   "execution_count": 381,
   "id": "93a680ed",
   "metadata": {},
   "outputs": [
    {
     "data": {
      "image/png": "[encoded data removed]",
      "text/plain": [
       "<Figure size 1000x600 with 1 Axes>"
      ]
     },
     "metadata": {},
     "output_type": "display_data"
    }
   ],
   "source": [
    "#Analysis of recharge amount and number of recharge in action month\n",
    "df_HighEndCx[\"avg_rech_num_6_7_8\"]=(df_HighEndCx[\"total_rech_num_6\"]+df_HighEndCx[\"total_rech_num_7\"]+df_HighEndCx[\"total_rech_num_8\"])/3\n",
    "df_HighEndCx['avg_amnt_6_7_8'] = (df_HighEndCx[\"amt_data_6\"] + df_HighEndCx[\"amt_data_7\"] + df_HighEndCx[\"amt_data_8\"])/3\n",
    "\n",
    "plt.figure(figsize=(10,6))\n",
    "ax = sns.scatterplot(x='avg_amnt_6_7_8',y='avg_rech_num_6_7_8', hue='churn_probability', data=df_HighEndCx)"
   ]
  },
  {
   "cell_type": "markdown",
   "id": "935a27fb",
   "metadata": {},
   "source": [
    "We can see from the above pattern that the average recharge number for months 6,7,8 and the average recharge amounts are slightly linear. Hence, there are a small correlation between the two.\n",
    "\n",
    "Now we can drop the derived variables which are not required in further analysis."
   ]
  },
  {
   "cell_type": "code",
   "execution_count": 382,
   "id": "77c490b2",
   "metadata": {},
   "outputs": [],
   "source": [
    "df_HighEndCx.drop([\"avg_rech_num_6_7_8\",\"avg_amnt_6_7_8\"],axis=1,inplace=True)"
   ]
  },
  {
   "cell_type": "code",
   "execution_count": 383,
   "id": "0b2613f7",
   "metadata": {},
   "outputs": [
    {
     "data": {
      "text/plain": [
       "(23193, 133)"
      ]
     },
     "execution_count": 383,
     "metadata": {},
     "output_type": "execute_result"
    }
   ],
   "source": [
    "df_HighEndCx.shape"
   ]
  },
  {
   "cell_type": "markdown",
   "id": "8ba706a6",
   "metadata": {},
   "source": [
    "## Model Building\n",
    "\n",
    "### Train-test split"
   ]
  },
  {
   "cell_type": "code",
   "execution_count": 384,
   "id": "bff92ed1",
   "metadata": {},
   "outputs": [],
   "source": [
    "# importing libraries for model training and train-test split\n",
    "from sklearn.model_selection import train_test_split,GridSearchCV\n",
    "from sklearn.model_selection import train_test_split"
   ]
  },
  {
   "cell_type": "code",
   "execution_count": 385,
   "id": "96163493",
   "metadata": {},
   "outputs": [],
   "source": [
    "# dropping Y variable from X\n",
    "y= df_HighEndCx.pop(\"churn_probability\")\n",
    "X= df_HighEndCx"
   ]
  },
  {
   "cell_type": "code",
   "execution_count": 189,
   "id": "2e6acce8",
   "metadata": {},
   "outputs": [],
   "source": [
    "# Splitting data into train and test set 80:20\n",
    "X_train, X_test, y_train, y_test = train_test_split(X, y, train_size=0.8, test_size=0.2, random_state=100)"
   ]
  },
  {
   "cell_type": "code",
   "execution_count": 190,
   "id": "683ab87f",
   "metadata": {},
   "outputs": [
    {
     "data": {
      "text/plain": [
       "(4639, 132)"
      ]
     },
     "execution_count": 190,
     "metadata": {},
     "output_type": "execute_result"
    }
   ],
   "source": [
    "X_test.shape"
   ]
  },
  {
   "cell_type": "markdown",
   "id": "aaa24027",
   "metadata": {},
   "source": [
    "### Synthetic Minority Oversampling Technique (SMOTE)\n",
    "\n",
    "As this dataset is an imbalanced dataset, we need to oversample the minority class for better fitting of the model. For this, we will use SMOTE on training dataset to make the dataset a balanced dataset.\n",
    "\n",
    "SMOTE works by selecting examples that are close in the feature space, drawing a line between the examples in the feature space and drawing a new sample at a point along that line."
   ]
  },
  {
   "cell_type": "code",
   "execution_count": 191,
   "id": "7216701b",
   "metadata": {},
   "outputs": [
    {
     "name": "stdout",
     "output_type": "stream",
     "text": [
      "Looking in indexes: https://pypi.org/simple, https://pip.repos.neuron.amazonaws.com\n",
      "Requirement already satisfied: imblearn in /home/ec2-user/anaconda3/envs/python3/lib/python3.10/site-packages (0.0)\n",
      "Requirement already satisfied: imbalanced-learn in /home/ec2-user/anaconda3/envs/python3/lib/python3.10/site-packages (from imblearn) (0.10.1)\n",
      "Requirement already satisfied: scipy>=1.3.2 in /home/ec2-user/anaconda3/envs/python3/lib/python3.10/site-packages (from imbalanced-learn->imblearn) (1.10.0)\n",
      "Requirement already satisfied: numpy>=1.17.3 in /home/ec2-user/anaconda3/envs/python3/lib/python3.10/site-packages (from imbalanced-learn->imblearn) (1.22.3)\n",
      "Requirement already satisfied: threadpoolctl>=2.0.0 in /home/ec2-user/anaconda3/envs/python3/lib/python3.10/site-packages (from imbalanced-learn->imblearn) (3.1.0)\n",
      "Requirement already satisfied: scikit-learn>=1.0.2 in /home/ec2-user/anaconda3/envs/python3/lib/python3.10/site-packages (from imbalanced-learn->imblearn) (1.2.0)\n",
      "Requirement already satisfied: joblib>=1.1.1 in /home/ec2-user/anaconda3/envs/python3/lib/python3.10/site-packages (from imbalanced-learn->imblearn) (1.2.0)\n"
     ]
    }
   ],
   "source": [
    "!pip install imblearn"
   ]
  },
  {
   "cell_type": "code",
   "execution_count": 192,
   "id": "cd24dd9a",
   "metadata": {},
   "outputs": [],
   "source": [
    "# Imporing SMOTE\n",
    "from imblearn.over_sampling import SMOTE\n",
    "\n",
    "# Fitting SMOTE to the training set\n",
    "sm = SMOTE(random_state=100)\n",
    "X_train, y_train = sm.fit_resample(X_train, y_train)"
   ]
  },
  {
   "cell_type": "code",
   "execution_count": 193,
   "id": "8e5ab7ed",
   "metadata": {},
   "outputs": [
    {
     "data": {
      "text/plain": [
       "0    17402\n",
       "1    17402\n",
       "Name: churn_probability, dtype: int64"
      ]
     },
     "execution_count": 193,
     "metadata": {},
     "output_type": "execute_result"
    }
   ],
   "source": [
    "y_train.value_counts()"
   ]
  },
  {
   "cell_type": "markdown",
   "id": "38f02eca",
   "metadata": {},
   "source": [
    "As can be seen, the total rows has been increased to 34742 and the y_train has equal number of datasamples in a class.\n",
    "\n",
    "### Feature scaling\n",
    "\n",
    "In order to use PCA, it's mandatory to scale the traiing and test features. So we will use scandardScaler to scale the features"
   ]
  },
  {
   "cell_type": "code",
   "execution_count": 194,
   "id": "ea2ec431",
   "metadata": {},
   "outputs": [
    {
     "name": "stdout",
     "output_type": "stream",
     "text": [
      "<class 'pandas.core.frame.DataFrame'>\n",
      "RangeIndex: 34804 entries, 0 to 34803\n",
      "Columns: 132 entries, loc_og_t2o_mou to amt_data_8\n",
      "dtypes: float64(110), int64(22)\n",
      "memory usage: 35.1 MB\n"
     ]
    }
   ],
   "source": [
    "X_train.info()"
   ]
  },
  {
   "cell_type": "markdown",
   "id": "e1b2f3a8",
   "metadata": {},
   "source": [
    "As can be seen, there are no object features. Hence, we can proceed with scaling."
   ]
  },
  {
   "cell_type": "code",
   "execution_count": 195,
   "id": "45f7fbdb",
   "metadata": {},
   "outputs": [],
   "source": [
    "# importing standard scaler library\n",
    "from sklearn.preprocessing import StandardScaler\n",
    "\n",
    "# scaling all columns of X-train\n",
    "cols = X_train.columns.to_list()\n",
    "scaler=StandardScaler()\n",
    "X_train_scale = pd.DataFrame(scaler.fit_transform(X_train[cols]),columns=cols)"
   ]
  },
  {
   "cell_type": "code",
   "execution_count": 196,
   "id": "1ef8a51f",
   "metadata": {},
   "outputs": [
    {
     "data": {
      "text/html": [
       "<div>\n",
       "<style scoped>\n",
       "    .dataframe tbody tr th:only-of-type {\n",
       "        vertical-align: middle;\n",
       "    }\n",
       "\n",
       "    .dataframe tbody tr th {\n",
       "        vertical-align: top;\n",
       "    }\n",
       "\n",
       "    .dataframe thead th {\n",
       "        text-align: right;\n",
       "    }\n",
       "</style>\n",
       "<table border=\"1\" class=\"dataframe\">\n",
       "  <thead>\n",
       "    <tr style=\"text-align: right;\">\n",
       "      <th></th>\n",
       "      <th>loc_og_t2o_mou</th>\n",
       "      <th>loc_ic_t2o_mou</th>\n",
       "      <th>arpu_6</th>\n",
       "      <th>arpu_7</th>\n",
       "      <th>arpu_8</th>\n",
       "      <th>onnet_mou_6</th>\n",
       "      <th>onnet_mou_7</th>\n",
       "      <th>onnet_mou_8</th>\n",
       "      <th>offnet_mou_6</th>\n",
       "      <th>offnet_mou_7</th>\n",
       "      <th>...</th>\n",
       "      <th>aon</th>\n",
       "      <th>aug_vbc_3g</th>\n",
       "      <th>jul_vbc_3g</th>\n",
       "      <th>jun_vbc_3g</th>\n",
       "      <th>total_data_rech_6</th>\n",
       "      <th>total_data_rech_7</th>\n",
       "      <th>total_data_rech_8</th>\n",
       "      <th>amt_data_6</th>\n",
       "      <th>amt_data_7</th>\n",
       "      <th>amt_data_8</th>\n",
       "    </tr>\n",
       "  </thead>\n",
       "  <tbody>\n",
       "    <tr>\n",
       "      <th>0</th>\n",
       "      <td>0.0</td>\n",
       "      <td>0.0</td>\n",
       "      <td>-0.937333</td>\n",
       "      <td>-0.962164</td>\n",
       "      <td>-0.690266</td>\n",
       "      <td>-0.541112</td>\n",
       "      <td>-0.482372</td>\n",
       "      <td>-0.401243</td>\n",
       "      <td>-0.471422</td>\n",
       "      <td>-0.454758</td>\n",
       "      <td>...</td>\n",
       "      <td>-0.010642</td>\n",
       "      <td>2.265401</td>\n",
       "      <td>3.121323</td>\n",
       "      <td>1.344517</td>\n",
       "      <td>3.995525</td>\n",
       "      <td>4.271170</td>\n",
       "      <td>5.729637</td>\n",
       "      <td>2.865348</td>\n",
       "      <td>3.123307</td>\n",
       "      <td>3.853012</td>\n",
       "    </tr>\n",
       "    <tr>\n",
       "      <th>1</th>\n",
       "      <td>0.0</td>\n",
       "      <td>0.0</td>\n",
       "      <td>-0.557229</td>\n",
       "      <td>0.734039</td>\n",
       "      <td>-1.270703</td>\n",
       "      <td>0.359663</td>\n",
       "      <td>0.307865</td>\n",
       "      <td>-0.346876</td>\n",
       "      <td>-0.483194</td>\n",
       "      <td>-0.502112</td>\n",
       "      <td>...</td>\n",
       "      <td>0.179571</td>\n",
       "      <td>0.164814</td>\n",
       "      <td>2.287715</td>\n",
       "      <td>-0.342415</td>\n",
       "      <td>-0.433079</td>\n",
       "      <td>0.903512</td>\n",
       "      <td>-0.389363</td>\n",
       "      <td>-0.658560</td>\n",
       "      <td>1.140503</td>\n",
       "      <td>-1.000651</td>\n",
       "    </tr>\n",
       "    <tr>\n",
       "      <th>2</th>\n",
       "      <td>0.0</td>\n",
       "      <td>0.0</td>\n",
       "      <td>0.917796</td>\n",
       "      <td>-0.104662</td>\n",
       "      <td>-1.314153</td>\n",
       "      <td>0.162300</td>\n",
       "      <td>-0.497595</td>\n",
       "      <td>-0.535449</td>\n",
       "      <td>-0.305426</td>\n",
       "      <td>-0.374292</td>\n",
       "      <td>...</td>\n",
       "      <td>-0.196299</td>\n",
       "      <td>-0.333901</td>\n",
       "      <td>-0.346372</td>\n",
       "      <td>-0.078668</td>\n",
       "      <td>-0.433079</td>\n",
       "      <td>-0.419634</td>\n",
       "      <td>-0.389363</td>\n",
       "      <td>0.134862</td>\n",
       "      <td>-0.486539</td>\n",
       "      <td>-1.000651</td>\n",
       "    </tr>\n",
       "    <tr>\n",
       "      <th>3</th>\n",
       "      <td>0.0</td>\n",
       "      <td>0.0</td>\n",
       "      <td>1.149039</td>\n",
       "      <td>0.893115</td>\n",
       "      <td>1.453948</td>\n",
       "      <td>-0.500992</td>\n",
       "      <td>-0.455500</td>\n",
       "      <td>-0.400133</td>\n",
       "      <td>0.924916</td>\n",
       "      <td>0.703197</td>\n",
       "      <td>...</td>\n",
       "      <td>-0.481049</td>\n",
       "      <td>-0.333901</td>\n",
       "      <td>-0.346372</td>\n",
       "      <td>-0.342415</td>\n",
       "      <td>0.025806</td>\n",
       "      <td>1.524581</td>\n",
       "      <td>1.779460</td>\n",
       "      <td>0.235589</td>\n",
       "      <td>1.318384</td>\n",
       "      <td>2.383369</td>\n",
       "    </tr>\n",
       "    <tr>\n",
       "      <th>4</th>\n",
       "      <td>0.0</td>\n",
       "      <td>0.0</td>\n",
       "      <td>0.032562</td>\n",
       "      <td>0.867368</td>\n",
       "      <td>1.309373</td>\n",
       "      <td>-0.361316</td>\n",
       "      <td>-0.358261</td>\n",
       "      <td>0.456073</td>\n",
       "      <td>0.735257</td>\n",
       "      <td>1.687386</td>\n",
       "      <td>...</td>\n",
       "      <td>-0.785163</td>\n",
       "      <td>-0.333901</td>\n",
       "      <td>-0.346372</td>\n",
       "      <td>-0.342415</td>\n",
       "      <td>-0.433079</td>\n",
       "      <td>-0.419634</td>\n",
       "      <td>-0.389363</td>\n",
       "      <td>-0.361027</td>\n",
       "      <td>0.045473</td>\n",
       "      <td>0.474482</td>\n",
       "    </tr>\n",
       "    <tr>\n",
       "      <th>...</th>\n",
       "      <td>...</td>\n",
       "      <td>...</td>\n",
       "      <td>...</td>\n",
       "      <td>...</td>\n",
       "      <td>...</td>\n",
       "      <td>...</td>\n",
       "      <td>...</td>\n",
       "      <td>...</td>\n",
       "      <td>...</td>\n",
       "      <td>...</td>\n",
       "      <td>...</td>\n",
       "      <td>...</td>\n",
       "      <td>...</td>\n",
       "      <td>...</td>\n",
       "      <td>...</td>\n",
       "      <td>...</td>\n",
       "      <td>...</td>\n",
       "      <td>...</td>\n",
       "      <td>...</td>\n",
       "      <td>...</td>\n",
       "      <td>...</td>\n",
       "    </tr>\n",
       "    <tr>\n",
       "      <th>34799</th>\n",
       "      <td>0.0</td>\n",
       "      <td>0.0</td>\n",
       "      <td>0.018459</td>\n",
       "      <td>0.443628</td>\n",
       "      <td>1.248423</td>\n",
       "      <td>0.014787</td>\n",
       "      <td>0.489412</td>\n",
       "      <td>1.538009</td>\n",
       "      <td>0.200799</td>\n",
       "      <td>0.854722</td>\n",
       "      <td>...</td>\n",
       "      <td>-0.754410</td>\n",
       "      <td>-0.333901</td>\n",
       "      <td>-0.346372</td>\n",
       "      <td>-0.342415</td>\n",
       "      <td>-0.433079</td>\n",
       "      <td>-0.419634</td>\n",
       "      <td>-0.389363</td>\n",
       "      <td>-0.269962</td>\n",
       "      <td>-0.126072</td>\n",
       "      <td>0.382597</td>\n",
       "    </tr>\n",
       "    <tr>\n",
       "      <th>34800</th>\n",
       "      <td>0.0</td>\n",
       "      <td>0.0</td>\n",
       "      <td>1.031389</td>\n",
       "      <td>1.466634</td>\n",
       "      <td>-1.206543</td>\n",
       "      <td>-0.450139</td>\n",
       "      <td>-0.318087</td>\n",
       "      <td>-0.527731</td>\n",
       "      <td>2.987558</td>\n",
       "      <td>3.712758</td>\n",
       "      <td>...</td>\n",
       "      <td>-0.366010</td>\n",
       "      <td>-0.333901</td>\n",
       "      <td>-0.346372</td>\n",
       "      <td>-0.342415</td>\n",
       "      <td>-0.433079</td>\n",
       "      <td>-0.419634</td>\n",
       "      <td>-0.389363</td>\n",
       "      <td>0.173876</td>\n",
       "      <td>0.400017</td>\n",
       "      <td>-1.000651</td>\n",
       "    </tr>\n",
       "    <tr>\n",
       "      <th>34801</th>\n",
       "      <td>0.0</td>\n",
       "      <td>0.0</td>\n",
       "      <td>-0.120662</td>\n",
       "      <td>0.861211</td>\n",
       "      <td>-0.719917</td>\n",
       "      <td>-0.076306</td>\n",
       "      <td>0.263569</td>\n",
       "      <td>-0.106727</td>\n",
       "      <td>0.318813</td>\n",
       "      <td>1.111518</td>\n",
       "      <td>...</td>\n",
       "      <td>-0.436628</td>\n",
       "      <td>-0.333901</td>\n",
       "      <td>-0.346372</td>\n",
       "      <td>-0.342415</td>\n",
       "      <td>-0.259899</td>\n",
       "      <td>-0.419634</td>\n",
       "      <td>-0.365735</td>\n",
       "      <td>-0.305899</td>\n",
       "      <td>0.040266</td>\n",
       "      <td>-0.635295</td>\n",
       "    </tr>\n",
       "    <tr>\n",
       "      <th>34802</th>\n",
       "      <td>0.0</td>\n",
       "      <td>0.0</td>\n",
       "      <td>0.598334</td>\n",
       "      <td>1.438987</td>\n",
       "      <td>-0.802045</td>\n",
       "      <td>-0.449849</td>\n",
       "      <td>-0.254333</td>\n",
       "      <td>-0.261475</td>\n",
       "      <td>2.569845</td>\n",
       "      <td>4.090627</td>\n",
       "      <td>...</td>\n",
       "      <td>-0.067592</td>\n",
       "      <td>-0.333901</td>\n",
       "      <td>-0.346372</td>\n",
       "      <td>-0.342415</td>\n",
       "      <td>-0.433079</td>\n",
       "      <td>-0.419634</td>\n",
       "      <td>-0.389363</td>\n",
       "      <td>0.060555</td>\n",
       "      <td>0.209601</td>\n",
       "      <td>-0.477199</td>\n",
       "    </tr>\n",
       "    <tr>\n",
       "      <th>34803</th>\n",
       "      <td>0.0</td>\n",
       "      <td>0.0</td>\n",
       "      <td>0.772851</td>\n",
       "      <td>-0.136184</td>\n",
       "      <td>-1.220061</td>\n",
       "      <td>1.149421</td>\n",
       "      <td>0.453555</td>\n",
       "      <td>-0.473174</td>\n",
       "      <td>0.122259</td>\n",
       "      <td>-0.498390</td>\n",
       "      <td>...</td>\n",
       "      <td>0.102119</td>\n",
       "      <td>-0.333901</td>\n",
       "      <td>-0.346372</td>\n",
       "      <td>-0.342415</td>\n",
       "      <td>-0.433079</td>\n",
       "      <td>-0.419634</td>\n",
       "      <td>-0.389363</td>\n",
       "      <td>0.123551</td>\n",
       "      <td>-0.544071</td>\n",
       "      <td>-0.961965</td>\n",
       "    </tr>\n",
       "  </tbody>\n",
       "</table>\n",
       "<p>34804 rows × 132 columns</p>\n",
       "</div>"
      ],
      "text/plain": [
       "       loc_og_t2o_mou  loc_ic_t2o_mou    arpu_6    arpu_7    arpu_8  \\\n",
       "0                 0.0             0.0 -0.937333 -0.962164 -0.690266   \n",
       "1                 0.0             0.0 -0.557229  0.734039 -1.270703   \n",
       "2                 0.0             0.0  0.917796 -0.104662 -1.314153   \n",
       "3                 0.0             0.0  1.149039  0.893115  1.453948   \n",
       "4                 0.0             0.0  0.032562  0.867368  1.309373   \n",
       "...               ...             ...       ...       ...       ...   \n",
       "34799             0.0             0.0  0.018459  0.443628  1.248423   \n",
       "34800             0.0             0.0  1.031389  1.466634 -1.206543   \n",
       "34801             0.0             0.0 -0.120662  0.861211 -0.719917   \n",
       "34802             0.0             0.0  0.598334  1.438987 -0.802045   \n",
       "34803             0.0             0.0  0.772851 -0.136184 -1.220061   \n",
       "\n",
       "       onnet_mou_6  onnet_mou_7  onnet_mou_8  offnet_mou_6  offnet_mou_7  ...  \\\n",
       "0        -0.541112    -0.482372    -0.401243     -0.471422     -0.454758  ...   \n",
       "1         0.359663     0.307865    -0.346876     -0.483194     -0.502112  ...   \n",
       "2         0.162300    -0.497595    -0.535449     -0.305426     -0.374292  ...   \n",
       "3        -0.500992    -0.455500    -0.400133      0.924916      0.703197  ...   \n",
       "4        -0.361316    -0.358261     0.456073      0.735257      1.687386  ...   \n",
       "...            ...          ...          ...           ...           ...  ...   \n",
       "34799     0.014787     0.489412     1.538009      0.200799      0.854722  ...   \n",
       "34800    -0.450139    -0.318087    -0.527731      2.987558      3.712758  ...   \n",
       "34801    -0.076306     0.263569    -0.106727      0.318813      1.111518  ...   \n",
       "34802    -0.449849    -0.254333    -0.261475      2.569845      4.090627  ...   \n",
       "34803     1.149421     0.453555    -0.473174      0.122259     -0.498390  ...   \n",
       "\n",
       "            aon  aug_vbc_3g  jul_vbc_3g  jun_vbc_3g  total_data_rech_6  \\\n",
       "0     -0.010642    2.265401    3.121323    1.344517           3.995525   \n",
       "1      0.179571    0.164814    2.287715   -0.342415          -0.433079   \n",
       "2     -0.196299   -0.333901   -0.346372   -0.078668          -0.433079   \n",
       "3     -0.481049   -0.333901   -0.346372   -0.342415           0.025806   \n",
       "4     -0.785163   -0.333901   -0.346372   -0.342415          -0.433079   \n",
       "...         ...         ...         ...         ...                ...   \n",
       "34799 -0.754410   -0.333901   -0.346372   -0.342415          -0.433079   \n",
       "34800 -0.366010   -0.333901   -0.346372   -0.342415          -0.433079   \n",
       "34801 -0.436628   -0.333901   -0.346372   -0.342415          -0.259899   \n",
       "34802 -0.067592   -0.333901   -0.346372   -0.342415          -0.433079   \n",
       "34803  0.102119   -0.333901   -0.346372   -0.342415          -0.433079   \n",
       "\n",
       "       total_data_rech_7  total_data_rech_8  amt_data_6  amt_data_7  \\\n",
       "0               4.271170           5.729637    2.865348    3.123307   \n",
       "1               0.903512          -0.389363   -0.658560    1.140503   \n",
       "2              -0.419634          -0.389363    0.134862   -0.486539   \n",
       "3               1.524581           1.779460    0.235589    1.318384   \n",
       "4              -0.419634          -0.389363   -0.361027    0.045473   \n",
       "...                  ...                ...         ...         ...   \n",
       "34799          -0.419634          -0.389363   -0.269962   -0.126072   \n",
       "34800          -0.419634          -0.389363    0.173876    0.400017   \n",
       "34801          -0.419634          -0.365735   -0.305899    0.040266   \n",
       "34802          -0.419634          -0.389363    0.060555    0.209601   \n",
       "34803          -0.419634          -0.389363    0.123551   -0.544071   \n",
       "\n",
       "       amt_data_8  \n",
       "0        3.853012  \n",
       "1       -1.000651  \n",
       "2       -1.000651  \n",
       "3        2.383369  \n",
       "4        0.474482  \n",
       "...           ...  \n",
       "34799    0.382597  \n",
       "34800   -1.000651  \n",
       "34801   -0.635295  \n",
       "34802   -0.477199  \n",
       "34803   -0.961965  \n",
       "\n",
       "[34804 rows x 132 columns]"
      ]
     },
     "execution_count": 196,
     "metadata": {},
     "output_type": "execute_result"
    }
   ],
   "source": [
    "X_train_scale"
   ]
  },
  {
   "cell_type": "code",
   "execution_count": 197,
   "id": "3cea0ddb",
   "metadata": {},
   "outputs": [],
   "source": [
    "# scaling X-test with same scaler used to fit X-train\n",
    "cols = X_test.columns.to_list()\n",
    "X_test_scale = pd.DataFrame(scaler.transform(X_test[cols]))"
   ]
  },
  {
   "cell_type": "markdown",
   "id": "fdb88eb1",
   "metadata": {},
   "source": [
    "### Performing PCA\n",
    "\n",
    "As we have 126 columns/features and there might be multicollinearity between features, in order to remove collinearity and reducing complexity of model, we will use PCA"
   ]
  },
  {
   "cell_type": "code",
   "execution_count": 198,
   "id": "4fd74075",
   "metadata": {},
   "outputs": [],
   "source": [
    "# importing the library\n",
    "from sklearn.decomposition import PCA\n",
    "pca = PCA(random_state=100)\n",
    "X_train_pca = pca.fit(X_train_scale)"
   ]
  },
  {
   "cell_type": "code",
   "execution_count": 199,
   "id": "a2e27914",
   "metadata": {},
   "outputs": [
    {
     "data": {
      "image/png": "[encoded data removed]",
      "text/plain": [
       "<Figure size 600x400 with 1 Axes>"
      ]
     },
     "metadata": {},
     "output_type": "display_data"
    }
   ],
   "source": [
    "# getting cumulative sum of explained variance and plotting SCREE plot\n",
    "var_cumu_ev = np.cumsum(X_train_pca.explained_variance_ratio_)\n",
    "\n",
    "# Plot the cumulative explained variance : SCREE Plot\n",
    "plt.figure(figsize=[6,4])\n",
    "plt.plot(range(1,len(var_cumu_ev)+1), var_cumu_ev)\n",
    "plt.title(\"Cumulative variance of principal components vs No. of Features\",size=15)\n",
    "plt.ylabel(\"Explained variance\",size=15)\n",
    "plt.xlabel(\"No of Features\",size=15)\n",
    "plt.tick_params(size=5,labelsize = 15)\n",
    "plt.grid(0.3)\n"
   ]
  },
  {
   "cell_type": "code",
   "execution_count": 200,
   "id": "b4763005",
   "metadata": {},
   "outputs": [
    {
     "name": "stdout",
     "output_type": "stream",
     "text": [
      "suitable principal components for 90% of variance:57\n"
     ]
    }
   ],
   "source": [
    "# By providing variance value we can also get the suitable principal components.\n",
    "pca_demo = PCA(0.9,random_state=40)\n",
    "X_train_pca1 = pca_demo.fit_transform(X_train_scale)\n",
    "print(f\"suitable principal components for 90% of variance:{X_train_pca1.shape[1]}\")"
   ]
  },
  {
   "cell_type": "markdown",
   "id": "f6117fca",
   "metadata": {},
   "source": [
    "We can see that 57 Features will explain 90% of variance. So, we will perform PCA with 57 components."
   ]
  },
  {
   "cell_type": "code",
   "execution_count": 201,
   "id": "30048561",
   "metadata": {},
   "outputs": [],
   "source": [
    "# Importing incremental PCA\n",
    "from sklearn.decomposition import IncrementalPCA\n",
    "\n",
    "pca_final = IncrementalPCA(n_components=57)\n",
    "\n",
    "# Fit and transform the X_train\n",
    "X_train_pca_final = pca_final.fit_transform(X_train_scale)\n",
    "\n",
    "# Fit and transform the X_test\n",
    "X_test_pca_final = pca_final.transform(X_test_scale)"
   ]
  },
  {
   "cell_type": "code",
   "execution_count": 202,
   "id": "e2882abe",
   "metadata": {},
   "outputs": [
    {
     "name": "stdout",
     "output_type": "stream",
     "text": [
      "(34804, 57)\n",
      "(4639, 57)\n"
     ]
    }
   ],
   "source": [
    "#check the shape of train and test data after PCA\n",
    "print(X_train_pca_final.shape)\n",
    "print(X_test_pca_final.shape)"
   ]
  },
  {
   "cell_type": "code",
   "execution_count": 203,
   "id": "73832b11",
   "metadata": {},
   "outputs": [
    {
     "data": {
      "image/png": "[encoded data removed]",
      "text/plain": [
       "<Figure size 640x480 with 2 Axes>"
      ]
     },
     "metadata": {},
     "output_type": "display_data"
    }
   ],
   "source": [
    "# Check the correlations after PCA and plotting a heatmap\n",
    "corr = np.corrcoef(X_train_pca_final.transpose())\n",
    "sns.heatmap(corr)\n",
    "plt.show()"
   ]
  },
  {
   "cell_type": "markdown",
   "id": "5013d490",
   "metadata": {},
   "source": [
    "Looking above, the correlations are almost 0 among all features explaining 90% of training set variance."
   ]
  },
  {
   "cell_type": "code",
   "execution_count": 204,
   "id": "e5965a05",
   "metadata": {},
   "outputs": [],
   "source": [
    "### Function for calculating different metrics\n",
    "\n",
    "#Function definition to check the performance of model on test data\n",
    "from sklearn import metrics\n",
    "# accuracy,Precision,recall,f1_score,ROC_AUC\n",
    "def calculate_performance(model_name,y_test,y_pred,pred_prob):\n",
    "        \n",
    "    '''y_test:Test Labels,\n",
    "       y_pred: Prediction Labels ,\n",
    "       pred_prob:Predicted Probability  '''\n",
    "    \n",
    "    print(f\"{model_name}:\")\n",
    "    accuracy = metrics.accuracy_score(y_test,y_pred)\n",
    "    print(f\"accuracy: {accuracy}\")\n",
    "    precision = metrics.precision_score(y_test,y_pred)\n",
    "    print(f\"precision: {precision}\")\n",
    "    recall = metrics.recall_score(y_test,y_pred)\n",
    "    print(f\"recall: {recall}\")\n",
    "    f1_score = metrics.f1_score(y_test,y_pred)\n",
    "    print(f\"f1_score: {f1_score}\")\n",
    "    roc_auc = metrics.roc_auc_score(y_test,pred_prob)\n",
    "    print(f\"roc_auc: {roc_auc}\")\n",
    "    #return a DataFrame with all the score\n",
    "    return pd.DataFrame({\"Model\":[model_name],\"accuracy\":[accuracy],\"precision\":[precision],\"recall\":[recall],\"f1_score\":[f1_score],\n",
    "                         \"roc_auc\":[roc_auc]})   "
   ]
  },
  {
   "cell_type": "code",
   "execution_count": 205,
   "id": "e81b0b2f",
   "metadata": {},
   "outputs": [],
   "source": [
    "# Create a DataFrame which stores all test score metrics for each model\n",
    "metric_df = pd.DataFrame({\"Model\":[None],\"accuracy\":[None],\"precision\":[None],\"recall\":[None],\"f1_score\":[None],\"roc_auc\":[None]})"
   ]
  },
  {
   "cell_type": "markdown",
   "id": "7f50b4b2",
   "metadata": {},
   "source": [
    "### Logistic regression with PCA and regularization"
   ]
  },
  {
   "cell_type": "code",
   "execution_count": 206,
   "id": "e34e6b6b",
   "metadata": {},
   "outputs": [
    {
     "name": "stdout",
     "output_type": "stream",
     "text": [
      "Fitting 5 folds for each of 7 candidates, totalling 35 fits\n"
     ]
    },
    {
     "data": {
      "text/html": [
       "<style>#sk-container-id-1 {color: black;background-color: white;}#sk-container-id-1 pre{padding: 0;}#sk-container-id-1 div.sk-toggleable {background-color: white;}#sk-container-id-1 label.sk-toggleable__label {cursor: pointer;display: block;width: 100%;margin-bottom: 0;padding: 0.3em;box-sizing: border-box;text-align: center;}#sk-container-id-1 label.sk-toggleable__label-arrow:before {content: \"▸\";float: left;margin-right: 0.25em;color: #696969;}#sk-container-id-1 label.sk-toggleable__label-arrow:hover:before {color: black;}#sk-container-id-1 div.sk-estimator:hover label.sk-toggleable__label-arrow:before {color: black;}#sk-container-id-1 div.sk-toggleable__content {max-height: 0;max-width: 0;overflow: hidden;text-align: left;background-color: #f0f8ff;}#sk-container-id-1 div.sk-toggleable__content pre {margin: 0.2em;color: black;border-radius: 0.25em;background-color: #f0f8ff;}#sk-container-id-1 input.sk-toggleable__control:checked~div.sk-toggleable__content {max-height: 200px;max-width: 100%;overflow: auto;}#sk-container-id-1 input.sk-toggleable__control:checked~label.sk-toggleable__label-arrow:before {content: \"▾\";}#sk-container-id-1 div.sk-estimator input.sk-toggleable__control:checked~label.sk-toggleable__label {background-color: #d4ebff;}#sk-container-id-1 div.sk-label input.sk-toggleable__control:checked~label.sk-toggleable__label {background-color: #d4ebff;}#sk-container-id-1 input.sk-hidden--visually {border: 0;clip: rect(1px 1px 1px 1px);clip: rect(1px, 1px, 1px, 1px);height: 1px;margin: -1px;overflow: hidden;padding: 0;position: absolute;width: 1px;}#sk-container-id-1 div.sk-estimator {font-family: monospace;background-color: #f0f8ff;border: 1px dotted black;border-radius: 0.25em;box-sizing: border-box;margin-bottom: 0.5em;}#sk-container-id-1 div.sk-estimator:hover {background-color: #d4ebff;}#sk-container-id-1 div.sk-parallel-item::after {content: \"\";width: 100%;border-bottom: 1px solid gray;flex-grow: 1;}#sk-container-id-1 div.sk-label:hover label.sk-toggleable__label {background-color: #d4ebff;}#sk-container-id-1 div.sk-serial::before {content: \"\";position: absolute;border-left: 1px solid gray;box-sizing: border-box;top: 0;bottom: 0;left: 50%;z-index: 0;}#sk-container-id-1 div.sk-serial {display: flex;flex-direction: column;align-items: center;background-color: white;padding-right: 0.2em;padding-left: 0.2em;position: relative;}#sk-container-id-1 div.sk-item {position: relative;z-index: 1;}#sk-container-id-1 div.sk-parallel {display: flex;align-items: stretch;justify-content: center;background-color: white;position: relative;}#sk-container-id-1 div.sk-item::before, #sk-container-id-1 div.sk-parallel-item::before {content: \"\";position: absolute;border-left: 1px solid gray;box-sizing: border-box;top: 0;bottom: 0;left: 50%;z-index: -1;}#sk-container-id-1 div.sk-parallel-item {display: flex;flex-direction: column;z-index: 1;position: relative;background-color: white;}#sk-container-id-1 div.sk-parallel-item:first-child::after {align-self: flex-end;width: 50%;}#sk-container-id-1 div.sk-parallel-item:last-child::after {align-self: flex-start;width: 50%;}#sk-container-id-1 div.sk-parallel-item:only-child::after {width: 0;}#sk-container-id-1 div.sk-dashed-wrapped {border: 1px dashed gray;margin: 0 0.4em 0.5em 0.4em;box-sizing: border-box;padding-bottom: 0.4em;background-color: white;}#sk-container-id-1 div.sk-label label {font-family: monospace;font-weight: bold;display: inline-block;line-height: 1.2em;}#sk-container-id-1 div.sk-label-container {text-align: center;}#sk-container-id-1 div.sk-container {/* jupyter's `normalize.less` sets `[hidden] { display: none; }` but bootstrap.min.css set `[hidden] { display: none !important; }` so we also need the `!important` here to be able to override the default hidden behavior on the sphinx rendered scikit-learn.org. See: https://github.com/scikit-learn/scikit-learn/issues/21755 */display: inline-block !important;position: relative;}#sk-container-id-1 div.sk-text-repr-fallback {display: none;}</style><div id=\"sk-container-id-1\" class=\"sk-top-container\"><div class=\"sk-text-repr-fallback\"><pre>GridSearchCV(cv=KFold(n_splits=5, random_state=100, shuffle=True),\n",
       "             estimator=LogisticRegression(),\n",
       "             param_grid={&#x27;C&#x27;: [0.001, 0.01, 0.1, 1, 10, 100, 1000]},\n",
       "             return_train_score=True, scoring=&#x27;accuracy&#x27;, verbose=1)</pre><b>In a Jupyter environment, please rerun this cell to show the HTML representation or trust the notebook. <br />On GitHub, the HTML representation is unable to render, please try loading this page with nbviewer.org.</b></div><div class=\"sk-container\" hidden><div class=\"sk-item sk-dashed-wrapped\"><div class=\"sk-label-container\"><div class=\"sk-label sk-toggleable\"><input class=\"sk-toggleable__control sk-hidden--visually\" id=\"sk-estimator-id-1\" type=\"checkbox\" ><label for=\"sk-estimator-id-1\" class=\"sk-toggleable__label sk-toggleable__label-arrow\">GridSearchCV</label><div class=\"sk-toggleable__content\"><pre>GridSearchCV(cv=KFold(n_splits=5, random_state=100, shuffle=True),\n",
       "             estimator=LogisticRegression(),\n",
       "             param_grid={&#x27;C&#x27;: [0.001, 0.01, 0.1, 1, 10, 100, 1000]},\n",
       "             return_train_score=True, scoring=&#x27;accuracy&#x27;, verbose=1)</pre></div></div></div><div class=\"sk-parallel\"><div class=\"sk-parallel-item\"><div class=\"sk-item\"><div class=\"sk-label-container\"><div class=\"sk-label sk-toggleable\"><input class=\"sk-toggleable__control sk-hidden--visually\" id=\"sk-estimator-id-2\" type=\"checkbox\" ><label for=\"sk-estimator-id-2\" class=\"sk-toggleable__label sk-toggleable__label-arrow\">estimator: LogisticRegression</label><div class=\"sk-toggleable__content\"><pre>LogisticRegression()</pre></div></div></div><div class=\"sk-serial\"><div class=\"sk-item\"><div class=\"sk-estimator sk-toggleable\"><input class=\"sk-toggleable__control sk-hidden--visually\" id=\"sk-estimator-id-3\" type=\"checkbox\" ><label for=\"sk-estimator-id-3\" class=\"sk-toggleable__label sk-toggleable__label-arrow\">LogisticRegression</label><div class=\"sk-toggleable__content\"><pre>LogisticRegression()</pre></div></div></div></div></div></div></div></div></div></div>"
      ],
      "text/plain": [
       "GridSearchCV(cv=KFold(n_splits=5, random_state=100, shuffle=True),\n",
       "             estimator=LogisticRegression(),\n",
       "             param_grid={'C': [0.001, 0.01, 0.1, 1, 10, 100, 1000]},\n",
       "             return_train_score=True, scoring='accuracy', verbose=1)"
      ]
     },
     "execution_count": 206,
     "metadata": {},
     "output_type": "execute_result"
    }
   ],
   "source": [
    "# importing module\n",
    "from sklearn.linear_model import LogisticRegression\n",
    "from sklearn.model_selection import KFold\n",
    "from sklearn.model_selection import GridSearchCV\n",
    "\n",
    "# Importing metrics\n",
    "from sklearn import metrics\n",
    "from sklearn.metrics import confusion_matrix\n",
    "\n",
    "# Creating KFold object with 5 splits\n",
    "folds = KFold(n_splits=5, shuffle=True, random_state=100)\n",
    "\n",
    "# Specify params\n",
    "params = {\"C\": [0.001,0.01, 0.1, 1, 10, 100, 1000]}\n",
    "\n",
    "# Specifing score as accuracy as we are to take primary metric for evaluation as accuracy\n",
    "model_lr = GridSearchCV(estimator = LogisticRegression(),\n",
    "                        param_grid = params, \n",
    "                        scoring= 'accuracy', \n",
    "                        cv = folds, \n",
    "                        verbose = 1,\n",
    "                        return_train_score=True) \n",
    "\n",
    "# Fit the model\n",
    "model_lr.fit(X_train_pca_final, y_train)"
   ]
  },
  {
   "cell_type": "code",
   "execution_count": 207,
   "id": "d9e0205f",
   "metadata": {},
   "outputs": [
    {
     "name": "stdout",
     "output_type": "stream",
     "text": [
      " The highest train accuracy is 0.822376838444734 at C = 1\n"
     ]
    }
   ],
   "source": [
    "# Best recall with best optimized value of C\n",
    "best_score = model_lr.best_score_\n",
    "best_C = model_lr.best_params_['C']\n",
    "\n",
    "print(\" The highest train accuracy is {0} at C = {1}\".format(best_score, best_C))"
   ]
  },
  {
   "cell_type": "code",
   "execution_count": 208,
   "id": "20eb4cd2",
   "metadata": {},
   "outputs": [],
   "source": [
    "# Instantiate the model with best C\n",
    "logistic_pca = LogisticRegression(C=best_C)\n",
    "\n",
    "# Fit the model on the train set\n",
    "log_pca_model = logistic_pca.fit(X_train_pca_final, y_train)\n",
    "\n",
    "# Predictions on the train and test set\n",
    "y_train_pred = log_pca_model.predict(X_train_pca_final)\n",
    "y_test_pred = log_pca_model.predict(X_test_pca_final)\n",
    "\n",
    "#check predict probability on train data\n",
    "pred_prob_train = log_pca_model.predict_proba(X_train_pca_final)\n",
    "\n",
    "#check predict probability on test data\n",
    "pred_prob_test = log_pca_model.predict_proba(X_test_pca_final)"
   ]
  },
  {
   "cell_type": "code",
   "execution_count": 209,
   "id": "9836a49a",
   "metadata": {},
   "outputs": [
    {
     "name": "stdout",
     "output_type": "stream",
     "text": [
      "Training Metrics are\n",
      "LogisticRegression:\n",
      "accuracy: 0.8228077232502011\n",
      "precision: 0.8132493169018011\n",
      "recall: 0.8380645902769797\n",
      "f1_score: 0.8254704966746851\n",
      "roc_auc: 0.9026532590915385\n",
      "\n",
      "Test Metrics are\n",
      "LogisticRegression:\n",
      "accuracy: 0.7926277214917008\n",
      "precision: 0.18911685994647637\n",
      "recall: 0.8\n",
      "f1_score: 0.305916305916306\n",
      "roc_auc: 0.8793876336154464\n"
     ]
    }
   ],
   "source": [
    "#check various metric scores on test data\n",
    "\n",
    "print(\"Training Metrics are\")\n",
    "calculate_performance(\"LogisticRegression\",y_train,y_train_pred,pred_prob_train[:,1])\n",
    "\n",
    "print(\"\\nTest Metrics are\")\n",
    "df1 = calculate_performance(\"LogisticRegression\",y_test,y_test_pred,pred_prob_test[:,1])"
   ]
  },
  {
   "cell_type": "code",
   "execution_count": 210,
   "id": "6a94c27e",
   "metadata": {},
   "outputs": [
    {
     "data": {
      "text/html": [
       "<div>\n",
       "<style scoped>\n",
       "    .dataframe tbody tr th:only-of-type {\n",
       "        vertical-align: middle;\n",
       "    }\n",
       "\n",
       "    .dataframe tbody tr th {\n",
       "        vertical-align: top;\n",
       "    }\n",
       "\n",
       "    .dataframe thead th {\n",
       "        text-align: right;\n",
       "    }\n",
       "</style>\n",
       "<table border=\"1\" class=\"dataframe\">\n",
       "  <thead>\n",
       "    <tr style=\"text-align: right;\">\n",
       "      <th></th>\n",
       "      <th>Model</th>\n",
       "      <th>accuracy</th>\n",
       "      <th>precision</th>\n",
       "      <th>recall</th>\n",
       "      <th>f1_score</th>\n",
       "      <th>roc_auc</th>\n",
       "    </tr>\n",
       "  </thead>\n",
       "  <tbody>\n",
       "    <tr>\n",
       "      <th>0</th>\n",
       "      <td>LogisticRegression</td>\n",
       "      <td>0.792628</td>\n",
       "      <td>0.189117</td>\n",
       "      <td>0.8</td>\n",
       "      <td>0.305916</td>\n",
       "      <td>0.879388</td>\n",
       "    </tr>\n",
       "  </tbody>\n",
       "</table>\n",
       "</div>"
      ],
      "text/plain": [
       "                Model  accuracy  precision  recall  f1_score   roc_auc\n",
       "0  LogisticRegression  0.792628   0.189117     0.8  0.305916  0.879388"
      ]
     },
     "execution_count": 210,
     "metadata": {},
     "output_type": "execute_result"
    }
   ],
   "source": [
    "#Add test score to dataframe for comparision with other model performance\n",
    "metric_df= metric_df.dropna()\n",
    "metric_df = metric_df.append(df1)\n",
    "metric_df"
   ]
  },
  {
   "cell_type": "markdown",
   "id": "351b6b78",
   "metadata": {},
   "source": [
    "### Decision Tree with PCA"
   ]
  },
  {
   "cell_type": "code",
   "execution_count": 211,
   "id": "ff2dcf9b",
   "metadata": {},
   "outputs": [
    {
     "name": "stdout",
     "output_type": "stream",
     "text": [
      "Fitting 5 folds for each of 48 candidates, totalling 240 fits\n"
     ]
    },
    {
     "data": {
      "text/html": [
       "<style>#sk-container-id-2 {color: black;background-color: white;}#sk-container-id-2 pre{padding: 0;}#sk-container-id-2 div.sk-toggleable {background-color: white;}#sk-container-id-2 label.sk-toggleable__label {cursor: pointer;display: block;width: 100%;margin-bottom: 0;padding: 0.3em;box-sizing: border-box;text-align: center;}#sk-container-id-2 label.sk-toggleable__label-arrow:before {content: \"▸\";float: left;margin-right: 0.25em;color: #696969;}#sk-container-id-2 label.sk-toggleable__label-arrow:hover:before {color: black;}#sk-container-id-2 div.sk-estimator:hover label.sk-toggleable__label-arrow:before {color: black;}#sk-container-id-2 div.sk-toggleable__content {max-height: 0;max-width: 0;overflow: hidden;text-align: left;background-color: #f0f8ff;}#sk-container-id-2 div.sk-toggleable__content pre {margin: 0.2em;color: black;border-radius: 0.25em;background-color: #f0f8ff;}#sk-container-id-2 input.sk-toggleable__control:checked~div.sk-toggleable__content {max-height: 200px;max-width: 100%;overflow: auto;}#sk-container-id-2 input.sk-toggleable__control:checked~label.sk-toggleable__label-arrow:before {content: \"▾\";}#sk-container-id-2 div.sk-estimator input.sk-toggleable__control:checked~label.sk-toggleable__label {background-color: #d4ebff;}#sk-container-id-2 div.sk-label input.sk-toggleable__control:checked~label.sk-toggleable__label {background-color: #d4ebff;}#sk-container-id-2 input.sk-hidden--visually {border: 0;clip: rect(1px 1px 1px 1px);clip: rect(1px, 1px, 1px, 1px);height: 1px;margin: -1px;overflow: hidden;padding: 0;position: absolute;width: 1px;}#sk-container-id-2 div.sk-estimator {font-family: monospace;background-color: #f0f8ff;border: 1px dotted black;border-radius: 0.25em;box-sizing: border-box;margin-bottom: 0.5em;}#sk-container-id-2 div.sk-estimator:hover {background-color: #d4ebff;}#sk-container-id-2 div.sk-parallel-item::after {content: \"\";width: 100%;border-bottom: 1px solid gray;flex-grow: 1;}#sk-container-id-2 div.sk-label:hover label.sk-toggleable__label {background-color: #d4ebff;}#sk-container-id-2 div.sk-serial::before {content: \"\";position: absolute;border-left: 1px solid gray;box-sizing: border-box;top: 0;bottom: 0;left: 50%;z-index: 0;}#sk-container-id-2 div.sk-serial {display: flex;flex-direction: column;align-items: center;background-color: white;padding-right: 0.2em;padding-left: 0.2em;position: relative;}#sk-container-id-2 div.sk-item {position: relative;z-index: 1;}#sk-container-id-2 div.sk-parallel {display: flex;align-items: stretch;justify-content: center;background-color: white;position: relative;}#sk-container-id-2 div.sk-item::before, #sk-container-id-2 div.sk-parallel-item::before {content: \"\";position: absolute;border-left: 1px solid gray;box-sizing: border-box;top: 0;bottom: 0;left: 50%;z-index: -1;}#sk-container-id-2 div.sk-parallel-item {display: flex;flex-direction: column;z-index: 1;position: relative;background-color: white;}#sk-container-id-2 div.sk-parallel-item:first-child::after {align-self: flex-end;width: 50%;}#sk-container-id-2 div.sk-parallel-item:last-child::after {align-self: flex-start;width: 50%;}#sk-container-id-2 div.sk-parallel-item:only-child::after {width: 0;}#sk-container-id-2 div.sk-dashed-wrapped {border: 1px dashed gray;margin: 0 0.4em 0.5em 0.4em;box-sizing: border-box;padding-bottom: 0.4em;background-color: white;}#sk-container-id-2 div.sk-label label {font-family: monospace;font-weight: bold;display: inline-block;line-height: 1.2em;}#sk-container-id-2 div.sk-label-container {text-align: center;}#sk-container-id-2 div.sk-container {/* jupyter's `normalize.less` sets `[hidden] { display: none; }` but bootstrap.min.css set `[hidden] { display: none !important; }` so we also need the `!important` here to be able to override the default hidden behavior on the sphinx rendered scikit-learn.org. See: https://github.com/scikit-learn/scikit-learn/issues/21755 */display: inline-block !important;position: relative;}#sk-container-id-2 div.sk-text-repr-fallback {display: none;}</style><div id=\"sk-container-id-2\" class=\"sk-top-container\"><div class=\"sk-text-repr-fallback\"><pre>GridSearchCV(cv=5, estimator=DecisionTreeClassifier(),\n",
       "             param_grid={&#x27;max_depth&#x27;: [5, 10, 15],\n",
       "                         &#x27;min_samples_leaf&#x27;: [40, 80, 120, 160],\n",
       "                         &#x27;min_samples_split&#x27;: [40, 80, 120, 160]},\n",
       "             return_train_score=True, scoring=&#x27;accuracy&#x27;, verbose=1)</pre><b>In a Jupyter environment, please rerun this cell to show the HTML representation or trust the notebook. <br />On GitHub, the HTML representation is unable to render, please try loading this page with nbviewer.org.</b></div><div class=\"sk-container\" hidden><div class=\"sk-item sk-dashed-wrapped\"><div class=\"sk-label-container\"><div class=\"sk-label sk-toggleable\"><input class=\"sk-toggleable__control sk-hidden--visually\" id=\"sk-estimator-id-4\" type=\"checkbox\" ><label for=\"sk-estimator-id-4\" class=\"sk-toggleable__label sk-toggleable__label-arrow\">GridSearchCV</label><div class=\"sk-toggleable__content\"><pre>GridSearchCV(cv=5, estimator=DecisionTreeClassifier(),\n",
       "             param_grid={&#x27;max_depth&#x27;: [5, 10, 15],\n",
       "                         &#x27;min_samples_leaf&#x27;: [40, 80, 120, 160],\n",
       "                         &#x27;min_samples_split&#x27;: [40, 80, 120, 160]},\n",
       "             return_train_score=True, scoring=&#x27;accuracy&#x27;, verbose=1)</pre></div></div></div><div class=\"sk-parallel\"><div class=\"sk-parallel-item\"><div class=\"sk-item\"><div class=\"sk-label-container\"><div class=\"sk-label sk-toggleable\"><input class=\"sk-toggleable__control sk-hidden--visually\" id=\"sk-estimator-id-5\" type=\"checkbox\" ><label for=\"sk-estimator-id-5\" class=\"sk-toggleable__label sk-toggleable__label-arrow\">estimator: DecisionTreeClassifier</label><div class=\"sk-toggleable__content\"><pre>DecisionTreeClassifier()</pre></div></div></div><div class=\"sk-serial\"><div class=\"sk-item\"><div class=\"sk-estimator sk-toggleable\"><input class=\"sk-toggleable__control sk-hidden--visually\" id=\"sk-estimator-id-6\" type=\"checkbox\" ><label for=\"sk-estimator-id-6\" class=\"sk-toggleable__label sk-toggleable__label-arrow\">DecisionTreeClassifier</label><div class=\"sk-toggleable__content\"><pre>DecisionTreeClassifier()</pre></div></div></div></div></div></div></div></div></div></div>"
      ],
      "text/plain": [
       "GridSearchCV(cv=5, estimator=DecisionTreeClassifier(),\n",
       "             param_grid={'max_depth': [5, 10, 15],\n",
       "                         'min_samples_leaf': [40, 80, 120, 160],\n",
       "                         'min_samples_split': [40, 80, 120, 160]},\n",
       "             return_train_score=True, scoring='accuracy', verbose=1)"
      ]
     },
     "execution_count": 211,
     "metadata": {},
     "output_type": "execute_result"
    }
   ],
   "source": [
    "# Importing decision tree classifier\n",
    "from sklearn.tree import DecisionTreeClassifier\n",
    "\n",
    "# Create the parameter grid \n",
    "param_grid = {\n",
    "    'max_depth': [5,10,15],\n",
    "    'min_samples_leaf': [40,80,120,160],\n",
    "    'min_samples_split': [40,80,120,160]\n",
    "}\n",
    "\n",
    "\n",
    "# Instantiate the grid search model\n",
    "dt = DecisionTreeClassifier()\n",
    "\n",
    "model_dt = GridSearchCV(estimator = dt, \n",
    "                           param_grid = param_grid, \n",
    "                           scoring= 'accuracy',\n",
    "                           cv = 5, \n",
    "                           verbose = 1,\n",
    "                           return_train_score=True)\n",
    "\n",
    "# Fit the grid search to the data\n",
    "model_dt.fit(X_train_pca_final, y_train)"
   ]
  },
  {
   "cell_type": "code",
   "execution_count": 212,
   "id": "65623460",
   "metadata": {},
   "outputs": [
    {
     "name": "stdout",
     "output_type": "stream",
     "text": [
      " The highest train accuracy is 0.8374902700926509 at max_depth = 15, min_sample_leaf = 40 and min_samples_split = 80\n"
     ]
    }
   ],
   "source": [
    "# Best recall with best optimized value of hyperparameters\n",
    "best_score = model_dt.best_score_\n",
    "best_max_depth = model_dt.best_params_['max_depth']\n",
    "best_min_samples_leaf = model_dt.best_params_['min_samples_leaf']\n",
    "best_min_samples_split=model_dt.best_params_['min_samples_split']\n",
    "\n",
    "print(\" The highest train accuracy is {0} at max_depth = {1}, min_sample_leaf = {2} and min_samples_split = {3}\".format(best_score, best_max_depth,\n",
    "                                                                                                                     best_min_samples_leaf,best_min_samples_split))"
   ]
  },
  {
   "cell_type": "code",
   "execution_count": 213,
   "id": "2261de3e",
   "metadata": {},
   "outputs": [],
   "source": [
    "# Instantiate the model with best hyperparameters\n",
    "dt_pca = DecisionTreeClassifier(max_depth=best_max_depth,min_samples_leaf=best_min_samples_leaf,min_samples_split=best_min_samples_split)\n",
    "\n",
    "# Fit the model on the train set\n",
    "dt_model_pca = dt_pca.fit(X_train_pca_final, y_train)\n",
    "\n",
    "# Predictions on the train and test set\n",
    "y_train_pred = dt_model_pca.predict(X_train_pca_final)\n",
    "y_test_pred = dt_model_pca.predict(X_test_pca_final)\n",
    "\n",
    "#check predict probability on train data\n",
    "pred_prob_train = dt_model_pca.predict_proba(X_train_pca_final)\n",
    "\n",
    "#check predict probability on test data\n",
    "pred_prob_test = dt_model_pca.predict_proba(X_test_pca_final)"
   ]
  },
  {
   "cell_type": "code",
   "execution_count": 214,
   "id": "255ae31c",
   "metadata": {},
   "outputs": [
    {
     "name": "stdout",
     "output_type": "stream",
     "text": [
      "Training Metrics are\n",
      "Decision trees:\n",
      "accuracy: 0.8832605447649695\n",
      "precision: 0.881572172321071\n",
      "recall: 0.8854729341455005\n",
      "f1_score: 0.8835182477566583\n",
      "roc_auc: 0.9574686314353864\n",
      "\n",
      "Test Metrics are\n",
      "Decision trees:\n",
      "accuracy: 0.8281957318387584\n",
      "precision: 0.19977426636568849\n",
      "recall: 0.6679245283018868\n",
      "f1_score: 0.30755864465682015\n",
      "roc_auc: 0.8227782522797664\n"
     ]
    }
   ],
   "source": [
    "#check various metric scores on test data\n",
    "\n",
    "print(\"Training Metrics are\")\n",
    "calculate_performance(\"Decision trees\",y_train,y_train_pred,pred_prob_train[:,1])\n",
    "\n",
    "print(\"\\nTest Metrics are\")\n",
    "df1 = calculate_performance(\"Decision trees\",y_test,y_test_pred,pred_prob_test[:,1])"
   ]
  },
  {
   "cell_type": "code",
   "execution_count": 215,
   "id": "34ebe520",
   "metadata": {},
   "outputs": [
    {
     "data": {
      "text/html": [
       "<div>\n",
       "<style scoped>\n",
       "    .dataframe tbody tr th:only-of-type {\n",
       "        vertical-align: middle;\n",
       "    }\n",
       "\n",
       "    .dataframe tbody tr th {\n",
       "        vertical-align: top;\n",
       "    }\n",
       "\n",
       "    .dataframe thead th {\n",
       "        text-align: right;\n",
       "    }\n",
       "</style>\n",
       "<table border=\"1\" class=\"dataframe\">\n",
       "  <thead>\n",
       "    <tr style=\"text-align: right;\">\n",
       "      <th></th>\n",
       "      <th>Model</th>\n",
       "      <th>accuracy</th>\n",
       "      <th>precision</th>\n",
       "      <th>recall</th>\n",
       "      <th>f1_score</th>\n",
       "      <th>roc_auc</th>\n",
       "    </tr>\n",
       "  </thead>\n",
       "  <tbody>\n",
       "    <tr>\n",
       "      <th>0</th>\n",
       "      <td>LogisticRegression</td>\n",
       "      <td>0.792628</td>\n",
       "      <td>0.189117</td>\n",
       "      <td>0.800000</td>\n",
       "      <td>0.305916</td>\n",
       "      <td>0.879388</td>\n",
       "    </tr>\n",
       "    <tr>\n",
       "      <th>0</th>\n",
       "      <td>Decision trees</td>\n",
       "      <td>0.828196</td>\n",
       "      <td>0.199774</td>\n",
       "      <td>0.667925</td>\n",
       "      <td>0.307559</td>\n",
       "      <td>0.822778</td>\n",
       "    </tr>\n",
       "  </tbody>\n",
       "</table>\n",
       "</div>"
      ],
      "text/plain": [
       "                Model  accuracy  precision    recall  f1_score   roc_auc\n",
       "0  LogisticRegression  0.792628   0.189117  0.800000  0.305916  0.879388\n",
       "0      Decision trees  0.828196   0.199774  0.667925  0.307559  0.822778"
      ]
     },
     "execution_count": 215,
     "metadata": {},
     "output_type": "execute_result"
    }
   ],
   "source": [
    "#Add test score to dataframe for comparision with other model performance\n",
    "metric_df= metric_df.dropna()\n",
    "metric_df = metric_df.append(df1)\n",
    "metric_df"
   ]
  },
  {
   "cell_type": "markdown",
   "id": "1b67c862",
   "metadata": {},
   "source": [
    "### Random Forest with PCA"
   ]
  },
  {
   "cell_type": "code",
   "execution_count": 216,
   "id": "284d222b",
   "metadata": {},
   "outputs": [
    {
     "name": "stdout",
     "output_type": "stream",
     "text": [
      "Fitting 3 folds for each of 24 candidates, totalling 72 fits\n"
     ]
    },
    {
     "data": {
      "text/html": [
       "<style>#sk-container-id-3 {color: black;background-color: white;}#sk-container-id-3 pre{padding: 0;}#sk-container-id-3 div.sk-toggleable {background-color: white;}#sk-container-id-3 label.sk-toggleable__label {cursor: pointer;display: block;width: 100%;margin-bottom: 0;padding: 0.3em;box-sizing: border-box;text-align: center;}#sk-container-id-3 label.sk-toggleable__label-arrow:before {content: \"▸\";float: left;margin-right: 0.25em;color: #696969;}#sk-container-id-3 label.sk-toggleable__label-arrow:hover:before {color: black;}#sk-container-id-3 div.sk-estimator:hover label.sk-toggleable__label-arrow:before {color: black;}#sk-container-id-3 div.sk-toggleable__content {max-height: 0;max-width: 0;overflow: hidden;text-align: left;background-color: #f0f8ff;}#sk-container-id-3 div.sk-toggleable__content pre {margin: 0.2em;color: black;border-radius: 0.25em;background-color: #f0f8ff;}#sk-container-id-3 input.sk-toggleable__control:checked~div.sk-toggleable__content {max-height: 200px;max-width: 100%;overflow: auto;}#sk-container-id-3 input.sk-toggleable__control:checked~label.sk-toggleable__label-arrow:before {content: \"▾\";}#sk-container-id-3 div.sk-estimator input.sk-toggleable__control:checked~label.sk-toggleable__label {background-color: #d4ebff;}#sk-container-id-3 div.sk-label input.sk-toggleable__control:checked~label.sk-toggleable__label {background-color: #d4ebff;}#sk-container-id-3 input.sk-hidden--visually {border: 0;clip: rect(1px 1px 1px 1px);clip: rect(1px, 1px, 1px, 1px);height: 1px;margin: -1px;overflow: hidden;padding: 0;position: absolute;width: 1px;}#sk-container-id-3 div.sk-estimator {font-family: monospace;background-color: #f0f8ff;border: 1px dotted black;border-radius: 0.25em;box-sizing: border-box;margin-bottom: 0.5em;}#sk-container-id-3 div.sk-estimator:hover {background-color: #d4ebff;}#sk-container-id-3 div.sk-parallel-item::after {content: \"\";width: 100%;border-bottom: 1px solid gray;flex-grow: 1;}#sk-container-id-3 div.sk-label:hover label.sk-toggleable__label {background-color: #d4ebff;}#sk-container-id-3 div.sk-serial::before {content: \"\";position: absolute;border-left: 1px solid gray;box-sizing: border-box;top: 0;bottom: 0;left: 50%;z-index: 0;}#sk-container-id-3 div.sk-serial {display: flex;flex-direction: column;align-items: center;background-color: white;padding-right: 0.2em;padding-left: 0.2em;position: relative;}#sk-container-id-3 div.sk-item {position: relative;z-index: 1;}#sk-container-id-3 div.sk-parallel {display: flex;align-items: stretch;justify-content: center;background-color: white;position: relative;}#sk-container-id-3 div.sk-item::before, #sk-container-id-3 div.sk-parallel-item::before {content: \"\";position: absolute;border-left: 1px solid gray;box-sizing: border-box;top: 0;bottom: 0;left: 50%;z-index: -1;}#sk-container-id-3 div.sk-parallel-item {display: flex;flex-direction: column;z-index: 1;position: relative;background-color: white;}#sk-container-id-3 div.sk-parallel-item:first-child::after {align-self: flex-end;width: 50%;}#sk-container-id-3 div.sk-parallel-item:last-child::after {align-self: flex-start;width: 50%;}#sk-container-id-3 div.sk-parallel-item:only-child::after {width: 0;}#sk-container-id-3 div.sk-dashed-wrapped {border: 1px dashed gray;margin: 0 0.4em 0.5em 0.4em;box-sizing: border-box;padding-bottom: 0.4em;background-color: white;}#sk-container-id-3 div.sk-label label {font-family: monospace;font-weight: bold;display: inline-block;line-height: 1.2em;}#sk-container-id-3 div.sk-label-container {text-align: center;}#sk-container-id-3 div.sk-container {/* jupyter's `normalize.less` sets `[hidden] { display: none; }` but bootstrap.min.css set `[hidden] { display: none !important; }` so we also need the `!important` here to be able to override the default hidden behavior on the sphinx rendered scikit-learn.org. See: https://github.com/scikit-learn/scikit-learn/issues/21755 */display: inline-block !important;position: relative;}#sk-container-id-3 div.sk-text-repr-fallback {display: none;}</style><div id=\"sk-container-id-3\" class=\"sk-top-container\"><div class=\"sk-text-repr-fallback\"><pre>GridSearchCV(cv=3, estimator=RandomForestClassifier(), n_jobs=-1,\n",
       "             param_grid={&#x27;max_depth&#x27;: [5, 10], &#x27;max_features&#x27;: [20],\n",
       "                         &#x27;min_samples_leaf&#x27;: [50, 100],\n",
       "                         &#x27;min_samples_split&#x27;: [50, 100],\n",
       "                         &#x27;n_estimators&#x27;: [100, 200, 300]},\n",
       "             return_train_score=True, scoring=&#x27;accuracy&#x27;, verbose=1)</pre><b>In a Jupyter environment, please rerun this cell to show the HTML representation or trust the notebook. <br />On GitHub, the HTML representation is unable to render, please try loading this page with nbviewer.org.</b></div><div class=\"sk-container\" hidden><div class=\"sk-item sk-dashed-wrapped\"><div class=\"sk-label-container\"><div class=\"sk-label sk-toggleable\"><input class=\"sk-toggleable__control sk-hidden--visually\" id=\"sk-estimator-id-7\" type=\"checkbox\" ><label for=\"sk-estimator-id-7\" class=\"sk-toggleable__label sk-toggleable__label-arrow\">GridSearchCV</label><div class=\"sk-toggleable__content\"><pre>GridSearchCV(cv=3, estimator=RandomForestClassifier(), n_jobs=-1,\n",
       "             param_grid={&#x27;max_depth&#x27;: [5, 10], &#x27;max_features&#x27;: [20],\n",
       "                         &#x27;min_samples_leaf&#x27;: [50, 100],\n",
       "                         &#x27;min_samples_split&#x27;: [50, 100],\n",
       "                         &#x27;n_estimators&#x27;: [100, 200, 300]},\n",
       "             return_train_score=True, scoring=&#x27;accuracy&#x27;, verbose=1)</pre></div></div></div><div class=\"sk-parallel\"><div class=\"sk-parallel-item\"><div class=\"sk-item\"><div class=\"sk-label-container\"><div class=\"sk-label sk-toggleable\"><input class=\"sk-toggleable__control sk-hidden--visually\" id=\"sk-estimator-id-8\" type=\"checkbox\" ><label for=\"sk-estimator-id-8\" class=\"sk-toggleable__label sk-toggleable__label-arrow\">estimator: RandomForestClassifier</label><div class=\"sk-toggleable__content\"><pre>RandomForestClassifier()</pre></div></div></div><div class=\"sk-serial\"><div class=\"sk-item\"><div class=\"sk-estimator sk-toggleable\"><input class=\"sk-toggleable__control sk-hidden--visually\" id=\"sk-estimator-id-9\" type=\"checkbox\" ><label for=\"sk-estimator-id-9\" class=\"sk-toggleable__label sk-toggleable__label-arrow\">RandomForestClassifier</label><div class=\"sk-toggleable__content\"><pre>RandomForestClassifier()</pre></div></div></div></div></div></div></div></div></div></div>"
      ],
      "text/plain": [
       "GridSearchCV(cv=3, estimator=RandomForestClassifier(), n_jobs=-1,\n",
       "             param_grid={'max_depth': [5, 10], 'max_features': [20],\n",
       "                         'min_samples_leaf': [50, 100],\n",
       "                         'min_samples_split': [50, 100],\n",
       "                         'n_estimators': [100, 200, 300]},\n",
       "             return_train_score=True, scoring='accuracy', verbose=1)"
      ]
     },
     "execution_count": 216,
     "metadata": {},
     "output_type": "execute_result"
    }
   ],
   "source": [
    "# Importing random forest classifier\n",
    "from sklearn.ensemble import RandomForestClassifier\n",
    "\n",
    "# Create the parameter grid \n",
    "param_grid = {\n",
    "    'max_depth': [5,10],\n",
    "    'min_samples_leaf': [50,100],\n",
    "    'min_samples_split': [50,100],\n",
    "    'n_estimators': [100,200,300], \n",
    "    'max_features': [20]\n",
    "}\n",
    "\n",
    "\n",
    "# Instantiate the grid search model\n",
    "rf = RandomForestClassifier()\n",
    "\n",
    "model_rf = GridSearchCV(estimator = rf, \n",
    "                           param_grid = param_grid, \n",
    "                           scoring= 'accuracy',\n",
    "                           cv = 3,\n",
    "                           n_jobs=-1,\n",
    "                           verbose = 1,\n",
    "                           return_train_score=True)\n",
    "\n",
    "# Fit the grid search to the data\n",
    "model_rf.fit(X_train_pca_final, y_train)"
   ]
  },
  {
   "cell_type": "code",
   "execution_count": 217,
   "id": "1d93011a",
   "metadata": {},
   "outputs": [
    {
     "name": "stdout",
     "output_type": "stream",
     "text": [
      " The highest train accuracy is 0.8714805048712059 at max_depth = 10, min_sample_leaf = 50,min_samples_split = 50,n_estimator200,max_features=20 \n"
     ]
    }
   ],
   "source": [
    "# Best recall with best optimized value of hyperparameters\n",
    "best_score = model_rf.best_score_\n",
    "best_max_depth = model_rf.best_params_['max_depth']\n",
    "best_min_samples_leaf = model_rf.best_params_['min_samples_leaf']\n",
    "best_min_samples_split=model_rf.best_params_['min_samples_split']\n",
    "best_n_estimators = model_rf.best_params_['n_estimators']\n",
    "best_max_features = model_rf.best_params_['max_features']\n",
    "\n",
    "print(\" The highest train accuracy is {0} at max_depth = {1}, min_sample_leaf = {2},min_samples_split = {3},n_estimator{4},max_features={5} \".format(best_score, \n",
    "                                                                                                                                                     best_max_depth,best_min_samples_leaf,\n",
    "                                                                                                                                                     best_min_samples_split,best_n_estimators,\n",
    "                                                                                                                                                    best_max_features))"
   ]
  },
  {
   "cell_type": "code",
   "execution_count": 218,
   "id": "0312cb09",
   "metadata": {},
   "outputs": [],
   "source": [
    "# Instantiate the model with best hyperparameters\n",
    "rf_pca = RandomForestClassifier(max_depth=best_max_depth,min_samples_leaf=best_min_samples_leaf,\n",
    "                                min_samples_split=best_min_samples_split,n_estimators=best_n_estimators,max_features=best_max_features)\n",
    "\n",
    "# Fit the model on the train set\n",
    "rf_model_pca = rf_pca.fit(X_train_pca_final, y_train)\n",
    "\n",
    "# Predictions on the train and test set\n",
    "y_train_pred = rf_model_pca.predict(X_train_pca_final)\n",
    "y_test_pred = rf_model_pca.predict(X_test_pca_final)\n",
    "\n",
    "#check predict probability on train data\n",
    "pred_prob_train = rf_model_pca.predict_proba(X_train_pca_final)\n",
    "\n",
    "#check predict probability on test data\n",
    "pred_prob_test = rf_model_pca.predict_proba(X_test_pca_final)"
   ]
  },
  {
   "cell_type": "code",
   "execution_count": 219,
   "id": "23c734d3",
   "metadata": {},
   "outputs": [
    {
     "name": "stdout",
     "output_type": "stream",
     "text": [
      "Training Metrics are\n",
      "Random Forest:\n",
      "accuracy: 0.9029134582231927\n",
      "precision: 0.9063930910566278\n",
      "recall: 0.8986323411102172\n",
      "f1_score: 0.9024960323185687\n",
      "roc_auc: 0.9648990030710473\n",
      "\n",
      "Test Metrics are\n",
      "Random Forest:\n",
      "accuracy: 0.8788532011209312\n",
      "precision: 0.28064992614475626\n",
      "recall: 0.7169811320754716\n",
      "f1_score: 0.4033970276008492\n",
      "roc_auc: 0.892988586070347\n"
     ]
    }
   ],
   "source": [
    "#check various metric scores on test data\n",
    "\n",
    "print(\"Training Metrics are\")\n",
    "calculate_performance(\"Random Forest\",y_train,y_train_pred,pred_prob_train[:,1])\n",
    "\n",
    "print(\"\\nTest Metrics are\")\n",
    "df1 = calculate_performance(\"Random Forest\",y_test,y_test_pred,pred_prob_test[:,1])"
   ]
  },
  {
   "cell_type": "code",
   "execution_count": 220,
   "id": "2061211c",
   "metadata": {},
   "outputs": [
    {
     "data": {
      "text/html": [
       "<div>\n",
       "<style scoped>\n",
       "    .dataframe tbody tr th:only-of-type {\n",
       "        vertical-align: middle;\n",
       "    }\n",
       "\n",
       "    .dataframe tbody tr th {\n",
       "        vertical-align: top;\n",
       "    }\n",
       "\n",
       "    .dataframe thead th {\n",
       "        text-align: right;\n",
       "    }\n",
       "</style>\n",
       "<table border=\"1\" class=\"dataframe\">\n",
       "  <thead>\n",
       "    <tr style=\"text-align: right;\">\n",
       "      <th></th>\n",
       "      <th>Model</th>\n",
       "      <th>accuracy</th>\n",
       "      <th>precision</th>\n",
       "      <th>recall</th>\n",
       "      <th>f1_score</th>\n",
       "      <th>roc_auc</th>\n",
       "    </tr>\n",
       "  </thead>\n",
       "  <tbody>\n",
       "    <tr>\n",
       "      <th>0</th>\n",
       "      <td>LogisticRegression</td>\n",
       "      <td>0.792628</td>\n",
       "      <td>0.189117</td>\n",
       "      <td>0.800000</td>\n",
       "      <td>0.305916</td>\n",
       "      <td>0.879388</td>\n",
       "    </tr>\n",
       "    <tr>\n",
       "      <th>0</th>\n",
       "      <td>Decision trees</td>\n",
       "      <td>0.828196</td>\n",
       "      <td>0.199774</td>\n",
       "      <td>0.667925</td>\n",
       "      <td>0.307559</td>\n",
       "      <td>0.822778</td>\n",
       "    </tr>\n",
       "    <tr>\n",
       "      <th>0</th>\n",
       "      <td>Random Forest</td>\n",
       "      <td>0.878853</td>\n",
       "      <td>0.280650</td>\n",
       "      <td>0.716981</td>\n",
       "      <td>0.403397</td>\n",
       "      <td>0.892989</td>\n",
       "    </tr>\n",
       "  </tbody>\n",
       "</table>\n",
       "</div>"
      ],
      "text/plain": [
       "                Model  accuracy  precision    recall  f1_score   roc_auc\n",
       "0  LogisticRegression  0.792628   0.189117  0.800000  0.305916  0.879388\n",
       "0      Decision trees  0.828196   0.199774  0.667925  0.307559  0.822778\n",
       "0       Random Forest  0.878853   0.280650  0.716981  0.403397  0.892989"
      ]
     },
     "execution_count": 220,
     "metadata": {},
     "output_type": "execute_result"
    }
   ],
   "source": [
    "#Add test score to dataframe for comparision with other model performance\n",
    "metric_df= metric_df.dropna()\n",
    "metric_df = metric_df.append(df1)\n",
    "metric_df"
   ]
  },
  {
   "cell_type": "markdown",
   "id": "9e295782",
   "metadata": {},
   "source": [
    "### Gradient Boosting with PCA"
   ]
  },
  {
   "cell_type": "code",
   "execution_count": null,
   "id": "9d1c0009",
   "metadata": {},
   "outputs": [],
   "source": [
    "# Importing random forest classifier\n",
    "from sklearn.ensemble import GradientBoostingClassifier\n",
    "\n",
    "# Create the parameter grid \n",
    "param_grid = {\n",
    "    'max_depth': [5,10],\n",
    "    'min_samples_leaf': [50,100],\n",
    "    'min_samples_split': [50,100],\n",
    "    'n_estimators': [100,200,300], \n",
    "    'max_features': [20]\n",
    "}\n",
    "\n",
    "\n",
    "# Instantiate the grid search model\n",
    "gb = GradientBoostingClassifier()\n",
    "\n",
    "model_gb = GridSearchCV(estimator = gb, \n",
    "                           param_grid = param_grid, \n",
    "                           scoring= 'accuracy',\n",
    "                           cv = 3,\n",
    "                           n_jobs=-1,\n",
    "                           verbose = 1,\n",
    "                           return_train_score=True)\n",
    "\n",
    "# Fit the grid search to the data\n",
    "model_gb.fit(X_train_pca_final, y_train)"
   ]
  },
  {
   "cell_type": "code",
   "execution_count": null,
   "id": "60914281",
   "metadata": {},
   "outputs": [],
   "source": [
    "# Best recall with best optimized value of hyperparameters\n",
    "best_score = model_gb.best_score_\n",
    "best_max_depth = model_gb.best_params_['max_depth']\n",
    "best_min_samples_leaf = model_gb.best_params_['min_samples_leaf']\n",
    "best_min_samples_split=model_gb.best_params_['min_samples_split']\n",
    "best_n_estimators = model_gb.best_params_['n_estimators']\n",
    "best_max_features = model_gb.best_params_['max_features']\n",
    "\n",
    "print(\" The highest train accuracy is {0} at max_depth = {1}, min_sample_leaf = {2},min_samples_split = {3},n_estimator={4},max_features={5} \".format(best_score,best_max_depth,best_min_samples_leaf,best_min_samples_split,best_n_estimators,best_max_features))"
   ]
  },
  {
   "cell_type": "code",
   "execution_count": 223,
   "id": "f7105f32",
   "metadata": {},
   "outputs": [],
   "source": [
    "# Instantiate the model with best hyperparameters\n",
    "gb_pca = GradientBoostingClassifier(max_depth=best_max_depth,min_samples_leaf=best_min_samples_leaf,\n",
    "                                min_samples_split=best_min_samples_split,n_estimators=best_n_estimators,max_features=best_max_features)\n",
    "\n",
    "# Fit the model on the train set\n",
    "gb_model_pca = gb_pca.fit(X_train_pca_final, y_train)\n",
    "\n",
    "# Predictions on the train and test set\n",
    "y_train_pred = gb_model_pca.predict(X_train_pca_final)\n",
    "y_test_pred = gb_model_pca.predict(X_test_pca_final)\n",
    "\n",
    "#check predict probability on train data\n",
    "pred_prob_train = gb_model_pca.predict_proba(X_train_pca_final)\n",
    "\n",
    "#check predict probability on test data\n",
    "pred_prob_test = gb_model_pca.predict_proba(X_test_pca_final)"
   ]
  },
  {
   "cell_type": "code",
   "execution_count": 224,
   "id": "ae87507f",
   "metadata": {},
   "outputs": [
    {
     "name": "stdout",
     "output_type": "stream",
     "text": [
      "Training Metrics are\n",
      "Gradient Boosting:\n",
      "accuracy: 1.0\n",
      "precision: 1.0\n",
      "recall: 1.0\n",
      "f1_score: 1.0\n",
      "roc_auc: 1.0\n",
      "\n",
      "Test Metrics are\n",
      "Gradient Boosting:\n",
      "accuracy: 0.9288639793058849\n",
      "precision: 0.40298507462686567\n",
      "recall: 0.5094339622641509\n",
      "f1_score: 0.45000000000000007\n",
      "roc_auc: 0.8856562362502265\n"
     ]
    }
   ],
   "source": [
    "#check various metric scores on test data\n",
    "\n",
    "print(\"Training Metrics are\")\n",
    "calculate_performance(\"Gradient Boosting\",y_train,y_train_pred,pred_prob_train[:,1])\n",
    "\n",
    "print(\"\\nTest Metrics are\")\n",
    "df1 = calculate_performance(\"Gradient Boosting\",y_test,y_test_pred,pred_prob_test[:,1])"
   ]
  },
  {
   "cell_type": "code",
   "execution_count": 225,
   "id": "e93a5e9d",
   "metadata": {},
   "outputs": [
    {
     "data": {
      "text/html": [
       "<div>\n",
       "<style scoped>\n",
       "    .dataframe tbody tr th:only-of-type {\n",
       "        vertical-align: middle;\n",
       "    }\n",
       "\n",
       "    .dataframe tbody tr th {\n",
       "        vertical-align: top;\n",
       "    }\n",
       "\n",
       "    .dataframe thead th {\n",
       "        text-align: right;\n",
       "    }\n",
       "</style>\n",
       "<table border=\"1\" class=\"dataframe\">\n",
       "  <thead>\n",
       "    <tr style=\"text-align: right;\">\n",
       "      <th></th>\n",
       "      <th>Model</th>\n",
       "      <th>accuracy</th>\n",
       "      <th>precision</th>\n",
       "      <th>recall</th>\n",
       "      <th>f1_score</th>\n",
       "      <th>roc_auc</th>\n",
       "    </tr>\n",
       "  </thead>\n",
       "  <tbody>\n",
       "    <tr>\n",
       "      <th>0</th>\n",
       "      <td>LogisticRegression</td>\n",
       "      <td>0.792628</td>\n",
       "      <td>0.189117</td>\n",
       "      <td>0.800000</td>\n",
       "      <td>0.305916</td>\n",
       "      <td>0.879388</td>\n",
       "    </tr>\n",
       "    <tr>\n",
       "      <th>0</th>\n",
       "      <td>Decision trees</td>\n",
       "      <td>0.828196</td>\n",
       "      <td>0.199774</td>\n",
       "      <td>0.667925</td>\n",
       "      <td>0.307559</td>\n",
       "      <td>0.822778</td>\n",
       "    </tr>\n",
       "    <tr>\n",
       "      <th>0</th>\n",
       "      <td>Random Forest</td>\n",
       "      <td>0.878853</td>\n",
       "      <td>0.280650</td>\n",
       "      <td>0.716981</td>\n",
       "      <td>0.403397</td>\n",
       "      <td>0.892989</td>\n",
       "    </tr>\n",
       "    <tr>\n",
       "      <th>0</th>\n",
       "      <td>Gradient Boosting</td>\n",
       "      <td>0.928864</td>\n",
       "      <td>0.402985</td>\n",
       "      <td>0.509434</td>\n",
       "      <td>0.450000</td>\n",
       "      <td>0.885656</td>\n",
       "    </tr>\n",
       "  </tbody>\n",
       "</table>\n",
       "</div>"
      ],
      "text/plain": [
       "                Model  accuracy  precision    recall  f1_score   roc_auc\n",
       "0  LogisticRegression  0.792628   0.189117  0.800000  0.305916  0.879388\n",
       "0      Decision trees  0.828196   0.199774  0.667925  0.307559  0.822778\n",
       "0       Random Forest  0.878853   0.280650  0.716981  0.403397  0.892989\n",
       "0   Gradient Boosting  0.928864   0.402985  0.509434  0.450000  0.885656"
      ]
     },
     "execution_count": 225,
     "metadata": {},
     "output_type": "execute_result"
    }
   ],
   "source": [
    "#Add test score to dataframe for comparision with other model performance\n",
    "metric_df= metric_df.dropna()\n",
    "metric_df = metric_df.append(df1)\n",
    "metric_df"
   ]
  },
  {
   "cell_type": "markdown",
   "id": "e90d7e35",
   "metadata": {},
   "source": [
    "### XG Boost"
   ]
  },
  {
   "cell_type": "code",
   "execution_count": 111,
   "id": "72d1e4a8",
   "metadata": {},
   "outputs": [
    {
     "name": "stdout",
     "output_type": "stream",
     "text": [
      "Looking in indexes: https://pypi.org/simple, https://pip.repos.neuron.amazonaws.com\n",
      "Requirement already satisfied: xgboost in /home/ec2-user/anaconda3/envs/python3/lib/python3.10/site-packages (1.7.5)\n",
      "Requirement already satisfied: numpy in /home/ec2-user/anaconda3/envs/python3/lib/python3.10/site-packages (from xgboost) (1.22.3)\n",
      "Requirement already satisfied: scipy in /home/ec2-user/anaconda3/envs/python3/lib/python3.10/site-packages (from xgboost) (1.10.0)\n"
     ]
    }
   ],
   "source": [
    "!pip install xgboost"
   ]
  },
  {
   "cell_type": "code",
   "execution_count": 227,
   "id": "5afd1c33",
   "metadata": {},
   "outputs": [
    {
     "name": "stdout",
     "output_type": "stream",
     "text": [
      "Fitting 3 folds for each of 48 candidates, totalling 144 fits\n",
      "[08:10:00] WARNING: ../src/learner.cc:767: \n",
      "Parameters: { \"max_features\" } are not used.\n",
      "\n"
     ]
    },
    {
     "data": {
      "text/html": [
       "<style>#sk-container-id-5 {color: black;background-color: white;}#sk-container-id-5 pre{padding: 0;}#sk-container-id-5 div.sk-toggleable {background-color: white;}#sk-container-id-5 label.sk-toggleable__label {cursor: pointer;display: block;width: 100%;margin-bottom: 0;padding: 0.3em;box-sizing: border-box;text-align: center;}#sk-container-id-5 label.sk-toggleable__label-arrow:before {content: \"▸\";float: left;margin-right: 0.25em;color: #696969;}#sk-container-id-5 label.sk-toggleable__label-arrow:hover:before {color: black;}#sk-container-id-5 div.sk-estimator:hover label.sk-toggleable__label-arrow:before {color: black;}#sk-container-id-5 div.sk-toggleable__content {max-height: 0;max-width: 0;overflow: hidden;text-align: left;background-color: #f0f8ff;}#sk-container-id-5 div.sk-toggleable__content pre {margin: 0.2em;color: black;border-radius: 0.25em;background-color: #f0f8ff;}#sk-container-id-5 input.sk-toggleable__control:checked~div.sk-toggleable__content {max-height: 200px;max-width: 100%;overflow: auto;}#sk-container-id-5 input.sk-toggleable__control:checked~label.sk-toggleable__label-arrow:before {content: \"▾\";}#sk-container-id-5 div.sk-estimator input.sk-toggleable__control:checked~label.sk-toggleable__label {background-color: #d4ebff;}#sk-container-id-5 div.sk-label input.sk-toggleable__control:checked~label.sk-toggleable__label {background-color: #d4ebff;}#sk-container-id-5 input.sk-hidden--visually {border: 0;clip: rect(1px 1px 1px 1px);clip: rect(1px, 1px, 1px, 1px);height: 1px;margin: -1px;overflow: hidden;padding: 0;position: absolute;width: 1px;}#sk-container-id-5 div.sk-estimator {font-family: monospace;background-color: #f0f8ff;border: 1px dotted black;border-radius: 0.25em;box-sizing: border-box;margin-bottom: 0.5em;}#sk-container-id-5 div.sk-estimator:hover {background-color: #d4ebff;}#sk-container-id-5 div.sk-parallel-item::after {content: \"\";width: 100%;border-bottom: 1px solid gray;flex-grow: 1;}#sk-container-id-5 div.sk-label:hover label.sk-toggleable__label {background-color: #d4ebff;}#sk-container-id-5 div.sk-serial::before {content: \"\";position: absolute;border-left: 1px solid gray;box-sizing: border-box;top: 0;bottom: 0;left: 50%;z-index: 0;}#sk-container-id-5 div.sk-serial {display: flex;flex-direction: column;align-items: center;background-color: white;padding-right: 0.2em;padding-left: 0.2em;position: relative;}#sk-container-id-5 div.sk-item {position: relative;z-index: 1;}#sk-container-id-5 div.sk-parallel {display: flex;align-items: stretch;justify-content: center;background-color: white;position: relative;}#sk-container-id-5 div.sk-item::before, #sk-container-id-5 div.sk-parallel-item::before {content: \"\";position: absolute;border-left: 1px solid gray;box-sizing: border-box;top: 0;bottom: 0;left: 50%;z-index: -1;}#sk-container-id-5 div.sk-parallel-item {display: flex;flex-direction: column;z-index: 1;position: relative;background-color: white;}#sk-container-id-5 div.sk-parallel-item:first-child::after {align-self: flex-end;width: 50%;}#sk-container-id-5 div.sk-parallel-item:last-child::after {align-self: flex-start;width: 50%;}#sk-container-id-5 div.sk-parallel-item:only-child::after {width: 0;}#sk-container-id-5 div.sk-dashed-wrapped {border: 1px dashed gray;margin: 0 0.4em 0.5em 0.4em;box-sizing: border-box;padding-bottom: 0.4em;background-color: white;}#sk-container-id-5 div.sk-label label {font-family: monospace;font-weight: bold;display: inline-block;line-height: 1.2em;}#sk-container-id-5 div.sk-label-container {text-align: center;}#sk-container-id-5 div.sk-container {/* jupyter's `normalize.less` sets `[hidden] { display: none; }` but bootstrap.min.css set `[hidden] { display: none !important; }` so we also need the `!important` here to be able to override the default hidden behavior on the sphinx rendered scikit-learn.org. See: https://github.com/scikit-learn/scikit-learn/issues/21755 */display: inline-block !important;position: relative;}#sk-container-id-5 div.sk-text-repr-fallback {display: none;}</style><div id=\"sk-container-id-5\" class=\"sk-top-container\"><div class=\"sk-text-repr-fallback\"><pre>GridSearchCV(cv=3,\n",
       "             estimator=XGBClassifier(base_score=None, booster=None,\n",
       "                                     callbacks=None, colsample_bylevel=None,\n",
       "                                     colsample_bynode=None,\n",
       "                                     colsample_bytree=None,\n",
       "                                     early_stopping_rounds=None,\n",
       "                                     enable_categorical=False, eval_metric=None,\n",
       "                                     feature_types=None, gamma=None,\n",
       "                                     gpu_id=None, grow_policy=None,\n",
       "                                     importance_type=None,\n",
       "                                     interaction_constraints=None,\n",
       "                                     learning_rate=None,...\n",
       "                                     max_leaves=None, min_child_weight=None,\n",
       "                                     missing=nan, monotone_constraints=None,\n",
       "                                     n_estimators=100, n_jobs=None,\n",
       "                                     num_parallel_tree=None, predictor=None,\n",
       "                                     random_state=None, ...),\n",
       "             n_jobs=-1,\n",
       "             param_grid={&#x27;learning_rate&#x27;: [0.2, 0.4], &#x27;max_depth&#x27;: [5, 10],\n",
       "                         &#x27;max_features&#x27;: [10, 20],\n",
       "                         &#x27;n_estimators&#x27;: [100, 200, 300], &#x27;subsample&#x27;: [0, 1]},\n",
       "             return_train_score=True, scoring=&#x27;accuracy&#x27;, verbose=1)</pre><b>In a Jupyter environment, please rerun this cell to show the HTML representation or trust the notebook. <br />On GitHub, the HTML representation is unable to render, please try loading this page with nbviewer.org.</b></div><div class=\"sk-container\" hidden><div class=\"sk-item sk-dashed-wrapped\"><div class=\"sk-label-container\"><div class=\"sk-label sk-toggleable\"><input class=\"sk-toggleable__control sk-hidden--visually\" id=\"sk-estimator-id-13\" type=\"checkbox\" ><label for=\"sk-estimator-id-13\" class=\"sk-toggleable__label sk-toggleable__label-arrow\">GridSearchCV</label><div class=\"sk-toggleable__content\"><pre>GridSearchCV(cv=3,\n",
       "             estimator=XGBClassifier(base_score=None, booster=None,\n",
       "                                     callbacks=None, colsample_bylevel=None,\n",
       "                                     colsample_bynode=None,\n",
       "                                     colsample_bytree=None,\n",
       "                                     early_stopping_rounds=None,\n",
       "                                     enable_categorical=False, eval_metric=None,\n",
       "                                     feature_types=None, gamma=None,\n",
       "                                     gpu_id=None, grow_policy=None,\n",
       "                                     importance_type=None,\n",
       "                                     interaction_constraints=None,\n",
       "                                     learning_rate=None,...\n",
       "                                     max_leaves=None, min_child_weight=None,\n",
       "                                     missing=nan, monotone_constraints=None,\n",
       "                                     n_estimators=100, n_jobs=None,\n",
       "                                     num_parallel_tree=None, predictor=None,\n",
       "                                     random_state=None, ...),\n",
       "             n_jobs=-1,\n",
       "             param_grid={&#x27;learning_rate&#x27;: [0.2, 0.4], &#x27;max_depth&#x27;: [5, 10],\n",
       "                         &#x27;max_features&#x27;: [10, 20],\n",
       "                         &#x27;n_estimators&#x27;: [100, 200, 300], &#x27;subsample&#x27;: [0, 1]},\n",
       "             return_train_score=True, scoring=&#x27;accuracy&#x27;, verbose=1)</pre></div></div></div><div class=\"sk-parallel\"><div class=\"sk-parallel-item\"><div class=\"sk-item\"><div class=\"sk-label-container\"><div class=\"sk-label sk-toggleable\"><input class=\"sk-toggleable__control sk-hidden--visually\" id=\"sk-estimator-id-14\" type=\"checkbox\" ><label for=\"sk-estimator-id-14\" class=\"sk-toggleable__label sk-toggleable__label-arrow\">estimator: XGBClassifier</label><div class=\"sk-toggleable__content\"><pre>XGBClassifier(base_score=None, booster=None, callbacks=None,\n",
       "              colsample_bylevel=None, colsample_bynode=None,\n",
       "              colsample_bytree=None, early_stopping_rounds=None,\n",
       "              enable_categorical=False, eval_metric=None, feature_types=None,\n",
       "              gamma=None, gpu_id=None, grow_policy=None, importance_type=None,\n",
       "              interaction_constraints=None, learning_rate=None, max_bin=None,\n",
       "              max_cat_threshold=None, max_cat_to_onehot=None,\n",
       "              max_delta_step=None, max_depth=None, max_leaves=None,\n",
       "              min_child_weight=None, missing=nan, monotone_constraints=None,\n",
       "              n_estimators=100, n_jobs=None, num_parallel_tree=None,\n",
       "              predictor=None, random_state=None, ...)</pre></div></div></div><div class=\"sk-serial\"><div class=\"sk-item\"><div class=\"sk-estimator sk-toggleable\"><input class=\"sk-toggleable__control sk-hidden--visually\" id=\"sk-estimator-id-15\" type=\"checkbox\" ><label for=\"sk-estimator-id-15\" class=\"sk-toggleable__label sk-toggleable__label-arrow\">XGBClassifier</label><div class=\"sk-toggleable__content\"><pre>XGBClassifier(base_score=None, booster=None, callbacks=None,\n",
       "              colsample_bylevel=None, colsample_bynode=None,\n",
       "              colsample_bytree=None, early_stopping_rounds=None,\n",
       "              enable_categorical=False, eval_metric=None, feature_types=None,\n",
       "              gamma=None, gpu_id=None, grow_policy=None, importance_type=None,\n",
       "              interaction_constraints=None, learning_rate=None, max_bin=None,\n",
       "              max_cat_threshold=None, max_cat_to_onehot=None,\n",
       "              max_delta_step=None, max_depth=None, max_leaves=None,\n",
       "              min_child_weight=None, missing=nan, monotone_constraints=None,\n",
       "              n_estimators=100, n_jobs=None, num_parallel_tree=None,\n",
       "              predictor=None, random_state=None, ...)</pre></div></div></div></div></div></div></div></div></div></div>"
      ],
      "text/plain": [
       "GridSearchCV(cv=3,\n",
       "             estimator=XGBClassifier(base_score=None, booster=None,\n",
       "                                     callbacks=None, colsample_bylevel=None,\n",
       "                                     colsample_bynode=None,\n",
       "                                     colsample_bytree=None,\n",
       "                                     early_stopping_rounds=None,\n",
       "                                     enable_categorical=False, eval_metric=None,\n",
       "                                     feature_types=None, gamma=None,\n",
       "                                     gpu_id=None, grow_policy=None,\n",
       "                                     importance_type=None,\n",
       "                                     interaction_constraints=None,\n",
       "                                     learning_rate=None,...\n",
       "                                     max_leaves=None, min_child_weight=None,\n",
       "                                     missing=nan, monotone_constraints=None,\n",
       "                                     n_estimators=100, n_jobs=None,\n",
       "                                     num_parallel_tree=None, predictor=None,\n",
       "                                     random_state=None, ...),\n",
       "             n_jobs=-1,\n",
       "             param_grid={'learning_rate': [0.2, 0.4], 'max_depth': [5, 10],\n",
       "                         'max_features': [10, 20],\n",
       "                         'n_estimators': [100, 200, 300], 'subsample': [0, 1]},\n",
       "             return_train_score=True, scoring='accuracy', verbose=1)"
      ]
     },
     "execution_count": 227,
     "metadata": {},
     "output_type": "execute_result"
    }
   ],
   "source": [
    "import xgboost as xgb\n",
    "\n",
    "# Importing random forest classifier\n",
    "from sklearn.ensemble import GradientBoostingClassifier\n",
    "\n",
    "# Create the parameter grid \n",
    "param_grid = {\n",
    "    'max_depth': [5,10],\n",
    "    'subsample':[0,1],\n",
    "    'n_estimators': [100,200,300], \n",
    "    'max_features': [10,20],\n",
    "    'learning_rate': [0.2,0.4]\n",
    "}\n",
    "\n",
    "\n",
    "# Instantiate the grid search model\n",
    "xgb= xgb.XGBClassifier()\n",
    "\n",
    "model_xgb = GridSearchCV(estimator = xgb, \n",
    "                           param_grid = param_grid, \n",
    "                           scoring= 'accuracy',\n",
    "                           cv = 3,\n",
    "                           n_jobs=-1,\n",
    "                           verbose = 1,\n",
    "                           return_train_score=True)\n",
    "\n",
    "# Fit the grid search to the data\n",
    "model_xgb.fit(X_train_pca_final, y_train)"
   ]
  },
  {
   "cell_type": "code",
   "execution_count": 228,
   "id": "1d1e570c",
   "metadata": {},
   "outputs": [
    {
     "name": "stdout",
     "output_type": "stream",
     "text": [
      " The highest train accuracy is 0.9658948542950913 at max_depth = 10, subsample = 1,n_estimators = 300,max_features=10,learning_rate=0.2 \n"
     ]
    }
   ],
   "source": [
    "# Best recall with best optimized value of hyperparameters\n",
    "best_score = model_xgb.best_score_\n",
    "best_max_depth = model_xgb.best_params_['max_depth']\n",
    "best_subsample = model_xgb.best_params_['subsample']\n",
    "best_n_estimators=model_xgb.best_params_['n_estimators']\n",
    "best_max_features = model_xgb.best_params_['max_features']\n",
    "best_learning_rate = model_xgb.best_params_['learning_rate']\n",
    "\n",
    "print(\" The highest train accuracy is {0} at max_depth = {1}, subsample = {2},n_estimators = {3},max_features={4},learning_rate={5} \".format(best_score,best_max_depth,best_subsample,best_n_estimators,best_max_features,best_learning_rate))"
   ]
  },
  {
   "cell_type": "code",
   "execution_count": 229,
   "id": "927610fe",
   "metadata": {},
   "outputs": [
    {
     "name": "stdout",
     "output_type": "stream",
     "text": [
      "[08:11:17] WARNING: ../src/learner.cc:767: \n",
      "Parameters: { \"max_features\" } are not used.\n",
      "\n"
     ]
    }
   ],
   "source": [
    "# Instantiate the model with best hyperparameters\n",
    "import xgboost as xgb\n",
    "xgb_pca = xgb.XGBClassifier(max_depth=best_max_depth,subsample=best_subsample,\n",
    "                                n_estimators=best_n_estimators,max_features=best_max_features,learning_rate=best_learning_rate)\n",
    "\n",
    "# Fit the model on the train set\n",
    "xgb_model_pca = xgb_pca.fit(X_train_pca_final, y_train)\n",
    "\n",
    "# Predictions on the train and test set\n",
    "y_train_pred = xgb_model_pca.predict(X_train_pca_final)\n",
    "y_test_pred = xgb_model_pca.predict(X_test_pca_final)\n",
    "\n",
    "#check predict probability on train data\n",
    "pred_prob_train = xgb_model_pca.predict_proba(X_train_pca_final)\n",
    "\n",
    "#check predict probability on test data\n",
    "pred_prob_test = xgb_model_pca.predict_proba(X_test_pca_final)"
   ]
  },
  {
   "cell_type": "code",
   "execution_count": 230,
   "id": "8b670c79",
   "metadata": {},
   "outputs": [
    {
     "name": "stdout",
     "output_type": "stream",
     "text": [
      "Training Metrics are\n",
      "XG Boost:\n",
      "accuracy: 1.0\n",
      "precision: 1.0\n",
      "recall: 1.0\n",
      "f1_score: 1.0\n",
      "roc_auc: 1.0\n",
      "\n",
      "Test Metrics are\n",
      "XG Boost:\n",
      "accuracy: 0.9273550334123734\n",
      "precision: 0.3941176470588235\n",
      "recall: 0.5056603773584906\n",
      "f1_score: 0.4429752066115702\n",
      "roc_auc: 0.8892063738558031\n"
     ]
    }
   ],
   "source": [
    "#check various metric scores on test data\n",
    "\n",
    "print(\"Training Metrics are\")\n",
    "calculate_performance(\"XG Boost\",y_train,y_train_pred,pred_prob_train[:,1])\n",
    "\n",
    "print(\"\\nTest Metrics are\")\n",
    "df1 = calculate_performance(\"XG Boost\",y_test,y_test_pred,pred_prob_test[:,1])"
   ]
  },
  {
   "cell_type": "code",
   "execution_count": 231,
   "id": "9d6ade60",
   "metadata": {},
   "outputs": [
    {
     "data": {
      "text/html": [
       "<div>\n",
       "<style scoped>\n",
       "    .dataframe tbody tr th:only-of-type {\n",
       "        vertical-align: middle;\n",
       "    }\n",
       "\n",
       "    .dataframe tbody tr th {\n",
       "        vertical-align: top;\n",
       "    }\n",
       "\n",
       "    .dataframe thead th {\n",
       "        text-align: right;\n",
       "    }\n",
       "</style>\n",
       "<table border=\"1\" class=\"dataframe\">\n",
       "  <thead>\n",
       "    <tr style=\"text-align: right;\">\n",
       "      <th></th>\n",
       "      <th>Model</th>\n",
       "      <th>accuracy</th>\n",
       "      <th>precision</th>\n",
       "      <th>recall</th>\n",
       "      <th>f1_score</th>\n",
       "      <th>roc_auc</th>\n",
       "    </tr>\n",
       "  </thead>\n",
       "  <tbody>\n",
       "    <tr>\n",
       "      <th>0</th>\n",
       "      <td>LogisticRegression</td>\n",
       "      <td>0.792628</td>\n",
       "      <td>0.189117</td>\n",
       "      <td>0.800000</td>\n",
       "      <td>0.305916</td>\n",
       "      <td>0.879388</td>\n",
       "    </tr>\n",
       "    <tr>\n",
       "      <th>0</th>\n",
       "      <td>Decision trees</td>\n",
       "      <td>0.828196</td>\n",
       "      <td>0.199774</td>\n",
       "      <td>0.667925</td>\n",
       "      <td>0.307559</td>\n",
       "      <td>0.822778</td>\n",
       "    </tr>\n",
       "    <tr>\n",
       "      <th>0</th>\n",
       "      <td>Random Forest</td>\n",
       "      <td>0.878853</td>\n",
       "      <td>0.280650</td>\n",
       "      <td>0.716981</td>\n",
       "      <td>0.403397</td>\n",
       "      <td>0.892989</td>\n",
       "    </tr>\n",
       "    <tr>\n",
       "      <th>0</th>\n",
       "      <td>Gradient Boosting</td>\n",
       "      <td>0.928864</td>\n",
       "      <td>0.402985</td>\n",
       "      <td>0.509434</td>\n",
       "      <td>0.450000</td>\n",
       "      <td>0.885656</td>\n",
       "    </tr>\n",
       "    <tr>\n",
       "      <th>0</th>\n",
       "      <td>XG Boost</td>\n",
       "      <td>0.927355</td>\n",
       "      <td>0.394118</td>\n",
       "      <td>0.505660</td>\n",
       "      <td>0.442975</td>\n",
       "      <td>0.889206</td>\n",
       "    </tr>\n",
       "  </tbody>\n",
       "</table>\n",
       "</div>"
      ],
      "text/plain": [
       "                Model  accuracy  precision    recall  f1_score   roc_auc\n",
       "0  LogisticRegression  0.792628   0.189117  0.800000  0.305916  0.879388\n",
       "0      Decision trees  0.828196   0.199774  0.667925  0.307559  0.822778\n",
       "0       Random Forest  0.878853   0.280650  0.716981  0.403397  0.892989\n",
       "0   Gradient Boosting  0.928864   0.402985  0.509434  0.450000  0.885656\n",
       "0            XG Boost  0.927355   0.394118  0.505660  0.442975  0.889206"
      ]
     },
     "execution_count": 231,
     "metadata": {},
     "output_type": "execute_result"
    },
    {
     "name": "stdout",
     "output_type": "stream",
     "text": [
      "[07:40:23] WARNING: ../src/learner.cc:767: \n",
      "Parameters: { \"max_features\" } are not used.\n",
      "\n",
      "[07:41:01] WARNING: ../src/learner.cc:767: \n",
      "Parameters: { \"max_features\" } are not used.\n",
      "\n",
      "[07:42:19] WARNING: ../src/learner.cc:767: \n",
      "Parameters: { \"max_features\" } are not used.\n",
      "\n",
      "[07:44:11] WARNING: ../src/learner.cc:767: \n",
      "Parameters: { \"max_features\" } are not used.\n",
      "\n",
      "[07:44:15] WARNING: ../src/learner.cc:767: \n",
      "Parameters: { \"max_features\" } are not used.\n",
      "\n",
      "[07:44:19] WARNING: ../src/learner.cc:767: \n",
      "Parameters: { \"max_features\" } are not used.\n",
      "\n",
      "[07:44:23] WARNING: ../src/learner.cc:767: \n",
      "Parameters: { \"max_features\" } are not used.\n",
      "\n",
      "[07:46:15] WARNING: ../src/learner.cc:767: \n",
      "Parameters: { \"max_features\" } are not used.\n",
      "\n",
      "[07:47:26] WARNING: ../src/learner.cc:767: \n",
      "Parameters: { \"max_features\" } are not used.\n",
      "\n",
      "[07:49:34] WARNING: ../src/learner.cc:767: \n",
      "Parameters: { \"max_features\" } are not used.\n",
      "\n",
      "[07:49:36] WARNING: ../src/learner.cc:767: \n",
      "Parameters: { \"max_features\" } are not used.\n",
      "\n",
      "[07:49:37] WARNING: ../src/learner.cc:767: \n",
      "Parameters: { \"max_features\" } are not used.\n",
      "\n",
      "[07:49:39] WARNING: ../src/learner.cc:767: \n",
      "Parameters: { \"max_features\" } are not used.\n",
      "\n",
      "[07:50:52] WARNING: ../src/learner.cc:767: \n",
      "Parameters: { \"max_features\" } are not used.\n",
      "\n",
      "[07:52:03] WARNING: ../src/learner.cc:767: \n",
      "Parameters: { \"max_features\" } are not used.\n",
      "\n",
      "[07:54:11] WARNING: ../src/learner.cc:767: \n",
      "Parameters: { \"max_features\" } are not used.\n",
      "\n",
      "[07:54:13] WARNING: ../src/learner.cc:767: \n",
      "Parameters: { \"max_features\" } are not used.\n",
      "\n",
      "[07:54:14] WARNING: ../src/learner.cc:767: \n",
      "Parameters: { \"max_features\" } are not used.\n",
      "\n",
      "[07:54:16] WARNING: ../src/learner.cc:767: \n",
      "Parameters: { \"max_features\" } are not used.\n",
      "\n",
      "[07:54:53] WARNING: ../src/learner.cc:767: \n",
      "Parameters: { \"max_features\" } are not used.\n",
      "\n",
      "[07:55:31] WARNING: ../src/learner.cc:767: \n",
      "Parameters: { \"max_features\" } are not used.\n",
      "\n",
      "[07:55:34] WARNING: ../src/learner.cc:767: \n",
      "Parameters: { \"max_features\" } are not used.\n",
      "\n",
      "[07:55:37] WARNING: ../src/learner.cc:767: \n",
      "Parameters: { \"max_features\" } are not used.\n",
      "\n",
      "[07:55:40] WARNING: ../src/learner.cc:767: \n",
      "Parameters: { \"max_features\" } are not used.\n",
      "\n",
      "[07:56:56] WARNING: ../src/learner.cc:767: \n",
      "Parameters: { \"max_features\" } are not used.\n",
      "\n",
      "[07:58:11] WARNING: ../src/learner.cc:767: \n",
      "Parameters: { \"max_features\" } are not used.\n",
      "\n",
      "[07:58:13] WARNING: ../src/learner.cc:767: \n",
      "Parameters: { \"max_features\" } are not used.\n",
      "\n",
      "[07:58:14] WARNING: ../src/learner.cc:767: \n",
      "Parameters: { \"max_features\" } are not used.\n",
      "\n",
      "[07:58:16] WARNING: ../src/learner.cc:767: \n",
      "Parameters: { \"max_features\" } are not used.\n",
      "\n",
      "[07:58:53] WARNING: ../src/learner.cc:767: \n",
      "Parameters: { \"max_features\" } are not used.\n",
      "\n",
      "[07:59:31] WARNING: ../src/learner.cc:767: \n",
      "Parameters: { \"max_features\" } are not used.\n",
      "\n",
      "[08:00:47] WARNING: ../src/learner.cc:767: \n",
      "Parameters: { \"max_features\" } are not used.\n",
      "\n",
      "[08:00:48] WARNING: ../src/learner.cc:767: \n",
      "Parameters: { \"max_features\" } are not used.\n",
      "\n",
      "[08:00:50] WARNING: ../src/learner.cc:767: \n",
      "Parameters: { \"max_features\" } are not used.\n",
      "\n",
      "[08:00:51] WARNING: ../src/learner.cc:767: \n",
      "Parameters: { \"max_features\" } are not used.\n",
      "\n",
      "[08:01:54] WARNING: ../src/learner.cc:767: \n",
      "Parameters: { \"max_features\" } are not used.\n",
      "\n",
      "[08:02:59] WARNING: ../src/learner.cc:767: \n",
      "Parameters: { \"max_features\" } are not used.\n",
      "\n",
      "[08:03:03] WARNING: ../src/learner.cc:767: \n",
      "Parameters: { \"max_features\" } are not used.\n",
      "\n",
      "[08:03:07] WARNING: ../src/learner.cc:767: \n",
      "Parameters: { \"max_features\" } are not used.\n",
      "\n",
      "[08:03:11] WARNING: ../src/learner.cc:767: \n",
      "Parameters: { \"max_features\" } are not used.\n",
      "\n",
      "[08:05:31] WARNING: ../src/learner.cc:767: \n",
      "Parameters: { \"max_features\" } are not used.\n",
      "\n",
      "[08:06:36] WARNING: ../src/learner.cc:767: \n",
      "Parameters: { \"max_features\" } are not used.\n",
      "\n",
      "[07:40:23] WARNING: ../src/learner.cc:767: \n",
      "Parameters: { \"max_features\" } are not used.\n",
      "\n",
      "[07:40:24] WARNING: ../src/learner.cc:767: \n",
      "Parameters: { \"max_features\" } are not used.\n",
      "\n",
      "[07:41:02] WARNING: ../src/learner.cc:767: \n",
      "Parameters: { \"max_features\" } are not used.\n",
      "\n",
      "[07:42:20] WARNING: ../src/learner.cc:767: \n",
      "Parameters: { \"max_features\" } are not used.\n",
      "\n",
      "[07:42:21] WARNING: ../src/learner.cc:767: \n",
      "Parameters: { \"max_features\" } are not used.\n",
      "\n",
      "[07:42:23] WARNING: ../src/learner.cc:767: \n",
      "Parameters: { \"max_features\" } are not used.\n",
      "\n",
      "[07:42:24] WARNING: ../src/learner.cc:767: \n",
      "Parameters: { \"max_features\" } are not used.\n",
      "\n",
      "[07:43:02] WARNING: ../src/learner.cc:767: \n",
      "Parameters: { \"max_features\" } are not used.\n",
      "\n",
      "[07:43:40] WARNING: ../src/learner.cc:767: \n",
      "Parameters: { \"max_features\" } are not used.\n",
      "\n",
      "[07:43:43] WARNING: ../src/learner.cc:767: \n",
      "Parameters: { \"max_features\" } are not used.\n",
      "\n",
      "[07:43:46] WARNING: ../src/learner.cc:767: \n",
      "Parameters: { \"max_features\" } are not used.\n",
      "\n",
      "[07:45:03] WARNING: ../src/learner.cc:767: \n",
      "Parameters: { \"max_features\" } are not used.\n",
      "\n",
      "[07:45:05] WARNING: ../src/learner.cc:767: \n",
      "Parameters: { \"max_features\" } are not used.\n",
      "\n",
      "[07:45:06] WARNING: ../src/learner.cc:767: \n",
      "Parameters: { \"max_features\" } are not used.\n",
      "\n",
      "[07:45:08] WARNING: ../src/learner.cc:767: \n",
      "Parameters: { \"max_features\" } are not used.\n",
      "\n",
      "[07:46:20] WARNING: ../src/learner.cc:767: \n",
      "Parameters: { \"max_features\" } are not used.\n",
      "\n",
      "[07:47:31] WARNING: ../src/learner.cc:767: \n",
      "Parameters: { \"max_features\" } are not used.\n",
      "\n",
      "[07:47:35] WARNING: ../src/learner.cc:767: \n",
      "Parameters: { \"max_features\" } are not used.\n",
      "\n",
      "[07:47:39] WARNING: ../src/learner.cc:767: \n",
      "Parameters: { \"max_features\" } are not used.\n",
      "\n",
      "[07:47:44] WARNING: ../src/learner.cc:767: \n",
      "Parameters: { \"max_features\" } are not used.\n",
      "\n",
      "[07:50:38] WARNING: ../src/learner.cc:767: \n",
      "Parameters: { \"max_features\" } are not used.\n",
      "\n",
      "[07:51:50] WARNING: ../src/learner.cc:767: \n",
      "Parameters: { \"max_features\" } are not used.\n",
      "\n",
      "[07:51:53] WARNING: ../src/learner.cc:767: \n",
      "Parameters: { \"max_features\" } are not used.\n",
      "\n",
      "[07:51:56] WARNING: ../src/learner.cc:767: \n",
      "Parameters: { \"max_features\" } are not used.\n",
      "\n",
      "[07:51:58] WARNING: ../src/learner.cc:767: \n",
      "Parameters: { \"max_features\" } are not used.\n",
      "\n",
      "[07:54:06] WARNING: ../src/learner.cc:767: \n",
      "Parameters: { \"max_features\" } are not used.\n",
      "\n",
      "[07:57:05] WARNING: ../src/learner.cc:767: \n",
      "Parameters: { \"max_features\" } are not used.\n",
      "\n",
      "[07:57:09] WARNING: ../src/learner.cc:767: \n",
      "Parameters: { \"max_features\" } are not used.\n",
      "\n",
      "[07:58:58] WARNING: ../src/learner.cc:767: \n",
      "Parameters: { \"max_features\" } are not used.\n",
      "\n",
      "[07:59:35] WARNING: ../src/learner.cc:767: \n",
      "Parameters: { \"max_features\" } are not used.\n",
      "\n",
      "[07:59:40] WARNING: ../src/learner.cc:767: \n",
      "Parameters: { \"max_features\" } are not used.\n",
      "\n",
      "[07:59:45] WARNING: ../src/learner.cc:767: \n",
      "Parameters: { \"max_features\" } are not used.\n",
      "\n",
      "[07:59:49] WARNING: ../src/learner.cc:767: \n",
      "Parameters: { \"max_features\" } are not used.\n",
      "\n",
      "[08:01:37] WARNING: ../src/learner.cc:767: \n",
      "Parameters: { \"max_features\" } are not used.\n",
      "\n",
      "[08:02:41] WARNING: ../src/learner.cc:767: \n",
      "Parameters: { \"max_features\" } are not used.\n",
      "\n",
      "[08:04:30] WARNING: ../src/learner.cc:767: \n",
      "Parameters: { \"max_features\" } are not used.\n",
      "\n",
      "[08:04:32] WARNING: ../src/learner.cc:767: \n",
      "Parameters: { \"max_features\" } are not used.\n",
      "\n",
      "[08:04:34] WARNING: ../src/learner.cc:767: \n",
      "Parameters: { \"max_features\" } are not used.\n",
      "\n",
      "[08:04:35] WARNING: ../src/learner.cc:767: \n",
      "Parameters: { \"max_features\" } are not used.\n",
      "\n",
      "[08:05:38] WARNING: ../src/learner.cc:767: \n",
      "Parameters: { \"max_features\" } are not used.\n",
      "\n",
      "[08:06:44] WARNING: ../src/learner.cc:767: \n",
      "Parameters: { \"max_features\" } are not used.\n",
      "\n",
      "[08:06:48] WARNING: ../src/learner.cc:767: \n",
      "Parameters: { \"max_features\" } are not used.\n",
      "\n",
      "[08:06:52] WARNING: ../src/learner.cc:767: \n",
      "Parameters: { \"max_features\" } are not used.\n",
      "\n",
      "[08:06:56] WARNING: ../src/learner.cc:767: \n",
      "Parameters: { \"max_features\" } are not used.\n",
      "\n",
      "[07:40:23] WARNING: ../src/learner.cc:767: \n",
      "Parameters: { \"max_features\" } are not used.\n",
      "\n",
      "[07:40:25] WARNING: ../src/learner.cc:767: \n",
      "Parameters: { \"max_features\" } are not used.\n",
      "\n",
      "[07:40:27] WARNING: ../src/learner.cc:767: \n",
      "Parameters: { \"max_features\" } are not used.\n",
      "\n",
      "[07:40:30] WARNING: ../src/learner.cc:767: \n",
      "Parameters: { \"max_features\" } are not used.\n",
      "\n",
      "[07:40:33] WARNING: ../src/learner.cc:767: \n",
      "Parameters: { \"max_features\" } are not used.\n",
      "\n",
      "[07:41:49] WARNING: ../src/learner.cc:767: \n",
      "Parameters: { \"max_features\" } are not used.\n",
      "\n",
      "[07:43:41] WARNING: ../src/learner.cc:767: \n",
      "Parameters: { \"max_features\" } are not used.\n",
      "\n",
      "[07:43:44] WARNING: ../src/learner.cc:767: \n",
      "Parameters: { \"max_features\" } are not used.\n",
      "\n",
      "[07:45:01] WARNING: ../src/learner.cc:767: \n",
      "Parameters: { \"max_features\" } are not used.\n",
      "\n",
      "[07:46:53] WARNING: ../src/learner.cc:767: \n",
      "Parameters: { \"max_features\" } are not used.\n",
      "\n",
      "[07:46:56] WARNING: ../src/learner.cc:767: \n",
      "Parameters: { \"max_features\" } are not used.\n",
      "\n",
      "[07:46:59] WARNING: ../src/learner.cc:767: \n",
      "Parameters: { \"max_features\" } are not used.\n",
      "\n",
      "[07:49:08] WARNING: ../src/learner.cc:767: \n",
      "Parameters: { \"max_features\" } are not used.\n",
      "\n",
      "[07:52:04] WARNING: ../src/learner.cc:767: \n",
      "Parameters: { \"max_features\" } are not used.\n",
      "\n",
      "[07:52:08] WARNING: ../src/learner.cc:767: \n",
      "Parameters: { \"max_features\" } are not used.\n",
      "\n",
      "[07:52:12] WARNING: ../src/learner.cc:767: \n",
      "Parameters: { \"max_features\" } are not used.\n",
      "\n",
      "[07:52:16] WARNING: ../src/learner.cc:767: \n",
      "Parameters: { \"max_features\" } are not used.\n",
      "\n",
      "[07:55:11] WARNING: ../src/learner.cc:767: \n",
      "Parameters: { \"max_features\" } are not used.\n",
      "\n",
      "[07:55:49] WARNING: ../src/learner.cc:767: \n",
      "Parameters: { \"max_features\" } are not used.\n",
      "\n",
      "[07:57:05] WARNING: ../src/learner.cc:767: \n",
      "Parameters: { \"max_features\" } are not used.\n",
      "\n",
      "[07:57:09] WARNING: ../src/learner.cc:767: \n",
      "Parameters: { \"max_features\" } are not used.\n",
      "\n",
      "[07:58:58] WARNING: ../src/learner.cc:767: \n",
      "Parameters: { \"max_features\" } are not used.\n",
      "\n",
      "[07:59:00] WARNING: ../src/learner.cc:767: \n",
      "Parameters: { \"max_features\" } are not used.\n",
      "\n",
      "[07:59:03] WARNING: ../src/learner.cc:767: \n",
      "Parameters: { \"max_features\" } are not used.\n",
      "\n",
      "[08:00:19] WARNING: ../src/learner.cc:767: \n",
      "Parameters: { \"max_features\" } are not used.\n",
      "\n",
      "[08:02:08] WARNING: ../src/learner.cc:767: \n",
      "Parameters: { \"max_features\" } are not used.\n",
      "\n",
      "[08:02:11] WARNING: ../src/learner.cc:767: \n",
      "Parameters: { \"max_features\" } are not used.\n",
      "\n",
      "[08:03:59] WARNING: ../src/learner.cc:767: \n",
      "Parameters: { \"max_features\" } are not used.\n",
      "\n",
      "[08:06:24] WARNING: ../src/learner.cc:767: \n",
      "Parameters: { \"max_features\" } are not used.\n",
      "\n",
      "[08:06:26] WARNING: ../src/learner.cc:767: \n",
      "Parameters: { \"max_features\" } are not used.\n",
      "\n",
      "[08:06:29] WARNING: ../src/learner.cc:767: \n",
      "Parameters: { \"max_features\" } are not used.\n",
      "\n",
      "[08:06:32] WARNING: ../src/learner.cc:767: \n",
      "Parameters: { \"max_features\" } are not used.\n",
      "\n",
      "[08:08:19] WARNING: ../src/learner.cc:767: \n",
      "Parameters: { \"max_features\" } are not used.\n",
      "\n",
      "[07:40:23] WARNING: ../src/learner.cc:767: \n",
      "Parameters: { \"max_features\" } are not used.\n",
      "\n",
      "[07:40:24] WARNING: ../src/learner.cc:767: \n",
      "Parameters: { \"max_features\" } are not used.\n",
      "\n",
      "[07:41:02] WARNING: ../src/learner.cc:767: \n",
      "Parameters: { \"max_features\" } are not used.\n",
      "\n",
      "[07:41:06] WARNING: ../src/learner.cc:767: \n",
      "Parameters: { \"max_features\" } are not used.\n",
      "\n",
      "[07:41:11] WARNING: ../src/learner.cc:767: \n",
      "Parameters: { \"max_features\" } are not used.\n",
      "\n",
      "[07:41:15] WARNING: ../src/learner.cc:767: \n",
      "Parameters: { \"max_features\" } are not used.\n",
      "\n",
      "[07:43:08] WARNING: ../src/learner.cc:767: \n",
      "Parameters: { \"max_features\" } are not used.\n",
      "\n",
      "[07:43:46] WARNING: ../src/learner.cc:767: \n",
      "Parameters: { \"max_features\" } are not used.\n",
      "\n",
      "[07:45:02] WARNING: ../src/learner.cc:767: \n",
      "Parameters: { \"max_features\" } are not used.\n",
      "\n",
      "[07:46:54] WARNING: ../src/learner.cc:767: \n",
      "Parameters: { \"max_features\" } are not used.\n",
      "\n",
      "[07:46:57] WARNING: ../src/learner.cc:767: \n",
      "Parameters: { \"max_features\" } are not used.\n",
      "\n",
      "[07:49:04] WARNING: ../src/learner.cc:767: \n",
      "Parameters: { \"max_features\" } are not used.\n",
      "\n",
      "[07:52:01] WARNING: ../src/learner.cc:767: \n",
      "Parameters: { \"max_features\" } are not used.\n",
      "\n",
      "[07:54:10] WARNING: ../src/learner.cc:767: \n",
      "Parameters: { \"max_features\" } are not used.\n",
      "\n",
      "[07:57:07] WARNING: ../src/learner.cc:767: \n",
      "Parameters: { \"max_features\" } are not used.\n",
      "\n",
      "[07:57:11] WARNING: ../src/learner.cc:767: \n",
      "Parameters: { \"max_features\" } are not used.\n",
      "\n",
      "[07:59:00] WARNING: ../src/learner.cc:767: \n",
      "Parameters: { \"max_features\" } are not used.\n",
      "\n",
      "[07:59:02] WARNING: ../src/learner.cc:767: \n",
      "Parameters: { \"max_features\" } are not used.\n",
      "\n",
      "[08:00:18] WARNING: ../src/learner.cc:767: \n",
      "Parameters: { \"max_features\" } are not used.\n",
      "\n",
      "[08:02:08] WARNING: ../src/learner.cc:767: \n",
      "Parameters: { \"max_features\" } are not used.\n",
      "\n",
      "[08:02:11] WARNING: ../src/learner.cc:767: \n",
      "Parameters: { \"max_features\" } are not used.\n",
      "\n",
      "[08:02:13] WARNING: ../src/learner.cc:767: \n",
      "Parameters: { \"max_features\" } are not used.\n",
      "\n",
      "[08:04:03] WARNING: ../src/learner.cc:767: \n",
      "Parameters: { \"max_features\" } are not used.\n",
      "\n",
      "[08:06:30] WARNING: ../src/learner.cc:767: \n",
      "Parameters: { \"max_features\" } are not used.\n",
      "\n",
      "[08:08:17] WARNING: ../src/learner.cc:767: \n",
      "Parameters: { \"max_features\" } are not used.\n",
      "\n"
     ]
    }
   ],
   "source": [
    "#Add test score to dataframe for comparision with other model performance\n",
    "metric_df= metric_df.dropna()\n",
    "metric_df = metric_df.append(df1)\n",
    "metric_df"
   ]
  },
  {
   "cell_type": "markdown",
   "id": "debf8c64",
   "metadata": {},
   "source": [
    "Looking above, Gradient Boosting performed best in terms of accuracy. \n",
    "For business goal for building a ML model that identifies customers who'll definitely churn with more accuracy as compared to the ones who'll not churn, recall metrics should be used. Recall is best for logistic Regression model hence for this use case logistic regression algorithm should be used."
   ]
  },
  {
   "cell_type": "markdown",
   "id": "74757f17",
   "metadata": {},
   "source": [
    "## Feature importance\n",
    "\n",
    "For getting important features, we can use Random Forest modeling technique."
   ]
  },
  {
   "cell_type": "code",
   "execution_count": 232,
   "id": "b6876581",
   "metadata": {},
   "outputs": [],
   "source": [
    "# Creating random forest for feature importance with X_train_scale\n",
    "rf_feature = RandomForestClassifier()\n",
    "\n",
    "# Fit the model on the train set\n",
    "rf_model_feature = rf_feature.fit(X_train_scale, y_train)\n",
    "\n",
    "# Predictions on the train and test set\n",
    "y_train_pred = rf_model_feature.predict(X_train_scale)\n",
    "y_test_pred = rf_model_feature.predict(X_test_scale)\n",
    "\n",
    "#check predict probability on train data\n",
    "pred_prob_train = rf_model_feature.predict_proba(X_train_scale)\n",
    "\n",
    "#check predict probability on test data\n",
    "pred_prob_test = rf_model_feature.predict_proba(X_test_scale)"
   ]
  },
  {
   "cell_type": "code",
   "execution_count": 233,
   "id": "a6d1b089",
   "metadata": {},
   "outputs": [
    {
     "name": "stdout",
     "output_type": "stream",
     "text": [
      "Training Metrics are\n",
      "Random forest feature:\n",
      "accuracy: 1.0\n",
      "precision: 1.0\n",
      "recall: 1.0\n",
      "f1_score: 1.0\n",
      "roc_auc: 1.0\n",
      "\n",
      "Test Metrics are\n",
      "Random Forest feature:\n",
      "accuracy: 0.9400732916576848\n",
      "precision: 0.4820936639118457\n",
      "recall: 0.660377358490566\n",
      "f1_score: 0.5573248407643312\n",
      "roc_auc: 0.9251857028237183\n"
     ]
    },
    {
     "data": {
      "text/html": [
       "<div>\n",
       "<style scoped>\n",
       "    .dataframe tbody tr th:only-of-type {\n",
       "        vertical-align: middle;\n",
       "    }\n",
       "\n",
       "    .dataframe tbody tr th {\n",
       "        vertical-align: top;\n",
       "    }\n",
       "\n",
       "    .dataframe thead th {\n",
       "        text-align: right;\n",
       "    }\n",
       "</style>\n",
       "<table border=\"1\" class=\"dataframe\">\n",
       "  <thead>\n",
       "    <tr style=\"text-align: right;\">\n",
       "      <th></th>\n",
       "      <th>Model</th>\n",
       "      <th>accuracy</th>\n",
       "      <th>precision</th>\n",
       "      <th>recall</th>\n",
       "      <th>f1_score</th>\n",
       "      <th>roc_auc</th>\n",
       "    </tr>\n",
       "  </thead>\n",
       "  <tbody>\n",
       "    <tr>\n",
       "      <th>0</th>\n",
       "      <td>Random Forest feature</td>\n",
       "      <td>0.940073</td>\n",
       "      <td>0.482094</td>\n",
       "      <td>0.660377</td>\n",
       "      <td>0.557325</td>\n",
       "      <td>0.925186</td>\n",
       "    </tr>\n",
       "  </tbody>\n",
       "</table>\n",
       "</div>"
      ],
      "text/plain": [
       "                   Model  accuracy  precision    recall  f1_score   roc_auc\n",
       "0  Random Forest feature  0.940073   0.482094  0.660377  0.557325  0.925186"
      ]
     },
     "execution_count": 233,
     "metadata": {},
     "output_type": "execute_result"
    }
   ],
   "source": [
    "#check various metric scores on test data\n",
    "\n",
    "print(\"Training Metrics are\")\n",
    "calculate_performance(\"Random forest feature\",y_train,y_train_pred,pred_prob_train[:,1])\n",
    "\n",
    "print(\"\\nTest Metrics are\")\n",
    "calculate_performance(\"Random Forest feature\",y_test,y_test_pred,pred_prob_test[:,1])"
   ]
  },
  {
   "cell_type": "code",
   "execution_count": 234,
   "id": "529647f1",
   "metadata": {},
   "outputs": [
    {
     "data": {
      "image/png": "[encoded data removed]",
      "text/plain": [
       "<Figure size 640x480 with 1 Axes>"
      ]
     },
     "metadata": {},
     "output_type": "display_data"
    }
   ],
   "source": [
    "#plot ROC curve\n",
    "from sklearn.metrics import RocCurveDisplay\n",
    "RocCurveDisplay.from_estimator(rf_model_feature,X_test_scale,y_test)\n",
    "plt.show()"
   ]
  },
  {
   "cell_type": "code",
   "execution_count": 235,
   "id": "08188e3d",
   "metadata": {},
   "outputs": [],
   "source": [
    "#Creating a Feature importance dataframe\n",
    "Feature_importance_df = pd.DataFrame({\"columns\":X_train_scale.columns,\"feature_importance\":rf_model_feature.feature_importances_})"
   ]
  },
  {
   "cell_type": "code",
   "execution_count": 236,
   "id": "040211f6",
   "metadata": {},
   "outputs": [
    {
     "data": {
      "text/html": [
       "<div>\n",
       "<style scoped>\n",
       "    .dataframe tbody tr th:only-of-type {\n",
       "        vertical-align: middle;\n",
       "    }\n",
       "\n",
       "    .dataframe tbody tr th {\n",
       "        vertical-align: top;\n",
       "    }\n",
       "\n",
       "    .dataframe thead th {\n",
       "        text-align: right;\n",
       "    }\n",
       "</style>\n",
       "<table border=\"1\" class=\"dataframe\">\n",
       "  <thead>\n",
       "    <tr style=\"text-align: right;\">\n",
       "      <th></th>\n",
       "      <th>loc_og_t2o_mou</th>\n",
       "      <th>loc_ic_t2o_mou</th>\n",
       "      <th>arpu_6</th>\n",
       "      <th>arpu_7</th>\n",
       "      <th>arpu_8</th>\n",
       "      <th>onnet_mou_6</th>\n",
       "      <th>onnet_mou_7</th>\n",
       "      <th>onnet_mou_8</th>\n",
       "      <th>offnet_mou_6</th>\n",
       "      <th>offnet_mou_7</th>\n",
       "      <th>...</th>\n",
       "      <th>aon</th>\n",
       "      <th>aug_vbc_3g</th>\n",
       "      <th>jul_vbc_3g</th>\n",
       "      <th>jun_vbc_3g</th>\n",
       "      <th>total_data_rech_6</th>\n",
       "      <th>total_data_rech_7</th>\n",
       "      <th>total_data_rech_8</th>\n",
       "      <th>amt_data_6</th>\n",
       "      <th>amt_data_7</th>\n",
       "      <th>amt_data_8</th>\n",
       "    </tr>\n",
       "  </thead>\n",
       "  <tbody>\n",
       "    <tr>\n",
       "      <th>0</th>\n",
       "      <td>0.0</td>\n",
       "      <td>0.0</td>\n",
       "      <td>-0.937333</td>\n",
       "      <td>-0.962164</td>\n",
       "      <td>-0.690266</td>\n",
       "      <td>-0.541112</td>\n",
       "      <td>-0.482372</td>\n",
       "      <td>-0.401243</td>\n",
       "      <td>-0.471422</td>\n",
       "      <td>-0.454758</td>\n",
       "      <td>...</td>\n",
       "      <td>-0.010642</td>\n",
       "      <td>2.265401</td>\n",
       "      <td>3.121323</td>\n",
       "      <td>1.344517</td>\n",
       "      <td>3.995525</td>\n",
       "      <td>4.271170</td>\n",
       "      <td>5.729637</td>\n",
       "      <td>2.865348</td>\n",
       "      <td>3.123307</td>\n",
       "      <td>3.853012</td>\n",
       "    </tr>\n",
       "    <tr>\n",
       "      <th>1</th>\n",
       "      <td>0.0</td>\n",
       "      <td>0.0</td>\n",
       "      <td>-0.557229</td>\n",
       "      <td>0.734039</td>\n",
       "      <td>-1.270703</td>\n",
       "      <td>0.359663</td>\n",
       "      <td>0.307865</td>\n",
       "      <td>-0.346876</td>\n",
       "      <td>-0.483194</td>\n",
       "      <td>-0.502112</td>\n",
       "      <td>...</td>\n",
       "      <td>0.179571</td>\n",
       "      <td>0.164814</td>\n",
       "      <td>2.287715</td>\n",
       "      <td>-0.342415</td>\n",
       "      <td>-0.433079</td>\n",
       "      <td>0.903512</td>\n",
       "      <td>-0.389363</td>\n",
       "      <td>-0.658560</td>\n",
       "      <td>1.140503</td>\n",
       "      <td>-1.000651</td>\n",
       "    </tr>\n",
       "    <tr>\n",
       "      <th>2</th>\n",
       "      <td>0.0</td>\n",
       "      <td>0.0</td>\n",
       "      <td>0.917796</td>\n",
       "      <td>-0.104662</td>\n",
       "      <td>-1.314153</td>\n",
       "      <td>0.162300</td>\n",
       "      <td>-0.497595</td>\n",
       "      <td>-0.535449</td>\n",
       "      <td>-0.305426</td>\n",
       "      <td>-0.374292</td>\n",
       "      <td>...</td>\n",
       "      <td>-0.196299</td>\n",
       "      <td>-0.333901</td>\n",
       "      <td>-0.346372</td>\n",
       "      <td>-0.078668</td>\n",
       "      <td>-0.433079</td>\n",
       "      <td>-0.419634</td>\n",
       "      <td>-0.389363</td>\n",
       "      <td>0.134862</td>\n",
       "      <td>-0.486539</td>\n",
       "      <td>-1.000651</td>\n",
       "    </tr>\n",
       "    <tr>\n",
       "      <th>3</th>\n",
       "      <td>0.0</td>\n",
       "      <td>0.0</td>\n",
       "      <td>1.149039</td>\n",
       "      <td>0.893115</td>\n",
       "      <td>1.453948</td>\n",
       "      <td>-0.500992</td>\n",
       "      <td>-0.455500</td>\n",
       "      <td>-0.400133</td>\n",
       "      <td>0.924916</td>\n",
       "      <td>0.703197</td>\n",
       "      <td>...</td>\n",
       "      <td>-0.481049</td>\n",
       "      <td>-0.333901</td>\n",
       "      <td>-0.346372</td>\n",
       "      <td>-0.342415</td>\n",
       "      <td>0.025806</td>\n",
       "      <td>1.524581</td>\n",
       "      <td>1.779460</td>\n",
       "      <td>0.235589</td>\n",
       "      <td>1.318384</td>\n",
       "      <td>2.383369</td>\n",
       "    </tr>\n",
       "    <tr>\n",
       "      <th>4</th>\n",
       "      <td>0.0</td>\n",
       "      <td>0.0</td>\n",
       "      <td>0.032562</td>\n",
       "      <td>0.867368</td>\n",
       "      <td>1.309373</td>\n",
       "      <td>-0.361316</td>\n",
       "      <td>-0.358261</td>\n",
       "      <td>0.456073</td>\n",
       "      <td>0.735257</td>\n",
       "      <td>1.687386</td>\n",
       "      <td>...</td>\n",
       "      <td>-0.785163</td>\n",
       "      <td>-0.333901</td>\n",
       "      <td>-0.346372</td>\n",
       "      <td>-0.342415</td>\n",
       "      <td>-0.433079</td>\n",
       "      <td>-0.419634</td>\n",
       "      <td>-0.389363</td>\n",
       "      <td>-0.361027</td>\n",
       "      <td>0.045473</td>\n",
       "      <td>0.474482</td>\n",
       "    </tr>\n",
       "  </tbody>\n",
       "</table>\n",
       "<p>5 rows × 132 columns</p>\n",
       "</div>"
      ],
      "text/plain": [
       "   loc_og_t2o_mou  loc_ic_t2o_mou    arpu_6    arpu_7    arpu_8  onnet_mou_6  \\\n",
       "0             0.0             0.0 -0.937333 -0.962164 -0.690266    -0.541112   \n",
       "1             0.0             0.0 -0.557229  0.734039 -1.270703     0.359663   \n",
       "2             0.0             0.0  0.917796 -0.104662 -1.314153     0.162300   \n",
       "3             0.0             0.0  1.149039  0.893115  1.453948    -0.500992   \n",
       "4             0.0             0.0  0.032562  0.867368  1.309373    -0.361316   \n",
       "\n",
       "   onnet_mou_7  onnet_mou_8  offnet_mou_6  offnet_mou_7  ...       aon  \\\n",
       "0    -0.482372    -0.401243     -0.471422     -0.454758  ... -0.010642   \n",
       "1     0.307865    -0.346876     -0.483194     -0.502112  ...  0.179571   \n",
       "2    -0.497595    -0.535449     -0.305426     -0.374292  ... -0.196299   \n",
       "3    -0.455500    -0.400133      0.924916      0.703197  ... -0.481049   \n",
       "4    -0.358261     0.456073      0.735257      1.687386  ... -0.785163   \n",
       "\n",
       "   aug_vbc_3g  jul_vbc_3g  jun_vbc_3g  total_data_rech_6  total_data_rech_7  \\\n",
       "0    2.265401    3.121323    1.344517           3.995525           4.271170   \n",
       "1    0.164814    2.287715   -0.342415          -0.433079           0.903512   \n",
       "2   -0.333901   -0.346372   -0.078668          -0.433079          -0.419634   \n",
       "3   -0.333901   -0.346372   -0.342415           0.025806           1.524581   \n",
       "4   -0.333901   -0.346372   -0.342415          -0.433079          -0.419634   \n",
       "\n",
       "   total_data_rech_8  amt_data_6  amt_data_7  amt_data_8  \n",
       "0           5.729637    2.865348    3.123307    3.853012  \n",
       "1          -0.389363   -0.658560    1.140503   -1.000651  \n",
       "2          -0.389363    0.134862   -0.486539   -1.000651  \n",
       "3           1.779460    0.235589    1.318384    2.383369  \n",
       "4          -0.389363   -0.361027    0.045473    0.474482  \n",
       "\n",
       "[5 rows x 132 columns]"
      ]
     },
     "execution_count": 236,
     "metadata": {},
     "output_type": "execute_result"
    }
   ],
   "source": [
    "X_train_scale.head()"
   ]
  },
  {
   "cell_type": "code",
   "execution_count": 237,
   "id": "1d9ee0f7",
   "metadata": {},
   "outputs": [
    {
     "data": {
      "text/html": [
       "<div>\n",
       "<style scoped>\n",
       "    .dataframe tbody tr th:only-of-type {\n",
       "        vertical-align: middle;\n",
       "    }\n",
       "\n",
       "    .dataframe tbody tr th {\n",
       "        vertical-align: top;\n",
       "    }\n",
       "\n",
       "    .dataframe thead th {\n",
       "        text-align: right;\n",
       "    }\n",
       "</style>\n",
       "<table border=\"1\" class=\"dataframe\">\n",
       "  <thead>\n",
       "    <tr style=\"text-align: right;\">\n",
       "      <th></th>\n",
       "      <th>columns</th>\n",
       "      <th>feature_importance</th>\n",
       "    </tr>\n",
       "  </thead>\n",
       "  <tbody>\n",
       "    <tr>\n",
       "      <th>13</th>\n",
       "      <td>roam_ic_mou_8</td>\n",
       "      <td>0.086324</td>\n",
       "    </tr>\n",
       "    <tr>\n",
       "      <th>16</th>\n",
       "      <td>roam_og_mou_8</td>\n",
       "      <td>0.076118</td>\n",
       "    </tr>\n",
       "    <tr>\n",
       "      <th>131</th>\n",
       "      <td>amt_data_8</td>\n",
       "      <td>0.063890</td>\n",
       "    </tr>\n",
       "    <tr>\n",
       "      <th>82</th>\n",
       "      <td>total_ic_mou_8</td>\n",
       "      <td>0.048324</td>\n",
       "    </tr>\n",
       "    <tr>\n",
       "      <th>67</th>\n",
       "      <td>loc_ic_mou_8</td>\n",
       "      <td>0.045516</td>\n",
       "    </tr>\n",
       "    <tr>\n",
       "      <th>61</th>\n",
       "      <td>loc_ic_t2m_mou_8</td>\n",
       "      <td>0.034178</td>\n",
       "    </tr>\n",
       "    <tr>\n",
       "      <th>97</th>\n",
       "      <td>max_rech_amt_8</td>\n",
       "      <td>0.025405</td>\n",
       "    </tr>\n",
       "    <tr>\n",
       "      <th>100</th>\n",
       "      <td>last_day_rch_amt_8</td>\n",
       "      <td>0.025237</td>\n",
       "    </tr>\n",
       "    <tr>\n",
       "      <th>22</th>\n",
       "      <td>loc_og_t2m_mou_8</td>\n",
       "      <td>0.024748</td>\n",
       "    </tr>\n",
       "    <tr>\n",
       "      <th>4</th>\n",
       "      <td>arpu_8</td>\n",
       "      <td>0.022328</td>\n",
       "    </tr>\n",
       "    <tr>\n",
       "      <th>103</th>\n",
       "      <td>max_rech_data_8</td>\n",
       "      <td>0.018418</td>\n",
       "    </tr>\n",
       "    <tr>\n",
       "      <th>55</th>\n",
       "      <td>total_og_mou_8</td>\n",
       "      <td>0.017515</td>\n",
       "    </tr>\n",
       "    <tr>\n",
       "      <th>31</th>\n",
       "      <td>loc_og_mou_8</td>\n",
       "      <td>0.016387</td>\n",
       "    </tr>\n",
       "    <tr>\n",
       "      <th>128</th>\n",
       "      <td>total_data_rech_8</td>\n",
       "      <td>0.016013</td>\n",
       "    </tr>\n",
       "    <tr>\n",
       "      <th>58</th>\n",
       "      <td>loc_ic_t2t_mou_8</td>\n",
       "      <td>0.014309</td>\n",
       "    </tr>\n",
       "    <tr>\n",
       "      <th>94</th>\n",
       "      <td>total_rech_num_8</td>\n",
       "      <td>0.012497</td>\n",
       "    </tr>\n",
       "    <tr>\n",
       "      <th>10</th>\n",
       "      <td>offnet_mou_8</td>\n",
       "      <td>0.011142</td>\n",
       "    </tr>\n",
       "    <tr>\n",
       "      <th>69</th>\n",
       "      <td>std_ic_t2t_mou_7</td>\n",
       "      <td>0.010150</td>\n",
       "    </tr>\n",
       "    <tr>\n",
       "      <th>48</th>\n",
       "      <td>spl_og_mou_7</td>\n",
       "      <td>0.009585</td>\n",
       "    </tr>\n",
       "    <tr>\n",
       "      <th>99</th>\n",
       "      <td>last_day_rch_amt_7</td>\n",
       "      <td>0.008083</td>\n",
       "    </tr>\n",
       "    <tr>\n",
       "      <th>122</th>\n",
       "      <td>aon</td>\n",
       "      <td>0.007617</td>\n",
       "    </tr>\n",
       "    <tr>\n",
       "      <th>19</th>\n",
       "      <td>loc_og_t2t_mou_8</td>\n",
       "      <td>0.007313</td>\n",
       "    </tr>\n",
       "    <tr>\n",
       "      <th>79</th>\n",
       "      <td>std_ic_mou_8</td>\n",
       "      <td>0.006826</td>\n",
       "    </tr>\n",
       "    <tr>\n",
       "      <th>66</th>\n",
       "      <td>loc_ic_mou_7</td>\n",
       "      <td>0.006517</td>\n",
       "    </tr>\n",
       "    <tr>\n",
       "      <th>96</th>\n",
       "      <td>max_rech_amt_7</td>\n",
       "      <td>0.006382</td>\n",
       "    </tr>\n",
       "    <tr>\n",
       "      <th>15</th>\n",
       "      <td>roam_og_mou_7</td>\n",
       "      <td>0.006337</td>\n",
       "    </tr>\n",
       "    <tr>\n",
       "      <th>83</th>\n",
       "      <td>spl_ic_mou_6</td>\n",
       "      <td>0.006220</td>\n",
       "    </tr>\n",
       "    <tr>\n",
       "      <th>81</th>\n",
       "      <td>total_ic_mou_7</td>\n",
       "      <td>0.006161</td>\n",
       "    </tr>\n",
       "    <tr>\n",
       "      <th>32</th>\n",
       "      <td>std_og_t2t_mou_6</td>\n",
       "      <td>0.006063</td>\n",
       "    </tr>\n",
       "    <tr>\n",
       "      <th>43</th>\n",
       "      <td>std_og_mou_8</td>\n",
       "      <td>0.005980</td>\n",
       "    </tr>\n",
       "    <tr>\n",
       "      <th>98</th>\n",
       "      <td>last_day_rch_amt_6</td>\n",
       "      <td>0.005922</td>\n",
       "    </tr>\n",
       "    <tr>\n",
       "      <th>73</th>\n",
       "      <td>std_ic_t2m_mou_8</td>\n",
       "      <td>0.005916</td>\n",
       "    </tr>\n",
       "    <tr>\n",
       "      <th>80</th>\n",
       "      <td>total_ic_mou_6</td>\n",
       "      <td>0.005688</td>\n",
       "    </tr>\n",
       "    <tr>\n",
       "      <th>65</th>\n",
       "      <td>loc_ic_mou_6</td>\n",
       "      <td>0.005680</td>\n",
       "    </tr>\n",
       "    <tr>\n",
       "      <th>95</th>\n",
       "      <td>max_rech_amt_6</td>\n",
       "      <td>0.005563</td>\n",
       "    </tr>\n",
       "    <tr>\n",
       "      <th>3</th>\n",
       "      <td>arpu_7</td>\n",
       "      <td>0.005477</td>\n",
       "    </tr>\n",
       "    <tr>\n",
       "      <th>102</th>\n",
       "      <td>max_rech_data_7</td>\n",
       "      <td>0.005416</td>\n",
       "    </tr>\n",
       "    <tr>\n",
       "      <th>109</th>\n",
       "      <td>vol_3g_mb_8</td>\n",
       "      <td>0.005407</td>\n",
       "    </tr>\n",
       "    <tr>\n",
       "      <th>33</th>\n",
       "      <td>std_og_t2t_mou_7</td>\n",
       "      <td>0.005349</td>\n",
       "    </tr>\n",
       "    <tr>\n",
       "      <th>59</th>\n",
       "      <td>loc_ic_t2m_mou_6</td>\n",
       "      <td>0.005249</td>\n",
       "    </tr>\n",
       "  </tbody>\n",
       "</table>\n",
       "</div>"
      ],
      "text/plain": [
       "                columns  feature_importance\n",
       "13        roam_ic_mou_8            0.086324\n",
       "16        roam_og_mou_8            0.076118\n",
       "131          amt_data_8            0.063890\n",
       "82       total_ic_mou_8            0.048324\n",
       "67         loc_ic_mou_8            0.045516\n",
       "61     loc_ic_t2m_mou_8            0.034178\n",
       "97       max_rech_amt_8            0.025405\n",
       "100  last_day_rch_amt_8            0.025237\n",
       "22     loc_og_t2m_mou_8            0.024748\n",
       "4                arpu_8            0.022328\n",
       "103     max_rech_data_8            0.018418\n",
       "55       total_og_mou_8            0.017515\n",
       "31         loc_og_mou_8            0.016387\n",
       "128   total_data_rech_8            0.016013\n",
       "58     loc_ic_t2t_mou_8            0.014309\n",
       "94     total_rech_num_8            0.012497\n",
       "10         offnet_mou_8            0.011142\n",
       "69     std_ic_t2t_mou_7            0.010150\n",
       "48         spl_og_mou_7            0.009585\n",
       "99   last_day_rch_amt_7            0.008083\n",
       "122                 aon            0.007617\n",
       "19     loc_og_t2t_mou_8            0.007313\n",
       "79         std_ic_mou_8            0.006826\n",
       "66         loc_ic_mou_7            0.006517\n",
       "96       max_rech_amt_7            0.006382\n",
       "15        roam_og_mou_7            0.006337\n",
       "83         spl_ic_mou_6            0.006220\n",
       "81       total_ic_mou_7            0.006161\n",
       "32     std_og_t2t_mou_6            0.006063\n",
       "43         std_og_mou_8            0.005980\n",
       "98   last_day_rch_amt_6            0.005922\n",
       "73     std_ic_t2m_mou_8            0.005916\n",
       "80       total_ic_mou_6            0.005688\n",
       "65         loc_ic_mou_6            0.005680\n",
       "95       max_rech_amt_6            0.005563\n",
       "3                arpu_7            0.005477\n",
       "102     max_rech_data_7            0.005416\n",
       "109         vol_3g_mb_8            0.005407\n",
       "33     std_og_t2t_mou_7            0.005349\n",
       "59     loc_ic_t2m_mou_6            0.005249"
      ]
     },
     "execution_count": 237,
     "metadata": {},
     "output_type": "execute_result"
    }
   ],
   "source": [
    "#check 40 important features\n",
    "fi40 = Feature_importance_df.sort_values(by=\"feature_importance\",ascending=False).head(40)\n",
    "fi40\n"
   ]
  },
  {
   "cell_type": "code",
   "execution_count": 238,
   "id": "7ecadcc3",
   "metadata": {},
   "outputs": [
    {
     "data": {
      "image/png": "[encoded data removed]",
      "text/plain": [
       "<Figure size 1500x1500 with 1 Axes>"
      ]
     },
     "metadata": {},
     "output_type": "display_data"
    }
   ],
   "source": [
    "#Plot to show the feature importance\n",
    "plt.figure(figsize=[15,15])\n",
    "sns.barplot(x = \"columns\",y=\"feature_importance\",data=fi40)\n",
    "plt.title(\"Feature Importance\",size=15)\n",
    "plt.xticks(rotation=\"vertical\")\n",
    "plt.ylabel(\"Coefficient Magnitude\",size=15)\n",
    "plt.xlabel(\"Features\",size=15)\n",
    "plt.tick_params(size=5,labelsize = 15) # Tick size in both X and Y axes\n",
    "plt.grid(0.3)"
   ]
  },
  {
   "cell_type": "markdown",
   "id": "fd159ff8",
   "metadata": {},
   "source": [
    "\n",
    "### Conclusion:\n",
    "\n",
    "1. The most important features are as shown in above graph.\n",
    "2. Top 5 important features are roam_ic_mou_8, roam_og_mou_8, amt_data_8, total_ic_mou_8,loc_ic_mou_8 so basically maximum columns are of August Month.\n",
    "3. Only around 6.1% of high paying customers have a probability to churn and rest 93.9% will not churn. Hence, it's a highly imbalanced dataset.\n",
    "4. Average revenue per user in month 6,7,8 is approximately same for non churn customers but varies significantly for customers with high churn probability. The average revenue decreases significantly by month. \n",
    "5. The average recharge decreases considerably on monthly basis when the customer is about to churn. Hence, if recharge value is decreasing then it suggests that the customer might churn.\n",
    "6. Average total incoming call minutes decreases drastically when customer is about to churn. Hence, it's a good variable for model training.\n",
    "7. Average local outgoing call minutes decreases drastically when customer is about to churn. This means that customer begins to limit usage of calling with current network.\n",
    "8. Average roaming incoming and outgoing minutes are also high when customer is about to churn. This may be due to high roaming costs. Company should take the romaing pricing into consideration to prevent customer churn.\n",
    "\n",
    "### Recommendations:\n",
    "\n",
    "Hence, in order to prevent churn, company can:\n",
    "\n",
    "1. Reduce the pricing for customers using high volume of roaming.\n",
    "2. Discounts on data and providing customized plans for same.\n",
    "3. Check for customers whose revenues are decreasing drastically and provide them some good plans to avpid churn."
   ]
  },
  {
   "cell_type": "markdown",
   "id": "0e3bb0fb",
   "metadata": {},
   "source": [
    "## Train Gradient boosting model on all training data for highend customers"
   ]
  },
  {
   "cell_type": "code",
   "execution_count": 386,
   "id": "45154a1b",
   "metadata": {},
   "outputs": [],
   "source": [
    "# scaling all columns of X\n",
    "cols = X.columns.to_list()\n",
    "scaler=StandardScaler()\n",
    "X_scale = pd.DataFrame(scaler.fit_transform(X[cols]),columns=cols)"
   ]
  },
  {
   "cell_type": "code",
   "execution_count": 387,
   "id": "9d604daa",
   "metadata": {},
   "outputs": [],
   "source": [
    "# performing PCA\n",
    "X_pca_final = pca_final.fit_transform(X_scale)"
   ]
  },
  {
   "cell_type": "code",
   "execution_count": 388,
   "id": "e62e761e",
   "metadata": {},
   "outputs": [
    {
     "data": {
      "text/plain": [
       "(23193, 57)"
      ]
     },
     "execution_count": 388,
     "metadata": {},
     "output_type": "execute_result"
    }
   ],
   "source": [
    "X_pca_final.shape"
   ]
  },
  {
   "cell_type": "code",
   "execution_count": 389,
   "id": "d285188f",
   "metadata": {},
   "outputs": [],
   "source": [
    "# Instantiate the model with best hyperparameters\n",
    "gb_pca_final = GradientBoostingClassifier(max_depth = 10, subsample = 1,n_estimators = 300,max_features=10,learning_rate=0.2)\n",
    "\n",
    "# Fit the model on the train set\n",
    "gb_model_pca_final = gb_pca.fit(X_pca_final, y)\n",
    "\n",
    "# Predictions on the train and test set\n",
    "y_pred = gb_model_pca_final.predict(X_pca_final)"
   ]
  },
  {
   "cell_type": "markdown",
   "id": "bf568988",
   "metadata": {},
   "source": [
    "### Now we will do preprocessing on test.csv data and then use Gradient Boosting model for predictiion."
   ]
  },
  {
   "cell_type": "code",
   "execution_count": 390,
   "id": "47db4d7c",
   "metadata": {},
   "outputs": [],
   "source": [
    "test = pd.read_csv(\"data/test.csv\")"
   ]
  },
  {
   "cell_type": "code",
   "execution_count": 309,
   "id": "63464af4",
   "metadata": {},
   "outputs": [],
   "source": [
    "# create a list of recharge columns where we will impute missing values with zeroes\n",
    "zero_impute = ['total_rech_data_6', 'total_rech_data_7', 'total_rech_data_8',\n",
    "        'av_rech_amt_data_6', 'av_rech_amt_data_7', 'av_rech_amt_data_8',\n",
    "        'max_rech_data_6', 'max_rech_data_7', 'max_rech_data_8']\n",
    "# impute missing values with 0\n",
    "test[zero_impute] = test[zero_impute].apply(lambda x: x.fillna(0))"
   ]
  },
  {
   "cell_type": "code",
   "execution_count": 391,
   "id": "31f6c98d",
   "metadata": {},
   "outputs": [],
   "source": [
    "# calculate the total data recharge amount for June,July and August --> number of recharges * average recharge amount\n",
    "test['total_data_rech_6'] = test.total_rech_data_6 * test.av_rech_amt_data_6\n",
    "test['total_data_rech_7'] = test.total_rech_data_7 * test.av_rech_amt_data_7\n",
    "test['total_data_rech_8'] = test.total_rech_data_8 * test.av_rech_amt_data_8"
   ]
  },
  {
   "cell_type": "code",
   "execution_count": 392,
   "id": "70a6decf",
   "metadata": {},
   "outputs": [],
   "source": [
    "# calculate total recharge amount for June,July and August --> call recharge amount + data recharge amount\n",
    "test['amt_data_6'] = test.total_rech_amt_6 + test.total_data_rech_6\n",
    "test['amt_data_7'] = test.total_rech_amt_7 + test.total_data_rech_7\n",
    "test['amt_data_8'] = test.total_rech_amt_8 + test.total_data_rech_8"
   ]
  },
  {
   "cell_type": "code",
   "execution_count": 393,
   "id": "8b9cfb98",
   "metadata": {},
   "outputs": [],
   "source": [
    "# getting only the columns used to train the model\n",
    "cols = X.columns.to_list()\n",
    "test_new = test.loc[:,cols]"
   ]
  },
  {
   "cell_type": "code",
   "execution_count": 394,
   "id": "79733cdf",
   "metadata": {},
   "outputs": [
    {
     "data": {
      "text/html": [
       "<div>\n",
       "<style scoped>\n",
       "    .dataframe tbody tr th:only-of-type {\n",
       "        vertical-align: middle;\n",
       "    }\n",
       "\n",
       "    .dataframe tbody tr th {\n",
       "        vertical-align: top;\n",
       "    }\n",
       "\n",
       "    .dataframe thead th {\n",
       "        text-align: right;\n",
       "    }\n",
       "</style>\n",
       "<table border=\"1\" class=\"dataframe\">\n",
       "  <thead>\n",
       "    <tr style=\"text-align: right;\">\n",
       "      <th></th>\n",
       "      <th>loc_og_t2o_mou</th>\n",
       "      <th>loc_ic_t2o_mou</th>\n",
       "      <th>arpu_6</th>\n",
       "      <th>arpu_7</th>\n",
       "      <th>arpu_8</th>\n",
       "      <th>onnet_mou_6</th>\n",
       "      <th>onnet_mou_7</th>\n",
       "      <th>onnet_mou_8</th>\n",
       "      <th>offnet_mou_6</th>\n",
       "      <th>offnet_mou_7</th>\n",
       "      <th>...</th>\n",
       "      <th>aon</th>\n",
       "      <th>aug_vbc_3g</th>\n",
       "      <th>jul_vbc_3g</th>\n",
       "      <th>jun_vbc_3g</th>\n",
       "      <th>total_data_rech_6</th>\n",
       "      <th>total_data_rech_7</th>\n",
       "      <th>total_data_rech_8</th>\n",
       "      <th>amt_data_6</th>\n",
       "      <th>amt_data_7</th>\n",
       "      <th>amt_data_8</th>\n",
       "    </tr>\n",
       "  </thead>\n",
       "  <tbody>\n",
       "    <tr>\n",
       "      <th>0</th>\n",
       "      <td>0.0</td>\n",
       "      <td>0.0</td>\n",
       "      <td>91.882</td>\n",
       "      <td>65.330</td>\n",
       "      <td>64.445</td>\n",
       "      <td>31.78</td>\n",
       "      <td>20.23</td>\n",
       "      <td>23.11</td>\n",
       "      <td>60.16</td>\n",
       "      <td>32.16</td>\n",
       "      <td>...</td>\n",
       "      <td>1692</td>\n",
       "      <td>0.00</td>\n",
       "      <td>0.00</td>\n",
       "      <td>0.00</td>\n",
       "      <td>NaN</td>\n",
       "      <td>NaN</td>\n",
       "      <td>NaN</td>\n",
       "      <td>NaN</td>\n",
       "      <td>NaN</td>\n",
       "      <td>NaN</td>\n",
       "    </tr>\n",
       "    <tr>\n",
       "      <th>1</th>\n",
       "      <td>0.0</td>\n",
       "      <td>0.0</td>\n",
       "      <td>414.168</td>\n",
       "      <td>515.568</td>\n",
       "      <td>360.868</td>\n",
       "      <td>75.51</td>\n",
       "      <td>41.21</td>\n",
       "      <td>19.84</td>\n",
       "      <td>474.34</td>\n",
       "      <td>621.84</td>\n",
       "      <td>...</td>\n",
       "      <td>2533</td>\n",
       "      <td>0.00</td>\n",
       "      <td>0.00</td>\n",
       "      <td>0.00</td>\n",
       "      <td>NaN</td>\n",
       "      <td>NaN</td>\n",
       "      <td>NaN</td>\n",
       "      <td>NaN</td>\n",
       "      <td>NaN</td>\n",
       "      <td>NaN</td>\n",
       "    </tr>\n",
       "    <tr>\n",
       "      <th>2</th>\n",
       "      <td>0.0</td>\n",
       "      <td>0.0</td>\n",
       "      <td>329.844</td>\n",
       "      <td>434.884</td>\n",
       "      <td>746.239</td>\n",
       "      <td>7.54</td>\n",
       "      <td>7.86</td>\n",
       "      <td>8.40</td>\n",
       "      <td>16.98</td>\n",
       "      <td>45.81</td>\n",
       "      <td>...</td>\n",
       "      <td>277</td>\n",
       "      <td>525.61</td>\n",
       "      <td>758.41</td>\n",
       "      <td>241.84</td>\n",
       "      <td>NaN</td>\n",
       "      <td>NaN</td>\n",
       "      <td>NaN</td>\n",
       "      <td>NaN</td>\n",
       "      <td>NaN</td>\n",
       "      <td>NaN</td>\n",
       "    </tr>\n",
       "    <tr>\n",
       "      <th>3</th>\n",
       "      <td>0.0</td>\n",
       "      <td>0.0</td>\n",
       "      <td>43.550</td>\n",
       "      <td>171.390</td>\n",
       "      <td>24.400</td>\n",
       "      <td>5.31</td>\n",
       "      <td>2.16</td>\n",
       "      <td>0.00</td>\n",
       "      <td>40.04</td>\n",
       "      <td>205.01</td>\n",
       "      <td>...</td>\n",
       "      <td>1244</td>\n",
       "      <td>0.00</td>\n",
       "      <td>0.00</td>\n",
       "      <td>0.00</td>\n",
       "      <td>NaN</td>\n",
       "      <td>NaN</td>\n",
       "      <td>NaN</td>\n",
       "      <td>NaN</td>\n",
       "      <td>NaN</td>\n",
       "      <td>NaN</td>\n",
       "    </tr>\n",
       "    <tr>\n",
       "      <th>4</th>\n",
       "      <td>0.0</td>\n",
       "      <td>0.0</td>\n",
       "      <td>306.854</td>\n",
       "      <td>406.289</td>\n",
       "      <td>413.329</td>\n",
       "      <td>450.93</td>\n",
       "      <td>609.03</td>\n",
       "      <td>700.68</td>\n",
       "      <td>60.94</td>\n",
       "      <td>23.84</td>\n",
       "      <td>...</td>\n",
       "      <td>462</td>\n",
       "      <td>0.00</td>\n",
       "      <td>0.00</td>\n",
       "      <td>0.00</td>\n",
       "      <td>NaN</td>\n",
       "      <td>NaN</td>\n",
       "      <td>NaN</td>\n",
       "      <td>NaN</td>\n",
       "      <td>NaN</td>\n",
       "      <td>NaN</td>\n",
       "    </tr>\n",
       "  </tbody>\n",
       "</table>\n",
       "<p>5 rows × 132 columns</p>\n",
       "</div>"
      ],
      "text/plain": [
       "   loc_og_t2o_mou  loc_ic_t2o_mou   arpu_6   arpu_7   arpu_8  onnet_mou_6  \\\n",
       "0             0.0             0.0   91.882   65.330   64.445        31.78   \n",
       "1             0.0             0.0  414.168  515.568  360.868        75.51   \n",
       "2             0.0             0.0  329.844  434.884  746.239         7.54   \n",
       "3             0.0             0.0   43.550  171.390   24.400         5.31   \n",
       "4             0.0             0.0  306.854  406.289  413.329       450.93   \n",
       "\n",
       "   onnet_mou_7  onnet_mou_8  offnet_mou_6  offnet_mou_7  ...   aon  \\\n",
       "0        20.23        23.11         60.16         32.16  ...  1692   \n",
       "1        41.21        19.84        474.34        621.84  ...  2533   \n",
       "2         7.86         8.40         16.98         45.81  ...   277   \n",
       "3         2.16         0.00         40.04        205.01  ...  1244   \n",
       "4       609.03       700.68         60.94         23.84  ...   462   \n",
       "\n",
       "   aug_vbc_3g  jul_vbc_3g  jun_vbc_3g  total_data_rech_6  total_data_rech_7  \\\n",
       "0        0.00        0.00        0.00                NaN                NaN   \n",
       "1        0.00        0.00        0.00                NaN                NaN   \n",
       "2      525.61      758.41      241.84                NaN                NaN   \n",
       "3        0.00        0.00        0.00                NaN                NaN   \n",
       "4        0.00        0.00        0.00                NaN                NaN   \n",
       "\n",
       "   total_data_rech_8  amt_data_6  amt_data_7  amt_data_8  \n",
       "0                NaN         NaN         NaN         NaN  \n",
       "1                NaN         NaN         NaN         NaN  \n",
       "2                NaN         NaN         NaN         NaN  \n",
       "3                NaN         NaN         NaN         NaN  \n",
       "4                NaN         NaN         NaN         NaN  \n",
       "\n",
       "[5 rows x 132 columns]"
      ]
     },
     "execution_count": 394,
     "metadata": {},
     "output_type": "execute_result"
    }
   ],
   "source": [
    "test_new.head()"
   ]
  },
  {
   "cell_type": "code",
   "execution_count": 395,
   "id": "197699ae",
   "metadata": {},
   "outputs": [],
   "source": [
    "# getting count of null values and corresponding columns\n",
    "null_values = getNullColumns(test_new)"
   ]
  },
  {
   "cell_type": "code",
   "execution_count": 396,
   "id": "e243a75e",
   "metadata": {},
   "outputs": [
    {
     "data": {
      "text/plain": [
       "(92, 2)"
      ]
     },
     "execution_count": 396,
     "metadata": {},
     "output_type": "execute_result"
    }
   ],
   "source": [
    "null_values.shape"
   ]
  },
  {
   "cell_type": "code",
   "execution_count": 397,
   "id": "d81b8e5f",
   "metadata": {},
   "outputs": [
    {
     "data": {
      "text/html": [
       "<div>\n",
       "<style scoped>\n",
       "    .dataframe tbody tr th:only-of-type {\n",
       "        vertical-align: middle;\n",
       "    }\n",
       "\n",
       "    .dataframe tbody tr th {\n",
       "        vertical-align: top;\n",
       "    }\n",
       "\n",
       "    .dataframe thead th {\n",
       "        text-align: right;\n",
       "    }\n",
       "</style>\n",
       "<table border=\"1\" class=\"dataframe\">\n",
       "  <thead>\n",
       "    <tr style=\"text-align: right;\">\n",
       "      <th></th>\n",
       "      <th>columns</th>\n",
       "      <th>null</th>\n",
       "    </tr>\n",
       "  </thead>\n",
       "  <tbody>\n",
       "    <tr>\n",
       "      <th>89</th>\n",
       "      <td>amt_data_6</td>\n",
       "      <td>74.72</td>\n",
       "    </tr>\n",
       "    <tr>\n",
       "      <th>83</th>\n",
       "      <td>max_rech_data_6</td>\n",
       "      <td>74.72</td>\n",
       "    </tr>\n",
       "    <tr>\n",
       "      <th>86</th>\n",
       "      <td>total_data_rech_6</td>\n",
       "      <td>74.72</td>\n",
       "    </tr>\n",
       "    <tr>\n",
       "      <th>84</th>\n",
       "      <td>max_rech_data_7</td>\n",
       "      <td>74.31</td>\n",
       "    </tr>\n",
       "    <tr>\n",
       "      <th>90</th>\n",
       "      <td>amt_data_7</td>\n",
       "      <td>74.31</td>\n",
       "    </tr>\n",
       "    <tr>\n",
       "      <th>...</th>\n",
       "      <td>...</td>\n",
       "      <td>...</td>\n",
       "    </tr>\n",
       "    <tr>\n",
       "      <th>14</th>\n",
       "      <td>loc_og_t2t_mou_6</td>\n",
       "      <td>3.90</td>\n",
       "    </tr>\n",
       "    <tr>\n",
       "      <th>71</th>\n",
       "      <td>std_ic_mou_6</td>\n",
       "      <td>3.90</td>\n",
       "    </tr>\n",
       "    <tr>\n",
       "      <th>20</th>\n",
       "      <td>loc_og_t2f_mou_6</td>\n",
       "      <td>3.90</td>\n",
       "    </tr>\n",
       "    <tr>\n",
       "      <th>1</th>\n",
       "      <td>loc_ic_t2o_mou</td>\n",
       "      <td>1.05</td>\n",
       "    </tr>\n",
       "    <tr>\n",
       "      <th>0</th>\n",
       "      <td>loc_og_t2o_mou</td>\n",
       "      <td>1.05</td>\n",
       "    </tr>\n",
       "  </tbody>\n",
       "</table>\n",
       "<p>92 rows × 2 columns</p>\n",
       "</div>"
      ],
      "text/plain": [
       "              columns   null\n",
       "89         amt_data_6  74.72\n",
       "83    max_rech_data_6  74.72\n",
       "86  total_data_rech_6  74.72\n",
       "84    max_rech_data_7  74.31\n",
       "90         amt_data_7  74.31\n",
       "..                ...    ...\n",
       "14   loc_og_t2t_mou_6   3.90\n",
       "71       std_ic_mou_6   3.90\n",
       "20   loc_og_t2f_mou_6   3.90\n",
       "1      loc_ic_t2o_mou   1.05\n",
       "0      loc_og_t2o_mou   1.05\n",
       "\n",
       "[92 rows x 2 columns]"
      ]
     },
     "execution_count": 397,
     "metadata": {},
     "output_type": "execute_result"
    }
   ],
   "source": [
    "null_values.sort_values(by=\"null\",ascending=False)"
   ]
  },
  {
   "cell_type": "code",
   "execution_count": 398,
   "id": "c969d081",
   "metadata": {},
   "outputs": [],
   "source": [
    "# impute missing values with 0\n",
    "test_new[test_new.columns.to_list()] = test_new[test_new.columns.to_list()].apply(lambda x: x.fillna(0))"
   ]
  },
  {
   "cell_type": "code",
   "execution_count": 399,
   "id": "f204b2b4",
   "metadata": {},
   "outputs": [],
   "source": [
    "null_values = getNullColumns(test_new)"
   ]
  },
  {
   "cell_type": "code",
   "execution_count": 400,
   "id": "bdbe8317",
   "metadata": {},
   "outputs": [
    {
     "data": {
      "text/plain": [
       "(0, 2)"
      ]
     },
     "execution_count": 400,
     "metadata": {},
     "output_type": "execute_result"
    }
   ],
   "source": [
    "null_values.shape"
   ]
  },
  {
   "cell_type": "code",
   "execution_count": 401,
   "id": "079a5624",
   "metadata": {},
   "outputs": [],
   "source": [
    "# scaling test_new with same scaler object\n",
    "\n",
    "X_test_scale = pd.DataFrame(scaler.transform(test_new[test_new.columns.to_list()]))\n",
    "\n",
    "# applying PCA to test data\n",
    "X_test_pca_final = pca_final.transform(X_test_scale)"
   ]
  },
  {
   "cell_type": "code",
   "execution_count": 402,
   "id": "53c3fdca",
   "metadata": {},
   "outputs": [
    {
     "data": {
      "text/plain": [
       "(30000, 57)"
      ]
     },
     "execution_count": 402,
     "metadata": {},
     "output_type": "execute_result"
    }
   ],
   "source": [
    "X_test_pca_final.shape"
   ]
  },
  {
   "cell_type": "code",
   "execution_count": 403,
   "id": "853ee455",
   "metadata": {},
   "outputs": [],
   "source": [
    "# generating predictions on new test data\n",
    "y_test_pred = gb_model_pca_final.predict(X_test_pca_final)"
   ]
  },
  {
   "cell_type": "code",
   "execution_count": 404,
   "id": "8c767159",
   "metadata": {},
   "outputs": [],
   "source": [
    "# creating a new dataframe for predictions\n",
    "y_test_pred_df = pd.DataFrame(y_test_pred,columns=[\"churn_probability\"])"
   ]
  },
  {
   "cell_type": "code",
   "execution_count": 406,
   "id": "ca0aaedb",
   "metadata": {},
   "outputs": [],
   "source": [
    "# getting a new csv file with only 2 columns ID and churn_probability\n",
    "\n",
    "result_df = pd.concat([test,y_test_pred_df],axis=1,join='inner')\n",
    "result_df = result_df.loc[:,[\"id\",\"churn_probability\"]]"
   ]
  },
  {
   "cell_type": "code",
   "execution_count": 409,
   "id": "f29a9dd6",
   "metadata": {},
   "outputs": [],
   "source": [
    "# saving results as submission.csv \n",
    "result_df.to_csv('submission.csv')"
   ]
  }
 ],
 "metadata": {
  "kernelspec": {
   "display_name": "conda_python3",
   "language": "python",
   "name": "conda_python3"
  },
  "language_info": {
   "codemirror_mode": {
    "name": "ipython",
    "version": 3
   },
   "file_extension": ".py",
   "mimetype": "text/x-python",
   "name": "python",
   "nbconvert_exporter": "python",
   "pygments_lexer": "ipython3",
   "version": "3.10.8"
  }
 },
 "nbformat": 4,
 "nbformat_minor": 5
}
